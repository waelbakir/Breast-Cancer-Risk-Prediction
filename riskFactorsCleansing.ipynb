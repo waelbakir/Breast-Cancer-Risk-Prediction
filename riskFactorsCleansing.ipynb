{
 "cells": [
  {
   "cell_type": "code",
   "execution_count": 65,
   "id": "cde0f305-7a04-439c-a1f8-eb8b6fb23072",
   "metadata": {},
   "outputs": [],
   "source": [
    "import pandas as pd\n",
    "import numpy as np\n",
    "import plotly.express as px\n",
    "import matplotlib.pyplot as plt\n",
    "import seaborn as sns\n",
    "import time\n",
    "from sklearn.model_selection import train_test_split\n",
    "from sklearn.model_selection import cross_val_score\n",
    "from sklearn.metrics import make_scorer, recall_score, accuracy_score, precision_score, f1_score, classification_report\n",
    "\n",
    "# k-NN\n",
    "from sklearn.neighbors import KNeighborsClassifier\n",
    "\n",
    "# Naive Bayes\n",
    "from sklearn.naive_bayes import GaussianNB\n",
    "\n",
    "# AdaBoost\n",
    "from sklearn.ensemble import AdaBoostClassifier\n",
    "\n",
    "# Gradient Boosting\n",
    "from sklearn.ensemble import GradientBoostingClassifier\n",
    "\n",
    "# Linear Discriminant Analysis (LDA)\n",
    "from sklearn.discriminant_analysis import LinearDiscriminantAnalysis\n",
    "\n",
    "# Decision Tree\n",
    "from sklearn.tree import DecisionTreeClassifier\n",
    "\n",
    "# Random Forest\n",
    "from sklearn.ensemble import RandomForestClassifier\n",
    "\n",
    "# XGBoost\n",
    "from xgboost import XGBClassifier\n",
    "\n",
    "# CatBoost\n",
    "from catboost import CatBoostClassifier\n",
    "from imblearn.over_sampling import RandomOverSampler\n"
   ]
  },
  {
   "cell_type": "code",
   "execution_count": 66,
   "id": "9fa0e3a2-9722-490e-a4c2-29892a4ba5dc",
   "metadata": {},
   "outputs": [],
   "source": [
    "df=pd.read_csv(r\"D:\\Y2S1\\project\\dataSets\\bcsc_risk_factors_summarized1_092020\\bcsc_risk_factors_summarized1_092020.csv\")"
   ]
  },
  {
   "cell_type": "code",
   "execution_count": 67,
   "id": "2b293fa6-8333-4380-a59a-027238ae47a9",
   "metadata": {},
   "outputs": [
    {
     "data": {
      "text/html": [
       "<div>\n",
       "<style scoped>\n",
       "    .dataframe tbody tr th:only-of-type {\n",
       "        vertical-align: middle;\n",
       "    }\n",
       "\n",
       "    .dataframe tbody tr th {\n",
       "        vertical-align: top;\n",
       "    }\n",
       "\n",
       "    .dataframe thead th {\n",
       "        text-align: right;\n",
       "    }\n",
       "</style>\n",
       "<table border=\"1\" class=\"dataframe\">\n",
       "  <thead>\n",
       "    <tr style=\"text-align: right;\">\n",
       "      <th></th>\n",
       "      <th>year</th>\n",
       "      <th>age_group_5_years</th>\n",
       "      <th>race_eth</th>\n",
       "      <th>first_degree_hx</th>\n",
       "      <th>age_menarche</th>\n",
       "      <th>age_first_birth</th>\n",
       "      <th>BIRADS_breast_density</th>\n",
       "      <th>current_hrt</th>\n",
       "      <th>menopaus</th>\n",
       "      <th>bmi_group</th>\n",
       "      <th>biophx</th>\n",
       "      <th>breast_cancer_history</th>\n",
       "      <th>count</th>\n",
       "    </tr>\n",
       "  </thead>\n",
       "  <tbody>\n",
       "    <tr>\n",
       "      <th>0</th>\n",
       "      <td>2013</td>\n",
       "      <td>7</td>\n",
       "      <td>1</td>\n",
       "      <td>0</td>\n",
       "      <td>9</td>\n",
       "      <td>3</td>\n",
       "      <td>1</td>\n",
       "      <td>1</td>\n",
       "      <td>2</td>\n",
       "      <td>3</td>\n",
       "      <td>0</td>\n",
       "      <td>0</td>\n",
       "      <td>7</td>\n",
       "    </tr>\n",
       "    <tr>\n",
       "      <th>1</th>\n",
       "      <td>2013</td>\n",
       "      <td>7</td>\n",
       "      <td>1</td>\n",
       "      <td>0</td>\n",
       "      <td>9</td>\n",
       "      <td>3</td>\n",
       "      <td>1</td>\n",
       "      <td>1</td>\n",
       "      <td>2</td>\n",
       "      <td>3</td>\n",
       "      <td>1</td>\n",
       "      <td>0</td>\n",
       "      <td>3</td>\n",
       "    </tr>\n",
       "    <tr>\n",
       "      <th>2</th>\n",
       "      <td>2013</td>\n",
       "      <td>7</td>\n",
       "      <td>1</td>\n",
       "      <td>0</td>\n",
       "      <td>9</td>\n",
       "      <td>3</td>\n",
       "      <td>1</td>\n",
       "      <td>1</td>\n",
       "      <td>2</td>\n",
       "      <td>4</td>\n",
       "      <td>0</td>\n",
       "      <td>0</td>\n",
       "      <td>6</td>\n",
       "    </tr>\n",
       "    <tr>\n",
       "      <th>3</th>\n",
       "      <td>2013</td>\n",
       "      <td>7</td>\n",
       "      <td>1</td>\n",
       "      <td>0</td>\n",
       "      <td>9</td>\n",
       "      <td>3</td>\n",
       "      <td>1</td>\n",
       "      <td>1</td>\n",
       "      <td>2</td>\n",
       "      <td>4</td>\n",
       "      <td>1</td>\n",
       "      <td>0</td>\n",
       "      <td>1</td>\n",
       "    </tr>\n",
       "    <tr>\n",
       "      <th>4</th>\n",
       "      <td>2013</td>\n",
       "      <td>7</td>\n",
       "      <td>1</td>\n",
       "      <td>0</td>\n",
       "      <td>9</td>\n",
       "      <td>3</td>\n",
       "      <td>1</td>\n",
       "      <td>1</td>\n",
       "      <td>2</td>\n",
       "      <td>4</td>\n",
       "      <td>1</td>\n",
       "      <td>1</td>\n",
       "      <td>1</td>\n",
       "    </tr>\n",
       "    <tr>\n",
       "      <th>...</th>\n",
       "      <td>...</td>\n",
       "      <td>...</td>\n",
       "      <td>...</td>\n",
       "      <td>...</td>\n",
       "      <td>...</td>\n",
       "      <td>...</td>\n",
       "      <td>...</td>\n",
       "      <td>...</td>\n",
       "      <td>...</td>\n",
       "      <td>...</td>\n",
       "      <td>...</td>\n",
       "      <td>...</td>\n",
       "      <td>...</td>\n",
       "    </tr>\n",
       "    <tr>\n",
       "      <th>509405</th>\n",
       "      <td>2017</td>\n",
       "      <td>13</td>\n",
       "      <td>9</td>\n",
       "      <td>9</td>\n",
       "      <td>9</td>\n",
       "      <td>9</td>\n",
       "      <td>1</td>\n",
       "      <td>9</td>\n",
       "      <td>2</td>\n",
       "      <td>9</td>\n",
       "      <td>1</td>\n",
       "      <td>0</td>\n",
       "      <td>1</td>\n",
       "    </tr>\n",
       "    <tr>\n",
       "      <th>509406</th>\n",
       "      <td>2017</td>\n",
       "      <td>13</td>\n",
       "      <td>9</td>\n",
       "      <td>9</td>\n",
       "      <td>9</td>\n",
       "      <td>9</td>\n",
       "      <td>2</td>\n",
       "      <td>0</td>\n",
       "      <td>2</td>\n",
       "      <td>9</td>\n",
       "      <td>0</td>\n",
       "      <td>0</td>\n",
       "      <td>1</td>\n",
       "    </tr>\n",
       "    <tr>\n",
       "      <th>509407</th>\n",
       "      <td>2017</td>\n",
       "      <td>13</td>\n",
       "      <td>9</td>\n",
       "      <td>9</td>\n",
       "      <td>9</td>\n",
       "      <td>9</td>\n",
       "      <td>2</td>\n",
       "      <td>9</td>\n",
       "      <td>2</td>\n",
       "      <td>9</td>\n",
       "      <td>9</td>\n",
       "      <td>9</td>\n",
       "      <td>1</td>\n",
       "    </tr>\n",
       "    <tr>\n",
       "      <th>509408</th>\n",
       "      <td>2017</td>\n",
       "      <td>13</td>\n",
       "      <td>9</td>\n",
       "      <td>9</td>\n",
       "      <td>9</td>\n",
       "      <td>9</td>\n",
       "      <td>3</td>\n",
       "      <td>0</td>\n",
       "      <td>2</td>\n",
       "      <td>9</td>\n",
       "      <td>0</td>\n",
       "      <td>0</td>\n",
       "      <td>1</td>\n",
       "    </tr>\n",
       "    <tr>\n",
       "      <th>509409</th>\n",
       "      <td>2017</td>\n",
       "      <td>13</td>\n",
       "      <td>9</td>\n",
       "      <td>9</td>\n",
       "      <td>9</td>\n",
       "      <td>9</td>\n",
       "      <td>3</td>\n",
       "      <td>9</td>\n",
       "      <td>2</td>\n",
       "      <td>9</td>\n",
       "      <td>9</td>\n",
       "      <td>0</td>\n",
       "      <td>1</td>\n",
       "    </tr>\n",
       "  </tbody>\n",
       "</table>\n",
       "<p>509410 rows × 13 columns</p>\n",
       "</div>"
      ],
      "text/plain": [
       "        year  age_group_5_years  race_eth  first_degree_hx  age_menarche  \\\n",
       "0       2013                  7         1                0             9   \n",
       "1       2013                  7         1                0             9   \n",
       "2       2013                  7         1                0             9   \n",
       "3       2013                  7         1                0             9   \n",
       "4       2013                  7         1                0             9   \n",
       "...      ...                ...       ...              ...           ...   \n",
       "509405  2017                 13         9                9             9   \n",
       "509406  2017                 13         9                9             9   \n",
       "509407  2017                 13         9                9             9   \n",
       "509408  2017                 13         9                9             9   \n",
       "509409  2017                 13         9                9             9   \n",
       "\n",
       "        age_first_birth  BIRADS_breast_density  current_hrt  menopaus  \\\n",
       "0                     3                      1            1         2   \n",
       "1                     3                      1            1         2   \n",
       "2                     3                      1            1         2   \n",
       "3                     3                      1            1         2   \n",
       "4                     3                      1            1         2   \n",
       "...                 ...                    ...          ...       ...   \n",
       "509405                9                      1            9         2   \n",
       "509406                9                      2            0         2   \n",
       "509407                9                      2            9         2   \n",
       "509408                9                      3            0         2   \n",
       "509409                9                      3            9         2   \n",
       "\n",
       "        bmi_group  biophx  breast_cancer_history  count  \n",
       "0               3       0                      0      7  \n",
       "1               3       1                      0      3  \n",
       "2               4       0                      0      6  \n",
       "3               4       1                      0      1  \n",
       "4               4       1                      1      1  \n",
       "...           ...     ...                    ...    ...  \n",
       "509405          9       1                      0      1  \n",
       "509406          9       0                      0      1  \n",
       "509407          9       9                      9      1  \n",
       "509408          9       0                      0      1  \n",
       "509409          9       9                      0      1  \n",
       "\n",
       "[509410 rows x 13 columns]"
      ]
     },
     "execution_count": 67,
     "metadata": {},
     "output_type": "execute_result"
    }
   ],
   "source": [
    "df"
   ]
  },
  {
   "cell_type": "code",
   "execution_count": 68,
   "id": "0d27b2f9-846a-4041-8d2f-28fc58570648",
   "metadata": {
    "scrolled": true
   },
   "outputs": [],
   "source": [
    "df=df.iloc[:10000]"
   ]
  },
  {
   "cell_type": "markdown",
   "id": "9b3712e1-90d1-4c29-a654-af02faa0ac21",
   "metadata": {},
   "source": [
    "## functions "
   ]
  },
  {
   "cell_type": "code",
   "execution_count": 69,
   "id": "fb6fc6dc-6278-4eeb-98e1-3b1f38f6ec02",
   "metadata": {},
   "outputs": [],
   "source": [
    "def column_info(data):\n",
    "    for x in data.columns:\n",
    "        print(f\"column \\\"{x}\\\"'s info\")\n",
    "        print(\"-\"*30)\n",
    "        print(f\"the num of nan values: {data[x].isna().sum()}\")\n",
    "        print(f\"the unique values: {data[x].unique()}\")\n",
    "        print(f\"the type is: {data[x].dtype}\")\n",
    "        print(\"=\"*30)\n",
    "\n",
    "\n",
    "\n",
    "\n",
    "\n",
    "\n",
    "def nan_rows(df):\n",
    "    nan_counts = []\n",
    "    nan_percentages = []\n",
    "    \n",
    "    for index, row in df.iterrows():\n",
    "        nan_count = row.isna().sum()\n",
    "        nan_percentage = ((nan_count / df.shape[1]) * 100).round(2)# why we don't make it with mean : as it counts the values of the columns, not the size  \n",
    "        \n",
    "        \n",
    "        nan_counts.append(nan_count)\n",
    "        nan_percentages.append(nan_percentage)\n",
    "    \n",
    "    df_nan = pd.DataFrame({\n",
    "        \"NaN Count\": nan_counts,\n",
    "        \"Percentage of NaNs (%)\": nan_percentages\n",
    "    }, index=df.index)\n",
    "    \n",
    "    return df_nan\n",
    "\n",
    "def nan_row_check(df, df_nan, threshold=50, interactive=False):\n",
    "\n",
    "    for index in df_nan.index:\n",
    "        if df_nan.loc[index, \"Percentage of NaNs (%)\"] > threshold:\n",
    "            if interactive:\n",
    "                print(f\"Row {index} info:\\n{df.loc[index]}\")\n",
    "                x = input(f\"Row {index} exceeds {threshold}% NaNs. Drop it? ('Y/N'): \").strip().upper()\n",
    "            else:\n",
    "                x = \"Y\"\n",
    "            if x == \"Y\":\n",
    "                df = df.drop(index, axis=0)\n",
    "    return df.reset_index(drop=True)\n",
    "\n",
    "\n",
    "\n",
    "def nan_filling(df):\n",
    "    # Handle categorical columns\n",
    "    categorical_cols = df.select_dtypes(include=[\"object\", \"category\"])\n",
    "    if not categorical_cols.empty:\n",
    "        modes = categorical_cols.mode().iloc[0]  # Get the first row of the mode DataFrame\n",
    "        df[categorical_cols.columns] = categorical_cols.fillna(modes)\n",
    "\n",
    "    # Handle numeric columns\n",
    "    numeric_cols = df.select_dtypes(include=\"number\")\n",
    "    if not numeric_cols.empty:\n",
    "        medians = numeric_cols.median()\n",
    "        df[numeric_cols.columns] = numeric_cols.fillna(medians)\n",
    "\n",
    "    return df.reset_index\n",
    "\n",
    "\n",
    "\n",
    "def nan_group_filling(df, group_by_column):# \n",
    "    # Handle categorical columns\n",
    "    if df[group_by_column].dtype.kind in 'iufc':  # Check if numeric\n",
    "            df[group_by_column]=df[group_by_column].fillna(df[group_by_column].median())#i made this line as if we group by column with nan values will not belong to any group\n",
    "    else:\n",
    "            df[group_by_column]=df[group_by_column].fillna(df[group_by_column].mode())#i made this line as if we group by column with nan values will not belong to any group\n",
    "\n",
    "\n",
    "\n",
    "    \n",
    "    categorical_cols = df.select_dtypes(include=[\"object\", \"category\"]).columns\n",
    "    \n",
    "    for col in categorical_cols:\n",
    "        df[col]=df.groupby(group_by_column)[col].transform(lambda x:x.fillna(x.mode().iloc[0] if x.mode() else np.nan))\n",
    "\n",
    "\n",
    "    \n",
    "    # Handle numeric columns\n",
    "    numeric_cols = df.select_dtypes(include=\"number\").columns\n",
    "    for col in numeric_cols:\n",
    "        # Get the median per group\n",
    "        median_per_group = df.groupby(group_by_column)[col].median()\n",
    "        # Fill missing values with the median for each group\n",
    "        df[col] = df.groupby(group_by_column)[col].transform(lambda x: x.fillna(median_per_group[x.name]))\n",
    "\n",
    "    return df\n",
    "\n",
    "\n",
    "\n",
    "def nan_columns(df):\n",
    "    nan_counts = df.isna().sum()\n",
    "    nan_percentages = (df.isna().mean() * 100).round(2)\n",
    "    \n",
    "    df_nan = pd.DataFrame({\n",
    "        'NaN Count': nan_counts,\n",
    "        'Percentage of NaNs (%)': nan_percentages\n",
    "    })\n",
    "    return df_nan\n",
    "\n",
    "def nan_columns_check(df, df_nan, threshold=50, interactive=False):\n",
    "   \n",
    "    for column in df_nan.index:\n",
    "        if df_nan.loc[column, \"Percentage of NaNs (%)\"] > threshold:\n",
    "            if interactive:\n",
    "                print(f\"Column '{column}' info:\\n{df[column]}\")\n",
    "                x = input(f\"Column '{column}' exceeds {threshold}% NaNs. Drop it? ('Y/N'): \").strip().upper()\n",
    "            else:\n",
    "                x = \"Y\"\n",
    "            if x == \"Y\":\n",
    "                df = df.drop(column, axis=1)\n",
    "    return df\n",
    "\n",
    "# this function for the columns like zip code or id as we can't deal with these nan values by mean or median as they are sensitve data and can't be predicted \n",
    "def unique_columns(df, column):\n",
    "    nan_values_index = df[df[column].isna()].index\n",
    "    df = df.drop(nan_values_index).reset_index(drop=True)\n",
    "    return df\n",
    "\n",
    "def nan_replace(x, data,columns):# here i put the columns here as in this data the x may indicate nan values in columns but in other columns it indicates actual values \n",
    "    for column in columns:\n",
    "        \n",
    "        data[column].replace(x, np.nan, inplace=True)\n",
    "    return data\n",
    "        \n",
    "# here if we want to ddeal with the rows at first and then the columns \n",
    "def data_cleaning(df, column):\n",
    "    start_time = time.time()  # Start timing\n",
    "    df_nan_columns = nan_columns(df)\n",
    "    df_nan_rows = nan_rows(df)\n",
    "    df = nan_row_check(df, df_nan_rows)\n",
    "    df = nan_columns_check(df, df_nan_columns)\n",
    "    df = unique_columns(df, column)\n",
    "    df = nan_filling(df)\n",
    "    end_time = time.time()\n",
    "    return df \n",
    "    \n",
    "    # End timing\n",
    "    \n",
    "    processing_time = end_time - start_time\n",
    "    print(f\"Data cleaning completed in {processing_time:.4f} seconds.\")\n",
    "    return df\n",
    "\n",
    "def data_cleaning2(df,group_by_column):\n",
    "    start_time = time.time()  # Start timing\n",
    "    df_nan_columns = nan_columns(df)\n",
    "    df_nan_rows = nan_rows(df)\n",
    "    df = nan_columns_check(df, df_nan_columns)\n",
    "    df = nan_row_check(df, df_nan_rows)\n",
    "    df = nan_group_filling(df,group_by_column)\n",
    "    end_time = time.time()  # End timing\n",
    "    \n",
    "    processing_time = end_time - start_time\n",
    "    print(f\"Data cleaning (method 2) completed in {processing_time:.4f} seconds.\")\n",
    "    return df\n",
    "\n",
    "# here if we want to deal with the columns at first and then the rows \n",
    "\n",
    "def data_cleaning3(df, column):\n",
    "    \n",
    "    start_time = time.time()  # Start timing\n",
    "    df_nan_columns = nan_columns(df)\n",
    "    df_nan_rows = nan_rows(df)\n",
    "    df = nan_columns_check(df, df_nan_columns)\n",
    "    df = nan_row_check(df, df_nan_rows)\n",
    "    \n",
    "    df = unique_columns(df, column)\n",
    "    df = nan_filling(df)\n",
    "    end_time = time.time()\n",
    "    return df \n",
    "    \n",
    "    # End timing\n",
    "    \n",
    "    processing_time = end_time - start_time\n",
    "    print(f\"Data cleaning completed in {processing_time:.4f} seconds.\")\n",
    "    return df\n",
    "df_nan_rows=nan_rows(df)\n",
    "df_nan_columns=nan_columns(df)\n",
    "\n",
    "## this one is for the nan values method 2\n",
    "def data_cleaning4(df):\n",
    "    start_time = time.time()  # Start timing\n",
    "    df_nan_columns = nan_columns(df)\n",
    "    df_nan_rows = nan_rows(df)\n",
    "    df = nan_row_check(df, df_nan_rows)\n",
    "    df = nan_columns_check(df, df_nan_columns)\n",
    "    \n",
    "    end_time = time.time()\n",
    "\n",
    "    return df\n",
    "def nan_columns_bar(df_nan):\n",
    "    # Create a bar chart using Plotly with a custom color\n",
    "    fig = px.bar(\n",
    "        df_nan, \n",
    "        x=df_nan.index, \n",
    "        y='NaN Count', \n",
    "        text='Percentage of NaNs (%)', \n",
    "        height=500, \n",
    "        width=600\n",
    "    )\n",
    "    \n",
    "    # Update layout to match your desired style\n",
    "    fig.update_layout(\n",
    "        title=\"NaN Count per Column\",\n",
    "        xaxis_title=\"Features\",\n",
    "        yaxis_title=f'NaN Count out of ({df_nan.shape[ 0]})',\n",
    "        template=\"plotly_white\"\n",
    "    )\n",
    "    \n",
    "    # Update the x-axis labels to rotate them\n",
    "    fig.update_xaxes(tickangle=70)\n",
    "    \n",
    "    # Automatically display percentage on top of bars\n",
    "    fig.update_traces(texttemplate='%{text:.1f}%', textposition='inside')\n",
    "    \n",
    "    # Display the chart\n",
    "    fig.show()\n",
    "\n",
    "\n",
    "\n",
    "def find_outliers(s):\n",
    "        q1 = s.quantile(0.25)\n",
    "        q3 = s.quantile(0.75)\n",
    "        iqr = q3 - q1\n",
    "        lower_bound = q1 - 1.5 * iqr\n",
    "        upper_bound = q3 + 1.5 * iqr\n",
    "        outliers = s[(s < lower_bound) | (s > upper_bound)]\n",
    "        return outliers\n",
    "\n",
    "\n",
    "\n",
    "def find_grouped_outliers(df, group_by_col, target_col):\n",
    "   \n",
    "    outliers = df.groupby(group_by_col)[target_col].apply(find_outliers)\n",
    "    \n",
    "    # Flatten the MultiIndex and drop NaN values\n",
    "    outliers = outliers.reset_index(level=0, drop=True).dropna()\n",
    "    \n",
    "    # Return both the outlier indices and the outliers DataFrame\n",
    "    return outliers.index, df.loc[outliers.index]\n",
    "\n",
    "\n",
    "# Define a function to calculate the mode, handling cases with multiple modes\n",
    "def fill_mode(series):\n",
    "    if not series.empty and series.mode().size > 0:\n",
    "        return series.mode()[0]\n",
    "    else:\n",
    "        return series\n",
    "    \n",
    "\n",
    "\n",
    "\n",
    "\n",
    "\n",
    "\n",
    "def visualize_outliers(df):\n",
    "    # df_outlier=df.dropna()\n",
    "    numeric_columns=df.select_dtypes([\"number\"]).columns\n",
    "    for i in numeric_columns:\n",
    "        plt.figure(figsize=(10,6))\n",
    "        sns.boxplot(x=\"race_eth\", y=i,data=df)\n",
    "        plt.xticks(rotation=45)  \n",
    "        plt.show()\n",
    "\n",
    "\n",
    "def evaluate_models(data, target_column, test_size=0.2):\n",
    "    # 1. Separate features and target\n",
    "    X = data.drop(columns=[target_column])\n",
    "    y = data[target_column]\n",
    "    \n",
    "    # 2. Train-test split\n",
    "    X_train, X_test, y_train, y_test = train_test_split(X, y, test_size=test_size, random_state=42)\n",
    "    \n",
    "    # 3. Preprocessing pipelines for numeric and categorical features\n",
    "    numeric_features = X.select_dtypes(include=['int64', 'float64']).columns\n",
    "    categorical_features = X.select_dtypes(include=['object', 'category']).columns\n",
    "    \n",
    "    numeric_transformer = Pipeline(steps=[\n",
    "        ('imputer', SimpleImputer(strategy='mean')),  # Handle NaN by imputing the mean\n",
    "        ('scaler', StandardScaler())\n",
    "    ])\n",
    "    \n",
    "    categorical_transformer = Pipeline(steps=[('encoder', OneHotEncoder(drop='first'))])\n",
    "    \n",
    "    preprocessor = ColumnTransformer(\n",
    "        transformers=[\n",
    "            ('num', numeric_transformer, numeric_features),\n",
    "            ('cat', categorical_transformer, categorical_features)])\n",
    "    \n",
    "    # 4. Define models\n",
    "    models = {\n",
    "        \"Linear Regression\": LinearRegression(),\n",
    "        \"KNN Regressor\": KNeighborsRegressor(), \n",
    "        \"SVR\": SVR(),\n",
    "        \"Decision Tree\": DecisionTreeRegressor(),\n",
    "        \"Random Forest\": RandomForestRegressor(),\n",
    "        \"XGBoost Regressor\": XGBRegressor()\n",
    "    }\n",
    "    \n",
    "    best_score = -np.inf\n",
    "    best_pipeline = None\n",
    "    best_model_name = \"\"\n",
    "    \n",
    "    # 5. Evaluate each model\n",
    "    for name, model in models.items():\n",
    "        print(f'Using model: {name}')\n",
    "        \n",
    "        # Create pipeline with preprocessor and model\n",
    "        pipeline = Pipeline(steps=[('preprocessor', preprocessor),\n",
    "                                   ('model', model)])\n",
    "        \n",
    "        # Train the model\n",
    "        pipeline.fit(X_train, y_train)\n",
    "        \n",
    "        # Evaluate the model\n",
    "        y_pred = pipeline.predict(X_test)\n",
    "        test_score = r2_score(y_test, y_pred)\n",
    "        \n",
    "        # Print evaluation metrics\n",
    "        print(f'Test R2 Score: {test_score:.4f}')\n",
    "        print(f'RMSE: {np.sqrt(mean_squared_error(y_test, y_pred)):.4f}')\n",
    "        print('-'*30)\n",
    "        \n",
    "        # Keep track of the best model\n",
    "        if test_score > best_score:\n",
    "            best_score = test_score\n",
    "            best_pipeline = pipeline\n",
    "            best_model_name = name\n",
    "    \n",
    "    print(f'Best model: {best_model_name} with R2 Score: {best_score:.4f}')\n",
    "    return best_pipeline\n",
    "\n"
   ]
  },
  {
   "cell_type": "code",
   "execution_count": 70,
   "id": "2fdf4425-fd40-426d-bf43-529dff5b22fe",
   "metadata": {},
   "outputs": [
    {
     "name": "stderr",
     "output_type": "stream",
     "text": [
      "C:\\Users\\user\\AppData\\Local\\Temp\\ipykernel_20212\\199261251.py:127: FutureWarning:\n",
      "\n",
      "A value is trying to be set on a copy of a DataFrame or Series through chained assignment using an inplace method.\n",
      "The behavior will change in pandas 3.0. This inplace method will never work because the intermediate object on which we are setting values always behaves as a copy.\n",
      "\n",
      "For example, when doing 'df[col].method(value, inplace=True)', try using 'df.method({col: value}, inplace=True)' or df[col] = df[col].method(value) instead, to perform the operation inplace on the original object.\n",
      "\n",
      "\n",
      "\n",
      "C:\\Users\\user\\AppData\\Local\\Temp\\ipykernel_20212\\199261251.py:127: SettingWithCopyWarning:\n",
      "\n",
      "\n",
      "A value is trying to be set on a copy of a slice from a DataFrame\n",
      "\n",
      "See the caveats in the documentation: https://pandas.pydata.org/pandas-docs/stable/user_guide/indexing.html#returning-a-view-versus-a-copy\n",
      "\n"
     ]
    }
   ],
   "source": [
    "df = nan_replace(9, df, [\"breast_cancer_history\", \"biophx\", \"bmi_group\", \"menopaus\", \n",
    "                         \"current_hrt\", \"BIRADS_breast_density\", \"age_first_birth\", \n",
    "                         \"age_menarche\", \"first_degree_hx\", \"race_eth\"])"
   ]
  },
  {
   "cell_type": "markdown",
   "id": "f4437437-5986-4e01-a23c-60cffe57528f",
   "metadata": {},
   "source": [
    "## EDA"
   ]
  },
  {
   "cell_type": "code",
   "execution_count": 71,
   "id": "826f6e44-b557-43ac-abf8-d7f4be730b61",
   "metadata": {},
   "outputs": [
    {
     "name": "stdout",
     "output_type": "stream",
     "text": [
      "column \"year\"'s info\n",
      "------------------------------\n",
      "the num of nan values: 0\n",
      "the unique values: [2013]\n",
      "the type is: int64\n",
      "==============================\n",
      "column \"age_group_5_years\"'s info\n",
      "------------------------------\n",
      "the num of nan values: 0\n",
      "the unique values: [7]\n",
      "the type is: int64\n",
      "==============================\n",
      "column \"race_eth\"'s info\n",
      "------------------------------\n",
      "the num of nan values: 0\n",
      "the unique values: [1 2 3]\n",
      "the type is: int64\n",
      "==============================\n",
      "column \"first_degree_hx\"'s info\n",
      "------------------------------\n",
      "the num of nan values: 585\n",
      "the unique values: [ 0.  1. nan]\n",
      "the type is: float64\n",
      "==============================\n",
      "column \"age_menarche\"'s info\n",
      "------------------------------\n",
      "the num of nan values: 4736\n",
      "the unique values: [nan  0.  1.  2.]\n",
      "the type is: float64\n",
      "==============================\n",
      "column \"age_first_birth\"'s info\n",
      "------------------------------\n",
      "the num of nan values: 1831\n",
      "the unique values: [ 3.  4. nan  0.  1.  2.]\n",
      "the type is: float64\n",
      "==============================\n",
      "column \"BIRADS_breast_density\"'s info\n",
      "------------------------------\n",
      "the num of nan values: 737\n",
      "the unique values: [ 1.  2.  3.  4. nan]\n",
      "the type is: float64\n",
      "==============================\n",
      "column \"current_hrt\"'s info\n",
      "------------------------------\n",
      "the num of nan values: 2275\n",
      "the unique values: [ 1. nan  0.]\n",
      "the type is: float64\n",
      "==============================\n",
      "column \"menopaus\"'s info\n",
      "------------------------------\n",
      "the num of nan values: 2327\n",
      "the unique values: [ 2.  1. nan  3.]\n",
      "the type is: float64\n",
      "==============================\n",
      "column \"bmi_group\"'s info\n",
      "------------------------------\n",
      "the num of nan values: 2322\n",
      "the unique values: [ 3.  4. nan  1.  2.]\n",
      "the type is: float64\n",
      "==============================\n",
      "column \"biophx\"'s info\n",
      "------------------------------\n",
      "the num of nan values: 293\n",
      "the unique values: [ 0.  1. nan]\n",
      "the type is: float64\n",
      "==============================\n",
      "column \"breast_cancer_history\"'s info\n",
      "------------------------------\n",
      "the num of nan values: 2641\n",
      "the unique values: [ 0.  1. nan]\n",
      "the type is: float64\n",
      "==============================\n",
      "column \"count\"'s info\n",
      "------------------------------\n",
      "the num of nan values: 0\n",
      "the unique values: [  7   3   6   1   2   5  20   9  18  10 412  19  89  26 243   8  77  22\n",
      " 127   4  28  75  11  12  14  66  24  33  45  21 397 178  30 146  72  48\n",
      "  13  37  86  43  27  16  74  34  40  29  58  17 126  15 289  65 254  73\n",
      " 134  35 108  36  46  25  23  56 491 195  69 123  67  53  32  51  38  41\n",
      "  71  39  52 244 186  44 156 274  82 142  94 121  70 165 144  59  55  93\n",
      "  84  31  47 132  54  42 122  99 109  87 103  61  85 118  57]\n",
      "the type is: int64\n",
      "==============================\n"
     ]
    }
   ],
   "source": [
    "\n",
    "column_info(df)\n"
   ]
  },
  {
   "cell_type": "markdown",
   "id": "2f74c993-c9c6-4e93-8e87-3a8db165d3cc",
   "metadata": {},
   "source": [
    "### outlier visulization"
   ]
  },
  {
   "cell_type": "code",
   "execution_count": 72,
   "id": "de54c9eb-a4ce-4b13-93f3-c7767ab2e1a6",
   "metadata": {
    "scrolled": true
   },
   "outputs": [],
   "source": [
    "\n",
    "# visualize_outliers(df)"
   ]
  },
  {
   "cell_type": "code",
   "execution_count": null,
   "id": "42df0394-c723-4109-8ff6-61db25c35931",
   "metadata": {},
   "outputs": [],
   "source": [
    "\n"
   ]
  },
  {
   "cell_type": "markdown",
   "id": "86c11402-caf3-4b39-8f8d-67a18c8fec31",
   "metadata": {},
   "source": [
    "### nan value visulization "
   ]
  },
  {
   "cell_type": "code",
   "execution_count": 73,
   "id": "63dd9f7f-5b4a-4cf7-a59b-1c8b32d2d0e2",
   "metadata": {},
   "outputs": [
    {
     "data": {
      "application/vnd.plotly.v1+json": {
       "config": {
        "plotlyServerURL": "https://plot.ly"
       },
       "data": [
        {
         "alignmentgroup": "True",
         "hovertemplate": "index=%{x}<br>NaN Count=%{y}<br>Percentage of NaNs (%)=%{text}<extra></extra>",
         "legendgroup": "",
         "marker": {
          "color": "#636efa",
          "pattern": {
           "shape": ""
          }
         },
         "name": "",
         "offsetgroup": "",
         "orientation": "v",
         "showlegend": false,
         "text": [
          0,
          0,
          0,
          5.85,
          47.36,
          18.31,
          7.37,
          22.75,
          23.27,
          23.22,
          2.93,
          26.41,
          0
         ],
         "textposition": "inside",
         "texttemplate": "%{text:.1f}%",
         "type": "bar",
         "x": [
          "year",
          "age_group_5_years",
          "race_eth",
          "first_degree_hx",
          "age_menarche",
          "age_first_birth",
          "BIRADS_breast_density",
          "current_hrt",
          "menopaus",
          "bmi_group",
          "biophx",
          "breast_cancer_history",
          "count"
         ],
         "xaxis": "x",
         "y": [
          0,
          0,
          0,
          585,
          4736,
          1831,
          737,
          2275,
          2327,
          2322,
          293,
          2641,
          0
         ],
         "yaxis": "y"
        }
       ],
       "layout": {
        "barmode": "relative",
        "height": 500,
        "legend": {
         "tracegroupgap": 0
        },
        "margin": {
         "t": 60
        },
        "template": {
         "data": {
          "bar": [
           {
            "error_x": {
             "color": "#2a3f5f"
            },
            "error_y": {
             "color": "#2a3f5f"
            },
            "marker": {
             "line": {
              "color": "white",
              "width": 0.5
             },
             "pattern": {
              "fillmode": "overlay",
              "size": 10,
              "solidity": 0.2
             }
            },
            "type": "bar"
           }
          ],
          "barpolar": [
           {
            "marker": {
             "line": {
              "color": "white",
              "width": 0.5
             },
             "pattern": {
              "fillmode": "overlay",
              "size": 10,
              "solidity": 0.2
             }
            },
            "type": "barpolar"
           }
          ],
          "carpet": [
           {
            "aaxis": {
             "endlinecolor": "#2a3f5f",
             "gridcolor": "#C8D4E3",
             "linecolor": "#C8D4E3",
             "minorgridcolor": "#C8D4E3",
             "startlinecolor": "#2a3f5f"
            },
            "baxis": {
             "endlinecolor": "#2a3f5f",
             "gridcolor": "#C8D4E3",
             "linecolor": "#C8D4E3",
             "minorgridcolor": "#C8D4E3",
             "startlinecolor": "#2a3f5f"
            },
            "type": "carpet"
           }
          ],
          "choropleth": [
           {
            "colorbar": {
             "outlinewidth": 0,
             "ticks": ""
            },
            "type": "choropleth"
           }
          ],
          "contour": [
           {
            "colorbar": {
             "outlinewidth": 0,
             "ticks": ""
            },
            "colorscale": [
             [
              0,
              "#0d0887"
             ],
             [
              0.1111111111111111,
              "#46039f"
             ],
             [
              0.2222222222222222,
              "#7201a8"
             ],
             [
              0.3333333333333333,
              "#9c179e"
             ],
             [
              0.4444444444444444,
              "#bd3786"
             ],
             [
              0.5555555555555556,
              "#d8576b"
             ],
             [
              0.6666666666666666,
              "#ed7953"
             ],
             [
              0.7777777777777778,
              "#fb9f3a"
             ],
             [
              0.8888888888888888,
              "#fdca26"
             ],
             [
              1,
              "#f0f921"
             ]
            ],
            "type": "contour"
           }
          ],
          "contourcarpet": [
           {
            "colorbar": {
             "outlinewidth": 0,
             "ticks": ""
            },
            "type": "contourcarpet"
           }
          ],
          "heatmap": [
           {
            "colorbar": {
             "outlinewidth": 0,
             "ticks": ""
            },
            "colorscale": [
             [
              0,
              "#0d0887"
             ],
             [
              0.1111111111111111,
              "#46039f"
             ],
             [
              0.2222222222222222,
              "#7201a8"
             ],
             [
              0.3333333333333333,
              "#9c179e"
             ],
             [
              0.4444444444444444,
              "#bd3786"
             ],
             [
              0.5555555555555556,
              "#d8576b"
             ],
             [
              0.6666666666666666,
              "#ed7953"
             ],
             [
              0.7777777777777778,
              "#fb9f3a"
             ],
             [
              0.8888888888888888,
              "#fdca26"
             ],
             [
              1,
              "#f0f921"
             ]
            ],
            "type": "heatmap"
           }
          ],
          "heatmapgl": [
           {
            "colorbar": {
             "outlinewidth": 0,
             "ticks": ""
            },
            "colorscale": [
             [
              0,
              "#0d0887"
             ],
             [
              0.1111111111111111,
              "#46039f"
             ],
             [
              0.2222222222222222,
              "#7201a8"
             ],
             [
              0.3333333333333333,
              "#9c179e"
             ],
             [
              0.4444444444444444,
              "#bd3786"
             ],
             [
              0.5555555555555556,
              "#d8576b"
             ],
             [
              0.6666666666666666,
              "#ed7953"
             ],
             [
              0.7777777777777778,
              "#fb9f3a"
             ],
             [
              0.8888888888888888,
              "#fdca26"
             ],
             [
              1,
              "#f0f921"
             ]
            ],
            "type": "heatmapgl"
           }
          ],
          "histogram": [
           {
            "marker": {
             "pattern": {
              "fillmode": "overlay",
              "size": 10,
              "solidity": 0.2
             }
            },
            "type": "histogram"
           }
          ],
          "histogram2d": [
           {
            "colorbar": {
             "outlinewidth": 0,
             "ticks": ""
            },
            "colorscale": [
             [
              0,
              "#0d0887"
             ],
             [
              0.1111111111111111,
              "#46039f"
             ],
             [
              0.2222222222222222,
              "#7201a8"
             ],
             [
              0.3333333333333333,
              "#9c179e"
             ],
             [
              0.4444444444444444,
              "#bd3786"
             ],
             [
              0.5555555555555556,
              "#d8576b"
             ],
             [
              0.6666666666666666,
              "#ed7953"
             ],
             [
              0.7777777777777778,
              "#fb9f3a"
             ],
             [
              0.8888888888888888,
              "#fdca26"
             ],
             [
              1,
              "#f0f921"
             ]
            ],
            "type": "histogram2d"
           }
          ],
          "histogram2dcontour": [
           {
            "colorbar": {
             "outlinewidth": 0,
             "ticks": ""
            },
            "colorscale": [
             [
              0,
              "#0d0887"
             ],
             [
              0.1111111111111111,
              "#46039f"
             ],
             [
              0.2222222222222222,
              "#7201a8"
             ],
             [
              0.3333333333333333,
              "#9c179e"
             ],
             [
              0.4444444444444444,
              "#bd3786"
             ],
             [
              0.5555555555555556,
              "#d8576b"
             ],
             [
              0.6666666666666666,
              "#ed7953"
             ],
             [
              0.7777777777777778,
              "#fb9f3a"
             ],
             [
              0.8888888888888888,
              "#fdca26"
             ],
             [
              1,
              "#f0f921"
             ]
            ],
            "type": "histogram2dcontour"
           }
          ],
          "mesh3d": [
           {
            "colorbar": {
             "outlinewidth": 0,
             "ticks": ""
            },
            "type": "mesh3d"
           }
          ],
          "parcoords": [
           {
            "line": {
             "colorbar": {
              "outlinewidth": 0,
              "ticks": ""
             }
            },
            "type": "parcoords"
           }
          ],
          "pie": [
           {
            "automargin": true,
            "type": "pie"
           }
          ],
          "scatter": [
           {
            "fillpattern": {
             "fillmode": "overlay",
             "size": 10,
             "solidity": 0.2
            },
            "type": "scatter"
           }
          ],
          "scatter3d": [
           {
            "line": {
             "colorbar": {
              "outlinewidth": 0,
              "ticks": ""
             }
            },
            "marker": {
             "colorbar": {
              "outlinewidth": 0,
              "ticks": ""
             }
            },
            "type": "scatter3d"
           }
          ],
          "scattercarpet": [
           {
            "marker": {
             "colorbar": {
              "outlinewidth": 0,
              "ticks": ""
             }
            },
            "type": "scattercarpet"
           }
          ],
          "scattergeo": [
           {
            "marker": {
             "colorbar": {
              "outlinewidth": 0,
              "ticks": ""
             }
            },
            "type": "scattergeo"
           }
          ],
          "scattergl": [
           {
            "marker": {
             "colorbar": {
              "outlinewidth": 0,
              "ticks": ""
             }
            },
            "type": "scattergl"
           }
          ],
          "scattermapbox": [
           {
            "marker": {
             "colorbar": {
              "outlinewidth": 0,
              "ticks": ""
             }
            },
            "type": "scattermapbox"
           }
          ],
          "scatterpolar": [
           {
            "marker": {
             "colorbar": {
              "outlinewidth": 0,
              "ticks": ""
             }
            },
            "type": "scatterpolar"
           }
          ],
          "scatterpolargl": [
           {
            "marker": {
             "colorbar": {
              "outlinewidth": 0,
              "ticks": ""
             }
            },
            "type": "scatterpolargl"
           }
          ],
          "scatterternary": [
           {
            "marker": {
             "colorbar": {
              "outlinewidth": 0,
              "ticks": ""
             }
            },
            "type": "scatterternary"
           }
          ],
          "surface": [
           {
            "colorbar": {
             "outlinewidth": 0,
             "ticks": ""
            },
            "colorscale": [
             [
              0,
              "#0d0887"
             ],
             [
              0.1111111111111111,
              "#46039f"
             ],
             [
              0.2222222222222222,
              "#7201a8"
             ],
             [
              0.3333333333333333,
              "#9c179e"
             ],
             [
              0.4444444444444444,
              "#bd3786"
             ],
             [
              0.5555555555555556,
              "#d8576b"
             ],
             [
              0.6666666666666666,
              "#ed7953"
             ],
             [
              0.7777777777777778,
              "#fb9f3a"
             ],
             [
              0.8888888888888888,
              "#fdca26"
             ],
             [
              1,
              "#f0f921"
             ]
            ],
            "type": "surface"
           }
          ],
          "table": [
           {
            "cells": {
             "fill": {
              "color": "#EBF0F8"
             },
             "line": {
              "color": "white"
             }
            },
            "header": {
             "fill": {
              "color": "#C8D4E3"
             },
             "line": {
              "color": "white"
             }
            },
            "type": "table"
           }
          ]
         },
         "layout": {
          "annotationdefaults": {
           "arrowcolor": "#2a3f5f",
           "arrowhead": 0,
           "arrowwidth": 1
          },
          "autotypenumbers": "strict",
          "coloraxis": {
           "colorbar": {
            "outlinewidth": 0,
            "ticks": ""
           }
          },
          "colorscale": {
           "diverging": [
            [
             0,
             "#8e0152"
            ],
            [
             0.1,
             "#c51b7d"
            ],
            [
             0.2,
             "#de77ae"
            ],
            [
             0.3,
             "#f1b6da"
            ],
            [
             0.4,
             "#fde0ef"
            ],
            [
             0.5,
             "#f7f7f7"
            ],
            [
             0.6,
             "#e6f5d0"
            ],
            [
             0.7,
             "#b8e186"
            ],
            [
             0.8,
             "#7fbc41"
            ],
            [
             0.9,
             "#4d9221"
            ],
            [
             1,
             "#276419"
            ]
           ],
           "sequential": [
            [
             0,
             "#0d0887"
            ],
            [
             0.1111111111111111,
             "#46039f"
            ],
            [
             0.2222222222222222,
             "#7201a8"
            ],
            [
             0.3333333333333333,
             "#9c179e"
            ],
            [
             0.4444444444444444,
             "#bd3786"
            ],
            [
             0.5555555555555556,
             "#d8576b"
            ],
            [
             0.6666666666666666,
             "#ed7953"
            ],
            [
             0.7777777777777778,
             "#fb9f3a"
            ],
            [
             0.8888888888888888,
             "#fdca26"
            ],
            [
             1,
             "#f0f921"
            ]
           ],
           "sequentialminus": [
            [
             0,
             "#0d0887"
            ],
            [
             0.1111111111111111,
             "#46039f"
            ],
            [
             0.2222222222222222,
             "#7201a8"
            ],
            [
             0.3333333333333333,
             "#9c179e"
            ],
            [
             0.4444444444444444,
             "#bd3786"
            ],
            [
             0.5555555555555556,
             "#d8576b"
            ],
            [
             0.6666666666666666,
             "#ed7953"
            ],
            [
             0.7777777777777778,
             "#fb9f3a"
            ],
            [
             0.8888888888888888,
             "#fdca26"
            ],
            [
             1,
             "#f0f921"
            ]
           ]
          },
          "colorway": [
           "#636efa",
           "#EF553B",
           "#00cc96",
           "#ab63fa",
           "#FFA15A",
           "#19d3f3",
           "#FF6692",
           "#B6E880",
           "#FF97FF",
           "#FECB52"
          ],
          "font": {
           "color": "#2a3f5f"
          },
          "geo": {
           "bgcolor": "white",
           "lakecolor": "white",
           "landcolor": "white",
           "showlakes": true,
           "showland": true,
           "subunitcolor": "#C8D4E3"
          },
          "hoverlabel": {
           "align": "left"
          },
          "hovermode": "closest",
          "mapbox": {
           "style": "light"
          },
          "paper_bgcolor": "white",
          "plot_bgcolor": "white",
          "polar": {
           "angularaxis": {
            "gridcolor": "#EBF0F8",
            "linecolor": "#EBF0F8",
            "ticks": ""
           },
           "bgcolor": "white",
           "radialaxis": {
            "gridcolor": "#EBF0F8",
            "linecolor": "#EBF0F8",
            "ticks": ""
           }
          },
          "scene": {
           "xaxis": {
            "backgroundcolor": "white",
            "gridcolor": "#DFE8F3",
            "gridwidth": 2,
            "linecolor": "#EBF0F8",
            "showbackground": true,
            "ticks": "",
            "zerolinecolor": "#EBF0F8"
           },
           "yaxis": {
            "backgroundcolor": "white",
            "gridcolor": "#DFE8F3",
            "gridwidth": 2,
            "linecolor": "#EBF0F8",
            "showbackground": true,
            "ticks": "",
            "zerolinecolor": "#EBF0F8"
           },
           "zaxis": {
            "backgroundcolor": "white",
            "gridcolor": "#DFE8F3",
            "gridwidth": 2,
            "linecolor": "#EBF0F8",
            "showbackground": true,
            "ticks": "",
            "zerolinecolor": "#EBF0F8"
           }
          },
          "shapedefaults": {
           "line": {
            "color": "#2a3f5f"
           }
          },
          "ternary": {
           "aaxis": {
            "gridcolor": "#DFE8F3",
            "linecolor": "#A2B1C6",
            "ticks": ""
           },
           "baxis": {
            "gridcolor": "#DFE8F3",
            "linecolor": "#A2B1C6",
            "ticks": ""
           },
           "bgcolor": "white",
           "caxis": {
            "gridcolor": "#DFE8F3",
            "linecolor": "#A2B1C6",
            "ticks": ""
           }
          },
          "title": {
           "x": 0.05
          },
          "xaxis": {
           "automargin": true,
           "gridcolor": "#EBF0F8",
           "linecolor": "#EBF0F8",
           "ticks": "",
           "title": {
            "standoff": 15
           },
           "zerolinecolor": "#EBF0F8",
           "zerolinewidth": 2
          },
          "yaxis": {
           "automargin": true,
           "gridcolor": "#EBF0F8",
           "linecolor": "#EBF0F8",
           "ticks": "",
           "title": {
            "standoff": 15
           },
           "zerolinecolor": "#EBF0F8",
           "zerolinewidth": 2
          }
         }
        },
        "title": {
         "text": "NaN Count per Column"
        },
        "width": 600,
        "xaxis": {
         "anchor": "y",
         "autorange": true,
         "domain": [
          0,
          1
         ],
         "range": [
          -0.5,
          12.5
         ],
         "tickangle": 70,
         "title": {
          "text": "Features"
         },
         "type": "category"
        },
        "yaxis": {
         "anchor": "x",
         "autorange": true,
         "domain": [
          0,
          1
         ],
         "range": [
          0,
          4985.263157894737
         ],
         "title": {
          "text": "NaN Count out of (13)"
         },
         "type": "linear"
        }
       }
      },
      "text/html": [
       "<div>                            <div id=\"432ce524-d8ac-438b-ba25-2ee1b6c13e3d\" class=\"plotly-graph-div\" style=\"height:500px; width:600px;\"></div>            <script type=\"text/javascript\">                require([\"plotly\"], function(Plotly) {                    window.PLOTLYENV=window.PLOTLYENV || {};                                    if (document.getElementById(\"432ce524-d8ac-438b-ba25-2ee1b6c13e3d\")) {                    Plotly.newPlot(                        \"432ce524-d8ac-438b-ba25-2ee1b6c13e3d\",                        [{\"alignmentgroup\":\"True\",\"hovertemplate\":\"index=%{x}\\u003cbr\\u003eNaN Count=%{y}\\u003cbr\\u003ePercentage of NaNs (%)=%{text}\\u003cextra\\u003e\\u003c\\u002fextra\\u003e\",\"legendgroup\":\"\",\"marker\":{\"color\":\"#636efa\",\"pattern\":{\"shape\":\"\"}},\"name\":\"\",\"offsetgroup\":\"\",\"orientation\":\"v\",\"showlegend\":false,\"text\":[0.0,0.0,0.0,5.85,47.36,18.31,7.37,22.75,23.27,23.22,2.93,26.41,0.0],\"textposition\":\"inside\",\"x\":[\"year\",\"age_group_5_years\",\"race_eth\",\"first_degree_hx\",\"age_menarche\",\"age_first_birth\",\"BIRADS_breast_density\",\"current_hrt\",\"menopaus\",\"bmi_group\",\"biophx\",\"breast_cancer_history\",\"count\"],\"xaxis\":\"x\",\"y\":[0,0,0,585,4736,1831,737,2275,2327,2322,293,2641,0],\"yaxis\":\"y\",\"type\":\"bar\",\"texttemplate\":\"%{text:.1f}%\"}],                        {\"template\":{\"data\":{\"barpolar\":[{\"marker\":{\"line\":{\"color\":\"white\",\"width\":0.5},\"pattern\":{\"fillmode\":\"overlay\",\"size\":10,\"solidity\":0.2}},\"type\":\"barpolar\"}],\"bar\":[{\"error_x\":{\"color\":\"#2a3f5f\"},\"error_y\":{\"color\":\"#2a3f5f\"},\"marker\":{\"line\":{\"color\":\"white\",\"width\":0.5},\"pattern\":{\"fillmode\":\"overlay\",\"size\":10,\"solidity\":0.2}},\"type\":\"bar\"}],\"carpet\":[{\"aaxis\":{\"endlinecolor\":\"#2a3f5f\",\"gridcolor\":\"#C8D4E3\",\"linecolor\":\"#C8D4E3\",\"minorgridcolor\":\"#C8D4E3\",\"startlinecolor\":\"#2a3f5f\"},\"baxis\":{\"endlinecolor\":\"#2a3f5f\",\"gridcolor\":\"#C8D4E3\",\"linecolor\":\"#C8D4E3\",\"minorgridcolor\":\"#C8D4E3\",\"startlinecolor\":\"#2a3f5f\"},\"type\":\"carpet\"}],\"choropleth\":[{\"colorbar\":{\"outlinewidth\":0,\"ticks\":\"\"},\"type\":\"choropleth\"}],\"contourcarpet\":[{\"colorbar\":{\"outlinewidth\":0,\"ticks\":\"\"},\"type\":\"contourcarpet\"}],\"contour\":[{\"colorbar\":{\"outlinewidth\":0,\"ticks\":\"\"},\"colorscale\":[[0.0,\"#0d0887\"],[0.1111111111111111,\"#46039f\"],[0.2222222222222222,\"#7201a8\"],[0.3333333333333333,\"#9c179e\"],[0.4444444444444444,\"#bd3786\"],[0.5555555555555556,\"#d8576b\"],[0.6666666666666666,\"#ed7953\"],[0.7777777777777778,\"#fb9f3a\"],[0.8888888888888888,\"#fdca26\"],[1.0,\"#f0f921\"]],\"type\":\"contour\"}],\"heatmapgl\":[{\"colorbar\":{\"outlinewidth\":0,\"ticks\":\"\"},\"colorscale\":[[0.0,\"#0d0887\"],[0.1111111111111111,\"#46039f\"],[0.2222222222222222,\"#7201a8\"],[0.3333333333333333,\"#9c179e\"],[0.4444444444444444,\"#bd3786\"],[0.5555555555555556,\"#d8576b\"],[0.6666666666666666,\"#ed7953\"],[0.7777777777777778,\"#fb9f3a\"],[0.8888888888888888,\"#fdca26\"],[1.0,\"#f0f921\"]],\"type\":\"heatmapgl\"}],\"heatmap\":[{\"colorbar\":{\"outlinewidth\":0,\"ticks\":\"\"},\"colorscale\":[[0.0,\"#0d0887\"],[0.1111111111111111,\"#46039f\"],[0.2222222222222222,\"#7201a8\"],[0.3333333333333333,\"#9c179e\"],[0.4444444444444444,\"#bd3786\"],[0.5555555555555556,\"#d8576b\"],[0.6666666666666666,\"#ed7953\"],[0.7777777777777778,\"#fb9f3a\"],[0.8888888888888888,\"#fdca26\"],[1.0,\"#f0f921\"]],\"type\":\"heatmap\"}],\"histogram2dcontour\":[{\"colorbar\":{\"outlinewidth\":0,\"ticks\":\"\"},\"colorscale\":[[0.0,\"#0d0887\"],[0.1111111111111111,\"#46039f\"],[0.2222222222222222,\"#7201a8\"],[0.3333333333333333,\"#9c179e\"],[0.4444444444444444,\"#bd3786\"],[0.5555555555555556,\"#d8576b\"],[0.6666666666666666,\"#ed7953\"],[0.7777777777777778,\"#fb9f3a\"],[0.8888888888888888,\"#fdca26\"],[1.0,\"#f0f921\"]],\"type\":\"histogram2dcontour\"}],\"histogram2d\":[{\"colorbar\":{\"outlinewidth\":0,\"ticks\":\"\"},\"colorscale\":[[0.0,\"#0d0887\"],[0.1111111111111111,\"#46039f\"],[0.2222222222222222,\"#7201a8\"],[0.3333333333333333,\"#9c179e\"],[0.4444444444444444,\"#bd3786\"],[0.5555555555555556,\"#d8576b\"],[0.6666666666666666,\"#ed7953\"],[0.7777777777777778,\"#fb9f3a\"],[0.8888888888888888,\"#fdca26\"],[1.0,\"#f0f921\"]],\"type\":\"histogram2d\"}],\"histogram\":[{\"marker\":{\"pattern\":{\"fillmode\":\"overlay\",\"size\":10,\"solidity\":0.2}},\"type\":\"histogram\"}],\"mesh3d\":[{\"colorbar\":{\"outlinewidth\":0,\"ticks\":\"\"},\"type\":\"mesh3d\"}],\"parcoords\":[{\"line\":{\"colorbar\":{\"outlinewidth\":0,\"ticks\":\"\"}},\"type\":\"parcoords\"}],\"pie\":[{\"automargin\":true,\"type\":\"pie\"}],\"scatter3d\":[{\"line\":{\"colorbar\":{\"outlinewidth\":0,\"ticks\":\"\"}},\"marker\":{\"colorbar\":{\"outlinewidth\":0,\"ticks\":\"\"}},\"type\":\"scatter3d\"}],\"scattercarpet\":[{\"marker\":{\"colorbar\":{\"outlinewidth\":0,\"ticks\":\"\"}},\"type\":\"scattercarpet\"}],\"scattergeo\":[{\"marker\":{\"colorbar\":{\"outlinewidth\":0,\"ticks\":\"\"}},\"type\":\"scattergeo\"}],\"scattergl\":[{\"marker\":{\"colorbar\":{\"outlinewidth\":0,\"ticks\":\"\"}},\"type\":\"scattergl\"}],\"scattermapbox\":[{\"marker\":{\"colorbar\":{\"outlinewidth\":0,\"ticks\":\"\"}},\"type\":\"scattermapbox\"}],\"scatterpolargl\":[{\"marker\":{\"colorbar\":{\"outlinewidth\":0,\"ticks\":\"\"}},\"type\":\"scatterpolargl\"}],\"scatterpolar\":[{\"marker\":{\"colorbar\":{\"outlinewidth\":0,\"ticks\":\"\"}},\"type\":\"scatterpolar\"}],\"scatter\":[{\"fillpattern\":{\"fillmode\":\"overlay\",\"size\":10,\"solidity\":0.2},\"type\":\"scatter\"}],\"scatterternary\":[{\"marker\":{\"colorbar\":{\"outlinewidth\":0,\"ticks\":\"\"}},\"type\":\"scatterternary\"}],\"surface\":[{\"colorbar\":{\"outlinewidth\":0,\"ticks\":\"\"},\"colorscale\":[[0.0,\"#0d0887\"],[0.1111111111111111,\"#46039f\"],[0.2222222222222222,\"#7201a8\"],[0.3333333333333333,\"#9c179e\"],[0.4444444444444444,\"#bd3786\"],[0.5555555555555556,\"#d8576b\"],[0.6666666666666666,\"#ed7953\"],[0.7777777777777778,\"#fb9f3a\"],[0.8888888888888888,\"#fdca26\"],[1.0,\"#f0f921\"]],\"type\":\"surface\"}],\"table\":[{\"cells\":{\"fill\":{\"color\":\"#EBF0F8\"},\"line\":{\"color\":\"white\"}},\"header\":{\"fill\":{\"color\":\"#C8D4E3\"},\"line\":{\"color\":\"white\"}},\"type\":\"table\"}]},\"layout\":{\"annotationdefaults\":{\"arrowcolor\":\"#2a3f5f\",\"arrowhead\":0,\"arrowwidth\":1},\"autotypenumbers\":\"strict\",\"coloraxis\":{\"colorbar\":{\"outlinewidth\":0,\"ticks\":\"\"}},\"colorscale\":{\"diverging\":[[0,\"#8e0152\"],[0.1,\"#c51b7d\"],[0.2,\"#de77ae\"],[0.3,\"#f1b6da\"],[0.4,\"#fde0ef\"],[0.5,\"#f7f7f7\"],[0.6,\"#e6f5d0\"],[0.7,\"#b8e186\"],[0.8,\"#7fbc41\"],[0.9,\"#4d9221\"],[1,\"#276419\"]],\"sequential\":[[0.0,\"#0d0887\"],[0.1111111111111111,\"#46039f\"],[0.2222222222222222,\"#7201a8\"],[0.3333333333333333,\"#9c179e\"],[0.4444444444444444,\"#bd3786\"],[0.5555555555555556,\"#d8576b\"],[0.6666666666666666,\"#ed7953\"],[0.7777777777777778,\"#fb9f3a\"],[0.8888888888888888,\"#fdca26\"],[1.0,\"#f0f921\"]],\"sequentialminus\":[[0.0,\"#0d0887\"],[0.1111111111111111,\"#46039f\"],[0.2222222222222222,\"#7201a8\"],[0.3333333333333333,\"#9c179e\"],[0.4444444444444444,\"#bd3786\"],[0.5555555555555556,\"#d8576b\"],[0.6666666666666666,\"#ed7953\"],[0.7777777777777778,\"#fb9f3a\"],[0.8888888888888888,\"#fdca26\"],[1.0,\"#f0f921\"]]},\"colorway\":[\"#636efa\",\"#EF553B\",\"#00cc96\",\"#ab63fa\",\"#FFA15A\",\"#19d3f3\",\"#FF6692\",\"#B6E880\",\"#FF97FF\",\"#FECB52\"],\"font\":{\"color\":\"#2a3f5f\"},\"geo\":{\"bgcolor\":\"white\",\"lakecolor\":\"white\",\"landcolor\":\"white\",\"showlakes\":true,\"showland\":true,\"subunitcolor\":\"#C8D4E3\"},\"hoverlabel\":{\"align\":\"left\"},\"hovermode\":\"closest\",\"mapbox\":{\"style\":\"light\"},\"paper_bgcolor\":\"white\",\"plot_bgcolor\":\"white\",\"polar\":{\"angularaxis\":{\"gridcolor\":\"#EBF0F8\",\"linecolor\":\"#EBF0F8\",\"ticks\":\"\"},\"bgcolor\":\"white\",\"radialaxis\":{\"gridcolor\":\"#EBF0F8\",\"linecolor\":\"#EBF0F8\",\"ticks\":\"\"}},\"scene\":{\"xaxis\":{\"backgroundcolor\":\"white\",\"gridcolor\":\"#DFE8F3\",\"gridwidth\":2,\"linecolor\":\"#EBF0F8\",\"showbackground\":true,\"ticks\":\"\",\"zerolinecolor\":\"#EBF0F8\"},\"yaxis\":{\"backgroundcolor\":\"white\",\"gridcolor\":\"#DFE8F3\",\"gridwidth\":2,\"linecolor\":\"#EBF0F8\",\"showbackground\":true,\"ticks\":\"\",\"zerolinecolor\":\"#EBF0F8\"},\"zaxis\":{\"backgroundcolor\":\"white\",\"gridcolor\":\"#DFE8F3\",\"gridwidth\":2,\"linecolor\":\"#EBF0F8\",\"showbackground\":true,\"ticks\":\"\",\"zerolinecolor\":\"#EBF0F8\"}},\"shapedefaults\":{\"line\":{\"color\":\"#2a3f5f\"}},\"ternary\":{\"aaxis\":{\"gridcolor\":\"#DFE8F3\",\"linecolor\":\"#A2B1C6\",\"ticks\":\"\"},\"baxis\":{\"gridcolor\":\"#DFE8F3\",\"linecolor\":\"#A2B1C6\",\"ticks\":\"\"},\"bgcolor\":\"white\",\"caxis\":{\"gridcolor\":\"#DFE8F3\",\"linecolor\":\"#A2B1C6\",\"ticks\":\"\"}},\"title\":{\"x\":0.05},\"xaxis\":{\"automargin\":true,\"gridcolor\":\"#EBF0F8\",\"linecolor\":\"#EBF0F8\",\"ticks\":\"\",\"title\":{\"standoff\":15},\"zerolinecolor\":\"#EBF0F8\",\"zerolinewidth\":2},\"yaxis\":{\"automargin\":true,\"gridcolor\":\"#EBF0F8\",\"linecolor\":\"#EBF0F8\",\"ticks\":\"\",\"title\":{\"standoff\":15},\"zerolinecolor\":\"#EBF0F8\",\"zerolinewidth\":2}}},\"xaxis\":{\"anchor\":\"y\",\"domain\":[0.0,1.0],\"title\":{\"text\":\"Features\"},\"tickangle\":70},\"yaxis\":{\"anchor\":\"x\",\"domain\":[0.0,1.0],\"title\":{\"text\":\"NaN Count out of (13)\"}},\"legend\":{\"tracegroupgap\":0},\"margin\":{\"t\":60},\"barmode\":\"relative\",\"height\":500,\"width\":600,\"title\":{\"text\":\"NaN Count per Column\"}},                        {\"responsive\": true}                    ).then(function(){\n",
       "                            \n",
       "var gd = document.getElementById('432ce524-d8ac-438b-ba25-2ee1b6c13e3d');\n",
       "var x = new MutationObserver(function (mutations, observer) {{\n",
       "        var display = window.getComputedStyle(gd).display;\n",
       "        if (!display || display === 'none') {{\n",
       "            console.log([gd, 'removed!']);\n",
       "            Plotly.purge(gd);\n",
       "            observer.disconnect();\n",
       "        }}\n",
       "}});\n",
       "\n",
       "// Listen for the removal of the full notebook cells\n",
       "var notebookContainer = gd.closest('#notebook-container');\n",
       "if (notebookContainer) {{\n",
       "    x.observe(notebookContainer, {childList: true});\n",
       "}}\n",
       "\n",
       "// Listen for the clearing of the current output cell\n",
       "var outputEl = gd.closest('.output');\n",
       "if (outputEl) {{\n",
       "    x.observe(outputEl, {childList: true});\n",
       "}}\n",
       "\n",
       "                        })                };                });            </script>        </div>"
      ]
     },
     "metadata": {},
     "output_type": "display_data"
    }
   ],
   "source": [
    "df_nan_columns=nan_columns(df)\n",
    "nan_columns_bar(df_nan_columns)"
   ]
  },
  {
   "cell_type": "code",
   "execution_count": 74,
   "id": "abc421a5-1d08-441b-8611-524c29887d01",
   "metadata": {},
   "outputs": [
    {
     "name": "stdout",
     "output_type": "stream",
     "text": [
      "Data cleaning (method 2) completed in 2.4035 seconds.\n"
     ]
    }
   ],
   "source": [
    "\n",
    "\n",
    "\n",
    "df=data_cleaning2(df,\"race_eth\")\n"
   ]
  },
  {
   "cell_type": "code",
   "execution_count": 75,
   "id": "0392ae0a-b5dc-4c54-b3c0-a3c90d3ea68a",
   "metadata": {},
   "outputs": [
    {
     "data": {
      "text/html": [
       "<div>\n",
       "<style scoped>\n",
       "    .dataframe tbody tr th:only-of-type {\n",
       "        vertical-align: middle;\n",
       "    }\n",
       "\n",
       "    .dataframe tbody tr th {\n",
       "        vertical-align: top;\n",
       "    }\n",
       "\n",
       "    .dataframe thead th {\n",
       "        text-align: right;\n",
       "    }\n",
       "</style>\n",
       "<table border=\"1\" class=\"dataframe\">\n",
       "  <thead>\n",
       "    <tr style=\"text-align: right;\">\n",
       "      <th></th>\n",
       "      <th>year</th>\n",
       "      <th>age_group_5_years</th>\n",
       "      <th>race_eth</th>\n",
       "      <th>first_degree_hx</th>\n",
       "      <th>age_menarche</th>\n",
       "      <th>age_first_birth</th>\n",
       "      <th>BIRADS_breast_density</th>\n",
       "      <th>current_hrt</th>\n",
       "      <th>menopaus</th>\n",
       "      <th>bmi_group</th>\n",
       "      <th>biophx</th>\n",
       "      <th>breast_cancer_history</th>\n",
       "      <th>count</th>\n",
       "    </tr>\n",
       "  </thead>\n",
       "  <tbody>\n",
       "    <tr>\n",
       "      <th>0</th>\n",
       "      <td>2013</td>\n",
       "      <td>7</td>\n",
       "      <td>1</td>\n",
       "      <td>0.0</td>\n",
       "      <td>1.0</td>\n",
       "      <td>3.0</td>\n",
       "      <td>1.0</td>\n",
       "      <td>1.0</td>\n",
       "      <td>2.0</td>\n",
       "      <td>3.0</td>\n",
       "      <td>0.0</td>\n",
       "      <td>0.0</td>\n",
       "      <td>7</td>\n",
       "    </tr>\n",
       "    <tr>\n",
       "      <th>1</th>\n",
       "      <td>2013</td>\n",
       "      <td>7</td>\n",
       "      <td>1</td>\n",
       "      <td>0.0</td>\n",
       "      <td>1.0</td>\n",
       "      <td>3.0</td>\n",
       "      <td>1.0</td>\n",
       "      <td>1.0</td>\n",
       "      <td>2.0</td>\n",
       "      <td>3.0</td>\n",
       "      <td>1.0</td>\n",
       "      <td>0.0</td>\n",
       "      <td>3</td>\n",
       "    </tr>\n",
       "    <tr>\n",
       "      <th>2</th>\n",
       "      <td>2013</td>\n",
       "      <td>7</td>\n",
       "      <td>1</td>\n",
       "      <td>0.0</td>\n",
       "      <td>1.0</td>\n",
       "      <td>3.0</td>\n",
       "      <td>1.0</td>\n",
       "      <td>1.0</td>\n",
       "      <td>2.0</td>\n",
       "      <td>4.0</td>\n",
       "      <td>0.0</td>\n",
       "      <td>0.0</td>\n",
       "      <td>6</td>\n",
       "    </tr>\n",
       "    <tr>\n",
       "      <th>3</th>\n",
       "      <td>2013</td>\n",
       "      <td>7</td>\n",
       "      <td>1</td>\n",
       "      <td>0.0</td>\n",
       "      <td>1.0</td>\n",
       "      <td>3.0</td>\n",
       "      <td>1.0</td>\n",
       "      <td>1.0</td>\n",
       "      <td>2.0</td>\n",
       "      <td>4.0</td>\n",
       "      <td>1.0</td>\n",
       "      <td>0.0</td>\n",
       "      <td>1</td>\n",
       "    </tr>\n",
       "    <tr>\n",
       "      <th>4</th>\n",
       "      <td>2013</td>\n",
       "      <td>7</td>\n",
       "      <td>1</td>\n",
       "      <td>0.0</td>\n",
       "      <td>1.0</td>\n",
       "      <td>3.0</td>\n",
       "      <td>1.0</td>\n",
       "      <td>1.0</td>\n",
       "      <td>2.0</td>\n",
       "      <td>4.0</td>\n",
       "      <td>1.0</td>\n",
       "      <td>1.0</td>\n",
       "      <td>1</td>\n",
       "    </tr>\n",
       "    <tr>\n",
       "      <th>...</th>\n",
       "      <td>...</td>\n",
       "      <td>...</td>\n",
       "      <td>...</td>\n",
       "      <td>...</td>\n",
       "      <td>...</td>\n",
       "      <td>...</td>\n",
       "      <td>...</td>\n",
       "      <td>...</td>\n",
       "      <td>...</td>\n",
       "      <td>...</td>\n",
       "      <td>...</td>\n",
       "      <td>...</td>\n",
       "      <td>...</td>\n",
       "    </tr>\n",
       "    <tr>\n",
       "      <th>9898</th>\n",
       "      <td>2013</td>\n",
       "      <td>7</td>\n",
       "      <td>3</td>\n",
       "      <td>0.0</td>\n",
       "      <td>1.0</td>\n",
       "      <td>4.0</td>\n",
       "      <td>3.0</td>\n",
       "      <td>0.0</td>\n",
       "      <td>2.0</td>\n",
       "      <td>2.0</td>\n",
       "      <td>0.0</td>\n",
       "      <td>0.0</td>\n",
       "      <td>5</td>\n",
       "    </tr>\n",
       "    <tr>\n",
       "      <th>9899</th>\n",
       "      <td>2013</td>\n",
       "      <td>7</td>\n",
       "      <td>3</td>\n",
       "      <td>0.0</td>\n",
       "      <td>1.0</td>\n",
       "      <td>4.0</td>\n",
       "      <td>3.0</td>\n",
       "      <td>0.0</td>\n",
       "      <td>2.0</td>\n",
       "      <td>4.0</td>\n",
       "      <td>1.0</td>\n",
       "      <td>1.0</td>\n",
       "      <td>1</td>\n",
       "    </tr>\n",
       "    <tr>\n",
       "      <th>9900</th>\n",
       "      <td>2013</td>\n",
       "      <td>7</td>\n",
       "      <td>3</td>\n",
       "      <td>0.0</td>\n",
       "      <td>1.0</td>\n",
       "      <td>4.0</td>\n",
       "      <td>3.0</td>\n",
       "      <td>0.0</td>\n",
       "      <td>2.0</td>\n",
       "      <td>1.0</td>\n",
       "      <td>0.0</td>\n",
       "      <td>0.0</td>\n",
       "      <td>7</td>\n",
       "    </tr>\n",
       "    <tr>\n",
       "      <th>9901</th>\n",
       "      <td>2013</td>\n",
       "      <td>7</td>\n",
       "      <td>3</td>\n",
       "      <td>0.0</td>\n",
       "      <td>1.0</td>\n",
       "      <td>4.0</td>\n",
       "      <td>3.0</td>\n",
       "      <td>0.0</td>\n",
       "      <td>2.0</td>\n",
       "      <td>1.0</td>\n",
       "      <td>1.0</td>\n",
       "      <td>0.0</td>\n",
       "      <td>2</td>\n",
       "    </tr>\n",
       "    <tr>\n",
       "      <th>9902</th>\n",
       "      <td>2013</td>\n",
       "      <td>7</td>\n",
       "      <td>3</td>\n",
       "      <td>0.0</td>\n",
       "      <td>1.0</td>\n",
       "      <td>4.0</td>\n",
       "      <td>3.0</td>\n",
       "      <td>0.0</td>\n",
       "      <td>2.0</td>\n",
       "      <td>1.0</td>\n",
       "      <td>1.0</td>\n",
       "      <td>1.0</td>\n",
       "      <td>1</td>\n",
       "    </tr>\n",
       "  </tbody>\n",
       "</table>\n",
       "<p>9903 rows × 13 columns</p>\n",
       "</div>"
      ],
      "text/plain": [
       "      year  age_group_5_years  race_eth  first_degree_hx  age_menarche  \\\n",
       "0     2013                  7         1              0.0           1.0   \n",
       "1     2013                  7         1              0.0           1.0   \n",
       "2     2013                  7         1              0.0           1.0   \n",
       "3     2013                  7         1              0.0           1.0   \n",
       "4     2013                  7         1              0.0           1.0   \n",
       "...    ...                ...       ...              ...           ...   \n",
       "9898  2013                  7         3              0.0           1.0   \n",
       "9899  2013                  7         3              0.0           1.0   \n",
       "9900  2013                  7         3              0.0           1.0   \n",
       "9901  2013                  7         3              0.0           1.0   \n",
       "9902  2013                  7         3              0.0           1.0   \n",
       "\n",
       "      age_first_birth  BIRADS_breast_density  current_hrt  menopaus  \\\n",
       "0                 3.0                    1.0          1.0       2.0   \n",
       "1                 3.0                    1.0          1.0       2.0   \n",
       "2                 3.0                    1.0          1.0       2.0   \n",
       "3                 3.0                    1.0          1.0       2.0   \n",
       "4                 3.0                    1.0          1.0       2.0   \n",
       "...               ...                    ...          ...       ...   \n",
       "9898              4.0                    3.0          0.0       2.0   \n",
       "9899              4.0                    3.0          0.0       2.0   \n",
       "9900              4.0                    3.0          0.0       2.0   \n",
       "9901              4.0                    3.0          0.0       2.0   \n",
       "9902              4.0                    3.0          0.0       2.0   \n",
       "\n",
       "      bmi_group  biophx  breast_cancer_history  count  \n",
       "0           3.0     0.0                    0.0      7  \n",
       "1           3.0     1.0                    0.0      3  \n",
       "2           4.0     0.0                    0.0      6  \n",
       "3           4.0     1.0                    0.0      1  \n",
       "4           4.0     1.0                    1.0      1  \n",
       "...         ...     ...                    ...    ...  \n",
       "9898        2.0     0.0                    0.0      5  \n",
       "9899        4.0     1.0                    1.0      1  \n",
       "9900        1.0     0.0                    0.0      7  \n",
       "9901        1.0     1.0                    0.0      2  \n",
       "9902        1.0     1.0                    1.0      1  \n",
       "\n",
       "[9903 rows x 13 columns]"
      ]
     },
     "execution_count": 75,
     "metadata": {},
     "output_type": "execute_result"
    }
   ],
   "source": [
    "df"
   ]
  },
  {
   "cell_type": "code",
   "execution_count": 76,
   "id": "0abc2da4-1b87-47db-91ca-c5710b28e8f1",
   "metadata": {},
   "outputs": [
    {
     "data": {
      "application/vnd.plotly.v1+json": {
       "config": {
        "plotlyServerURL": "https://plot.ly"
       },
       "data": [
        {
         "alignmentgroup": "True",
         "hovertemplate": "index=%{x}<br>NaN Count=%{y}<br>Percentage of NaNs (%)=%{text}<extra></extra>",
         "legendgroup": "",
         "marker": {
          "color": "#636efa",
          "pattern": {
           "shape": ""
          }
         },
         "name": "",
         "offsetgroup": "",
         "orientation": "v",
         "showlegend": false,
         "text": [
          0,
          0,
          0,
          0,
          0,
          0,
          0,
          0,
          0,
          0,
          0,
          0,
          0
         ],
         "textposition": "inside",
         "texttemplate": "%{text:.1f}%",
         "type": "bar",
         "x": [
          "year",
          "age_group_5_years",
          "race_eth",
          "first_degree_hx",
          "age_menarche",
          "age_first_birth",
          "BIRADS_breast_density",
          "current_hrt",
          "menopaus",
          "bmi_group",
          "biophx",
          "breast_cancer_history",
          "count"
         ],
         "xaxis": "x",
         "y": [
          0,
          0,
          0,
          0,
          0,
          0,
          0,
          0,
          0,
          0,
          0,
          0,
          0
         ],
         "yaxis": "y"
        }
       ],
       "layout": {
        "barmode": "relative",
        "height": 500,
        "legend": {
         "tracegroupgap": 0
        },
        "margin": {
         "t": 60
        },
        "template": {
         "data": {
          "bar": [
           {
            "error_x": {
             "color": "#2a3f5f"
            },
            "error_y": {
             "color": "#2a3f5f"
            },
            "marker": {
             "line": {
              "color": "white",
              "width": 0.5
             },
             "pattern": {
              "fillmode": "overlay",
              "size": 10,
              "solidity": 0.2
             }
            },
            "type": "bar"
           }
          ],
          "barpolar": [
           {
            "marker": {
             "line": {
              "color": "white",
              "width": 0.5
             },
             "pattern": {
              "fillmode": "overlay",
              "size": 10,
              "solidity": 0.2
             }
            },
            "type": "barpolar"
           }
          ],
          "carpet": [
           {
            "aaxis": {
             "endlinecolor": "#2a3f5f",
             "gridcolor": "#C8D4E3",
             "linecolor": "#C8D4E3",
             "minorgridcolor": "#C8D4E3",
             "startlinecolor": "#2a3f5f"
            },
            "baxis": {
             "endlinecolor": "#2a3f5f",
             "gridcolor": "#C8D4E3",
             "linecolor": "#C8D4E3",
             "minorgridcolor": "#C8D4E3",
             "startlinecolor": "#2a3f5f"
            },
            "type": "carpet"
           }
          ],
          "choropleth": [
           {
            "colorbar": {
             "outlinewidth": 0,
             "ticks": ""
            },
            "type": "choropleth"
           }
          ],
          "contour": [
           {
            "colorbar": {
             "outlinewidth": 0,
             "ticks": ""
            },
            "colorscale": [
             [
              0,
              "#0d0887"
             ],
             [
              0.1111111111111111,
              "#46039f"
             ],
             [
              0.2222222222222222,
              "#7201a8"
             ],
             [
              0.3333333333333333,
              "#9c179e"
             ],
             [
              0.4444444444444444,
              "#bd3786"
             ],
             [
              0.5555555555555556,
              "#d8576b"
             ],
             [
              0.6666666666666666,
              "#ed7953"
             ],
             [
              0.7777777777777778,
              "#fb9f3a"
             ],
             [
              0.8888888888888888,
              "#fdca26"
             ],
             [
              1,
              "#f0f921"
             ]
            ],
            "type": "contour"
           }
          ],
          "contourcarpet": [
           {
            "colorbar": {
             "outlinewidth": 0,
             "ticks": ""
            },
            "type": "contourcarpet"
           }
          ],
          "heatmap": [
           {
            "colorbar": {
             "outlinewidth": 0,
             "ticks": ""
            },
            "colorscale": [
             [
              0,
              "#0d0887"
             ],
             [
              0.1111111111111111,
              "#46039f"
             ],
             [
              0.2222222222222222,
              "#7201a8"
             ],
             [
              0.3333333333333333,
              "#9c179e"
             ],
             [
              0.4444444444444444,
              "#bd3786"
             ],
             [
              0.5555555555555556,
              "#d8576b"
             ],
             [
              0.6666666666666666,
              "#ed7953"
             ],
             [
              0.7777777777777778,
              "#fb9f3a"
             ],
             [
              0.8888888888888888,
              "#fdca26"
             ],
             [
              1,
              "#f0f921"
             ]
            ],
            "type": "heatmap"
           }
          ],
          "heatmapgl": [
           {
            "colorbar": {
             "outlinewidth": 0,
             "ticks": ""
            },
            "colorscale": [
             [
              0,
              "#0d0887"
             ],
             [
              0.1111111111111111,
              "#46039f"
             ],
             [
              0.2222222222222222,
              "#7201a8"
             ],
             [
              0.3333333333333333,
              "#9c179e"
             ],
             [
              0.4444444444444444,
              "#bd3786"
             ],
             [
              0.5555555555555556,
              "#d8576b"
             ],
             [
              0.6666666666666666,
              "#ed7953"
             ],
             [
              0.7777777777777778,
              "#fb9f3a"
             ],
             [
              0.8888888888888888,
              "#fdca26"
             ],
             [
              1,
              "#f0f921"
             ]
            ],
            "type": "heatmapgl"
           }
          ],
          "histogram": [
           {
            "marker": {
             "pattern": {
              "fillmode": "overlay",
              "size": 10,
              "solidity": 0.2
             }
            },
            "type": "histogram"
           }
          ],
          "histogram2d": [
           {
            "colorbar": {
             "outlinewidth": 0,
             "ticks": ""
            },
            "colorscale": [
             [
              0,
              "#0d0887"
             ],
             [
              0.1111111111111111,
              "#46039f"
             ],
             [
              0.2222222222222222,
              "#7201a8"
             ],
             [
              0.3333333333333333,
              "#9c179e"
             ],
             [
              0.4444444444444444,
              "#bd3786"
             ],
             [
              0.5555555555555556,
              "#d8576b"
             ],
             [
              0.6666666666666666,
              "#ed7953"
             ],
             [
              0.7777777777777778,
              "#fb9f3a"
             ],
             [
              0.8888888888888888,
              "#fdca26"
             ],
             [
              1,
              "#f0f921"
             ]
            ],
            "type": "histogram2d"
           }
          ],
          "histogram2dcontour": [
           {
            "colorbar": {
             "outlinewidth": 0,
             "ticks": ""
            },
            "colorscale": [
             [
              0,
              "#0d0887"
             ],
             [
              0.1111111111111111,
              "#46039f"
             ],
             [
              0.2222222222222222,
              "#7201a8"
             ],
             [
              0.3333333333333333,
              "#9c179e"
             ],
             [
              0.4444444444444444,
              "#bd3786"
             ],
             [
              0.5555555555555556,
              "#d8576b"
             ],
             [
              0.6666666666666666,
              "#ed7953"
             ],
             [
              0.7777777777777778,
              "#fb9f3a"
             ],
             [
              0.8888888888888888,
              "#fdca26"
             ],
             [
              1,
              "#f0f921"
             ]
            ],
            "type": "histogram2dcontour"
           }
          ],
          "mesh3d": [
           {
            "colorbar": {
             "outlinewidth": 0,
             "ticks": ""
            },
            "type": "mesh3d"
           }
          ],
          "parcoords": [
           {
            "line": {
             "colorbar": {
              "outlinewidth": 0,
              "ticks": ""
             }
            },
            "type": "parcoords"
           }
          ],
          "pie": [
           {
            "automargin": true,
            "type": "pie"
           }
          ],
          "scatter": [
           {
            "fillpattern": {
             "fillmode": "overlay",
             "size": 10,
             "solidity": 0.2
            },
            "type": "scatter"
           }
          ],
          "scatter3d": [
           {
            "line": {
             "colorbar": {
              "outlinewidth": 0,
              "ticks": ""
             }
            },
            "marker": {
             "colorbar": {
              "outlinewidth": 0,
              "ticks": ""
             }
            },
            "type": "scatter3d"
           }
          ],
          "scattercarpet": [
           {
            "marker": {
             "colorbar": {
              "outlinewidth": 0,
              "ticks": ""
             }
            },
            "type": "scattercarpet"
           }
          ],
          "scattergeo": [
           {
            "marker": {
             "colorbar": {
              "outlinewidth": 0,
              "ticks": ""
             }
            },
            "type": "scattergeo"
           }
          ],
          "scattergl": [
           {
            "marker": {
             "colorbar": {
              "outlinewidth": 0,
              "ticks": ""
             }
            },
            "type": "scattergl"
           }
          ],
          "scattermapbox": [
           {
            "marker": {
             "colorbar": {
              "outlinewidth": 0,
              "ticks": ""
             }
            },
            "type": "scattermapbox"
           }
          ],
          "scatterpolar": [
           {
            "marker": {
             "colorbar": {
              "outlinewidth": 0,
              "ticks": ""
             }
            },
            "type": "scatterpolar"
           }
          ],
          "scatterpolargl": [
           {
            "marker": {
             "colorbar": {
              "outlinewidth": 0,
              "ticks": ""
             }
            },
            "type": "scatterpolargl"
           }
          ],
          "scatterternary": [
           {
            "marker": {
             "colorbar": {
              "outlinewidth": 0,
              "ticks": ""
             }
            },
            "type": "scatterternary"
           }
          ],
          "surface": [
           {
            "colorbar": {
             "outlinewidth": 0,
             "ticks": ""
            },
            "colorscale": [
             [
              0,
              "#0d0887"
             ],
             [
              0.1111111111111111,
              "#46039f"
             ],
             [
              0.2222222222222222,
              "#7201a8"
             ],
             [
              0.3333333333333333,
              "#9c179e"
             ],
             [
              0.4444444444444444,
              "#bd3786"
             ],
             [
              0.5555555555555556,
              "#d8576b"
             ],
             [
              0.6666666666666666,
              "#ed7953"
             ],
             [
              0.7777777777777778,
              "#fb9f3a"
             ],
             [
              0.8888888888888888,
              "#fdca26"
             ],
             [
              1,
              "#f0f921"
             ]
            ],
            "type": "surface"
           }
          ],
          "table": [
           {
            "cells": {
             "fill": {
              "color": "#EBF0F8"
             },
             "line": {
              "color": "white"
             }
            },
            "header": {
             "fill": {
              "color": "#C8D4E3"
             },
             "line": {
              "color": "white"
             }
            },
            "type": "table"
           }
          ]
         },
         "layout": {
          "annotationdefaults": {
           "arrowcolor": "#2a3f5f",
           "arrowhead": 0,
           "arrowwidth": 1
          },
          "autotypenumbers": "strict",
          "coloraxis": {
           "colorbar": {
            "outlinewidth": 0,
            "ticks": ""
           }
          },
          "colorscale": {
           "diverging": [
            [
             0,
             "#8e0152"
            ],
            [
             0.1,
             "#c51b7d"
            ],
            [
             0.2,
             "#de77ae"
            ],
            [
             0.3,
             "#f1b6da"
            ],
            [
             0.4,
             "#fde0ef"
            ],
            [
             0.5,
             "#f7f7f7"
            ],
            [
             0.6,
             "#e6f5d0"
            ],
            [
             0.7,
             "#b8e186"
            ],
            [
             0.8,
             "#7fbc41"
            ],
            [
             0.9,
             "#4d9221"
            ],
            [
             1,
             "#276419"
            ]
           ],
           "sequential": [
            [
             0,
             "#0d0887"
            ],
            [
             0.1111111111111111,
             "#46039f"
            ],
            [
             0.2222222222222222,
             "#7201a8"
            ],
            [
             0.3333333333333333,
             "#9c179e"
            ],
            [
             0.4444444444444444,
             "#bd3786"
            ],
            [
             0.5555555555555556,
             "#d8576b"
            ],
            [
             0.6666666666666666,
             "#ed7953"
            ],
            [
             0.7777777777777778,
             "#fb9f3a"
            ],
            [
             0.8888888888888888,
             "#fdca26"
            ],
            [
             1,
             "#f0f921"
            ]
           ],
           "sequentialminus": [
            [
             0,
             "#0d0887"
            ],
            [
             0.1111111111111111,
             "#46039f"
            ],
            [
             0.2222222222222222,
             "#7201a8"
            ],
            [
             0.3333333333333333,
             "#9c179e"
            ],
            [
             0.4444444444444444,
             "#bd3786"
            ],
            [
             0.5555555555555556,
             "#d8576b"
            ],
            [
             0.6666666666666666,
             "#ed7953"
            ],
            [
             0.7777777777777778,
             "#fb9f3a"
            ],
            [
             0.8888888888888888,
             "#fdca26"
            ],
            [
             1,
             "#f0f921"
            ]
           ]
          },
          "colorway": [
           "#636efa",
           "#EF553B",
           "#00cc96",
           "#ab63fa",
           "#FFA15A",
           "#19d3f3",
           "#FF6692",
           "#B6E880",
           "#FF97FF",
           "#FECB52"
          ],
          "font": {
           "color": "#2a3f5f"
          },
          "geo": {
           "bgcolor": "white",
           "lakecolor": "white",
           "landcolor": "white",
           "showlakes": true,
           "showland": true,
           "subunitcolor": "#C8D4E3"
          },
          "hoverlabel": {
           "align": "left"
          },
          "hovermode": "closest",
          "mapbox": {
           "style": "light"
          },
          "paper_bgcolor": "white",
          "plot_bgcolor": "white",
          "polar": {
           "angularaxis": {
            "gridcolor": "#EBF0F8",
            "linecolor": "#EBF0F8",
            "ticks": ""
           },
           "bgcolor": "white",
           "radialaxis": {
            "gridcolor": "#EBF0F8",
            "linecolor": "#EBF0F8",
            "ticks": ""
           }
          },
          "scene": {
           "xaxis": {
            "backgroundcolor": "white",
            "gridcolor": "#DFE8F3",
            "gridwidth": 2,
            "linecolor": "#EBF0F8",
            "showbackground": true,
            "ticks": "",
            "zerolinecolor": "#EBF0F8"
           },
           "yaxis": {
            "backgroundcolor": "white",
            "gridcolor": "#DFE8F3",
            "gridwidth": 2,
            "linecolor": "#EBF0F8",
            "showbackground": true,
            "ticks": "",
            "zerolinecolor": "#EBF0F8"
           },
           "zaxis": {
            "backgroundcolor": "white",
            "gridcolor": "#DFE8F3",
            "gridwidth": 2,
            "linecolor": "#EBF0F8",
            "showbackground": true,
            "ticks": "",
            "zerolinecolor": "#EBF0F8"
           }
          },
          "shapedefaults": {
           "line": {
            "color": "#2a3f5f"
           }
          },
          "ternary": {
           "aaxis": {
            "gridcolor": "#DFE8F3",
            "linecolor": "#A2B1C6",
            "ticks": ""
           },
           "baxis": {
            "gridcolor": "#DFE8F3",
            "linecolor": "#A2B1C6",
            "ticks": ""
           },
           "bgcolor": "white",
           "caxis": {
            "gridcolor": "#DFE8F3",
            "linecolor": "#A2B1C6",
            "ticks": ""
           }
          },
          "title": {
           "x": 0.05
          },
          "xaxis": {
           "automargin": true,
           "gridcolor": "#EBF0F8",
           "linecolor": "#EBF0F8",
           "ticks": "",
           "title": {
            "standoff": 15
           },
           "zerolinecolor": "#EBF0F8",
           "zerolinewidth": 2
          },
          "yaxis": {
           "automargin": true,
           "gridcolor": "#EBF0F8",
           "linecolor": "#EBF0F8",
           "ticks": "",
           "title": {
            "standoff": 15
           },
           "zerolinecolor": "#EBF0F8",
           "zerolinewidth": 2
          }
         }
        },
        "title": {
         "text": "NaN Count per Column"
        },
        "width": 600,
        "xaxis": {
         "anchor": "y",
         "autorange": true,
         "domain": [
          0,
          1
         ],
         "range": [
          -0.5,
          12.5
         ],
         "tickangle": 70,
         "title": {
          "text": "Features"
         },
         "type": "category"
        },
        "yaxis": {
         "anchor": "x",
         "autorange": true,
         "domain": [
          0,
          1
         ],
         "range": [
          -1,
          1
         ],
         "title": {
          "text": "NaN Count out of (13)"
         },
         "type": "linear"
        }
       }
      },
      "text/html": [
       "<div>                            <div id=\"2c68d31d-a587-4dc5-bc2a-db22f257a292\" class=\"plotly-graph-div\" style=\"height:500px; width:600px;\"></div>            <script type=\"text/javascript\">                require([\"plotly\"], function(Plotly) {                    window.PLOTLYENV=window.PLOTLYENV || {};                                    if (document.getElementById(\"2c68d31d-a587-4dc5-bc2a-db22f257a292\")) {                    Plotly.newPlot(                        \"2c68d31d-a587-4dc5-bc2a-db22f257a292\",                        [{\"alignmentgroup\":\"True\",\"hovertemplate\":\"index=%{x}\\u003cbr\\u003eNaN Count=%{y}\\u003cbr\\u003ePercentage of NaNs (%)=%{text}\\u003cextra\\u003e\\u003c\\u002fextra\\u003e\",\"legendgroup\":\"\",\"marker\":{\"color\":\"#636efa\",\"pattern\":{\"shape\":\"\"}},\"name\":\"\",\"offsetgroup\":\"\",\"orientation\":\"v\",\"showlegend\":false,\"text\":[0.0,0.0,0.0,0.0,0.0,0.0,0.0,0.0,0.0,0.0,0.0,0.0,0.0],\"textposition\":\"inside\",\"x\":[\"year\",\"age_group_5_years\",\"race_eth\",\"first_degree_hx\",\"age_menarche\",\"age_first_birth\",\"BIRADS_breast_density\",\"current_hrt\",\"menopaus\",\"bmi_group\",\"biophx\",\"breast_cancer_history\",\"count\"],\"xaxis\":\"x\",\"y\":[0,0,0,0,0,0,0,0,0,0,0,0,0],\"yaxis\":\"y\",\"type\":\"bar\",\"texttemplate\":\"%{text:.1f}%\"}],                        {\"template\":{\"data\":{\"barpolar\":[{\"marker\":{\"line\":{\"color\":\"white\",\"width\":0.5},\"pattern\":{\"fillmode\":\"overlay\",\"size\":10,\"solidity\":0.2}},\"type\":\"barpolar\"}],\"bar\":[{\"error_x\":{\"color\":\"#2a3f5f\"},\"error_y\":{\"color\":\"#2a3f5f\"},\"marker\":{\"line\":{\"color\":\"white\",\"width\":0.5},\"pattern\":{\"fillmode\":\"overlay\",\"size\":10,\"solidity\":0.2}},\"type\":\"bar\"}],\"carpet\":[{\"aaxis\":{\"endlinecolor\":\"#2a3f5f\",\"gridcolor\":\"#C8D4E3\",\"linecolor\":\"#C8D4E3\",\"minorgridcolor\":\"#C8D4E3\",\"startlinecolor\":\"#2a3f5f\"},\"baxis\":{\"endlinecolor\":\"#2a3f5f\",\"gridcolor\":\"#C8D4E3\",\"linecolor\":\"#C8D4E3\",\"minorgridcolor\":\"#C8D4E3\",\"startlinecolor\":\"#2a3f5f\"},\"type\":\"carpet\"}],\"choropleth\":[{\"colorbar\":{\"outlinewidth\":0,\"ticks\":\"\"},\"type\":\"choropleth\"}],\"contourcarpet\":[{\"colorbar\":{\"outlinewidth\":0,\"ticks\":\"\"},\"type\":\"contourcarpet\"}],\"contour\":[{\"colorbar\":{\"outlinewidth\":0,\"ticks\":\"\"},\"colorscale\":[[0.0,\"#0d0887\"],[0.1111111111111111,\"#46039f\"],[0.2222222222222222,\"#7201a8\"],[0.3333333333333333,\"#9c179e\"],[0.4444444444444444,\"#bd3786\"],[0.5555555555555556,\"#d8576b\"],[0.6666666666666666,\"#ed7953\"],[0.7777777777777778,\"#fb9f3a\"],[0.8888888888888888,\"#fdca26\"],[1.0,\"#f0f921\"]],\"type\":\"contour\"}],\"heatmapgl\":[{\"colorbar\":{\"outlinewidth\":0,\"ticks\":\"\"},\"colorscale\":[[0.0,\"#0d0887\"],[0.1111111111111111,\"#46039f\"],[0.2222222222222222,\"#7201a8\"],[0.3333333333333333,\"#9c179e\"],[0.4444444444444444,\"#bd3786\"],[0.5555555555555556,\"#d8576b\"],[0.6666666666666666,\"#ed7953\"],[0.7777777777777778,\"#fb9f3a\"],[0.8888888888888888,\"#fdca26\"],[1.0,\"#f0f921\"]],\"type\":\"heatmapgl\"}],\"heatmap\":[{\"colorbar\":{\"outlinewidth\":0,\"ticks\":\"\"},\"colorscale\":[[0.0,\"#0d0887\"],[0.1111111111111111,\"#46039f\"],[0.2222222222222222,\"#7201a8\"],[0.3333333333333333,\"#9c179e\"],[0.4444444444444444,\"#bd3786\"],[0.5555555555555556,\"#d8576b\"],[0.6666666666666666,\"#ed7953\"],[0.7777777777777778,\"#fb9f3a\"],[0.8888888888888888,\"#fdca26\"],[1.0,\"#f0f921\"]],\"type\":\"heatmap\"}],\"histogram2dcontour\":[{\"colorbar\":{\"outlinewidth\":0,\"ticks\":\"\"},\"colorscale\":[[0.0,\"#0d0887\"],[0.1111111111111111,\"#46039f\"],[0.2222222222222222,\"#7201a8\"],[0.3333333333333333,\"#9c179e\"],[0.4444444444444444,\"#bd3786\"],[0.5555555555555556,\"#d8576b\"],[0.6666666666666666,\"#ed7953\"],[0.7777777777777778,\"#fb9f3a\"],[0.8888888888888888,\"#fdca26\"],[1.0,\"#f0f921\"]],\"type\":\"histogram2dcontour\"}],\"histogram2d\":[{\"colorbar\":{\"outlinewidth\":0,\"ticks\":\"\"},\"colorscale\":[[0.0,\"#0d0887\"],[0.1111111111111111,\"#46039f\"],[0.2222222222222222,\"#7201a8\"],[0.3333333333333333,\"#9c179e\"],[0.4444444444444444,\"#bd3786\"],[0.5555555555555556,\"#d8576b\"],[0.6666666666666666,\"#ed7953\"],[0.7777777777777778,\"#fb9f3a\"],[0.8888888888888888,\"#fdca26\"],[1.0,\"#f0f921\"]],\"type\":\"histogram2d\"}],\"histogram\":[{\"marker\":{\"pattern\":{\"fillmode\":\"overlay\",\"size\":10,\"solidity\":0.2}},\"type\":\"histogram\"}],\"mesh3d\":[{\"colorbar\":{\"outlinewidth\":0,\"ticks\":\"\"},\"type\":\"mesh3d\"}],\"parcoords\":[{\"line\":{\"colorbar\":{\"outlinewidth\":0,\"ticks\":\"\"}},\"type\":\"parcoords\"}],\"pie\":[{\"automargin\":true,\"type\":\"pie\"}],\"scatter3d\":[{\"line\":{\"colorbar\":{\"outlinewidth\":0,\"ticks\":\"\"}},\"marker\":{\"colorbar\":{\"outlinewidth\":0,\"ticks\":\"\"}},\"type\":\"scatter3d\"}],\"scattercarpet\":[{\"marker\":{\"colorbar\":{\"outlinewidth\":0,\"ticks\":\"\"}},\"type\":\"scattercarpet\"}],\"scattergeo\":[{\"marker\":{\"colorbar\":{\"outlinewidth\":0,\"ticks\":\"\"}},\"type\":\"scattergeo\"}],\"scattergl\":[{\"marker\":{\"colorbar\":{\"outlinewidth\":0,\"ticks\":\"\"}},\"type\":\"scattergl\"}],\"scattermapbox\":[{\"marker\":{\"colorbar\":{\"outlinewidth\":0,\"ticks\":\"\"}},\"type\":\"scattermapbox\"}],\"scatterpolargl\":[{\"marker\":{\"colorbar\":{\"outlinewidth\":0,\"ticks\":\"\"}},\"type\":\"scatterpolargl\"}],\"scatterpolar\":[{\"marker\":{\"colorbar\":{\"outlinewidth\":0,\"ticks\":\"\"}},\"type\":\"scatterpolar\"}],\"scatter\":[{\"fillpattern\":{\"fillmode\":\"overlay\",\"size\":10,\"solidity\":0.2},\"type\":\"scatter\"}],\"scatterternary\":[{\"marker\":{\"colorbar\":{\"outlinewidth\":0,\"ticks\":\"\"}},\"type\":\"scatterternary\"}],\"surface\":[{\"colorbar\":{\"outlinewidth\":0,\"ticks\":\"\"},\"colorscale\":[[0.0,\"#0d0887\"],[0.1111111111111111,\"#46039f\"],[0.2222222222222222,\"#7201a8\"],[0.3333333333333333,\"#9c179e\"],[0.4444444444444444,\"#bd3786\"],[0.5555555555555556,\"#d8576b\"],[0.6666666666666666,\"#ed7953\"],[0.7777777777777778,\"#fb9f3a\"],[0.8888888888888888,\"#fdca26\"],[1.0,\"#f0f921\"]],\"type\":\"surface\"}],\"table\":[{\"cells\":{\"fill\":{\"color\":\"#EBF0F8\"},\"line\":{\"color\":\"white\"}},\"header\":{\"fill\":{\"color\":\"#C8D4E3\"},\"line\":{\"color\":\"white\"}},\"type\":\"table\"}]},\"layout\":{\"annotationdefaults\":{\"arrowcolor\":\"#2a3f5f\",\"arrowhead\":0,\"arrowwidth\":1},\"autotypenumbers\":\"strict\",\"coloraxis\":{\"colorbar\":{\"outlinewidth\":0,\"ticks\":\"\"}},\"colorscale\":{\"diverging\":[[0,\"#8e0152\"],[0.1,\"#c51b7d\"],[0.2,\"#de77ae\"],[0.3,\"#f1b6da\"],[0.4,\"#fde0ef\"],[0.5,\"#f7f7f7\"],[0.6,\"#e6f5d0\"],[0.7,\"#b8e186\"],[0.8,\"#7fbc41\"],[0.9,\"#4d9221\"],[1,\"#276419\"]],\"sequential\":[[0.0,\"#0d0887\"],[0.1111111111111111,\"#46039f\"],[0.2222222222222222,\"#7201a8\"],[0.3333333333333333,\"#9c179e\"],[0.4444444444444444,\"#bd3786\"],[0.5555555555555556,\"#d8576b\"],[0.6666666666666666,\"#ed7953\"],[0.7777777777777778,\"#fb9f3a\"],[0.8888888888888888,\"#fdca26\"],[1.0,\"#f0f921\"]],\"sequentialminus\":[[0.0,\"#0d0887\"],[0.1111111111111111,\"#46039f\"],[0.2222222222222222,\"#7201a8\"],[0.3333333333333333,\"#9c179e\"],[0.4444444444444444,\"#bd3786\"],[0.5555555555555556,\"#d8576b\"],[0.6666666666666666,\"#ed7953\"],[0.7777777777777778,\"#fb9f3a\"],[0.8888888888888888,\"#fdca26\"],[1.0,\"#f0f921\"]]},\"colorway\":[\"#636efa\",\"#EF553B\",\"#00cc96\",\"#ab63fa\",\"#FFA15A\",\"#19d3f3\",\"#FF6692\",\"#B6E880\",\"#FF97FF\",\"#FECB52\"],\"font\":{\"color\":\"#2a3f5f\"},\"geo\":{\"bgcolor\":\"white\",\"lakecolor\":\"white\",\"landcolor\":\"white\",\"showlakes\":true,\"showland\":true,\"subunitcolor\":\"#C8D4E3\"},\"hoverlabel\":{\"align\":\"left\"},\"hovermode\":\"closest\",\"mapbox\":{\"style\":\"light\"},\"paper_bgcolor\":\"white\",\"plot_bgcolor\":\"white\",\"polar\":{\"angularaxis\":{\"gridcolor\":\"#EBF0F8\",\"linecolor\":\"#EBF0F8\",\"ticks\":\"\"},\"bgcolor\":\"white\",\"radialaxis\":{\"gridcolor\":\"#EBF0F8\",\"linecolor\":\"#EBF0F8\",\"ticks\":\"\"}},\"scene\":{\"xaxis\":{\"backgroundcolor\":\"white\",\"gridcolor\":\"#DFE8F3\",\"gridwidth\":2,\"linecolor\":\"#EBF0F8\",\"showbackground\":true,\"ticks\":\"\",\"zerolinecolor\":\"#EBF0F8\"},\"yaxis\":{\"backgroundcolor\":\"white\",\"gridcolor\":\"#DFE8F3\",\"gridwidth\":2,\"linecolor\":\"#EBF0F8\",\"showbackground\":true,\"ticks\":\"\",\"zerolinecolor\":\"#EBF0F8\"},\"zaxis\":{\"backgroundcolor\":\"white\",\"gridcolor\":\"#DFE8F3\",\"gridwidth\":2,\"linecolor\":\"#EBF0F8\",\"showbackground\":true,\"ticks\":\"\",\"zerolinecolor\":\"#EBF0F8\"}},\"shapedefaults\":{\"line\":{\"color\":\"#2a3f5f\"}},\"ternary\":{\"aaxis\":{\"gridcolor\":\"#DFE8F3\",\"linecolor\":\"#A2B1C6\",\"ticks\":\"\"},\"baxis\":{\"gridcolor\":\"#DFE8F3\",\"linecolor\":\"#A2B1C6\",\"ticks\":\"\"},\"bgcolor\":\"white\",\"caxis\":{\"gridcolor\":\"#DFE8F3\",\"linecolor\":\"#A2B1C6\",\"ticks\":\"\"}},\"title\":{\"x\":0.05},\"xaxis\":{\"automargin\":true,\"gridcolor\":\"#EBF0F8\",\"linecolor\":\"#EBF0F8\",\"ticks\":\"\",\"title\":{\"standoff\":15},\"zerolinecolor\":\"#EBF0F8\",\"zerolinewidth\":2},\"yaxis\":{\"automargin\":true,\"gridcolor\":\"#EBF0F8\",\"linecolor\":\"#EBF0F8\",\"ticks\":\"\",\"title\":{\"standoff\":15},\"zerolinecolor\":\"#EBF0F8\",\"zerolinewidth\":2}}},\"xaxis\":{\"anchor\":\"y\",\"domain\":[0.0,1.0],\"title\":{\"text\":\"Features\"},\"tickangle\":70},\"yaxis\":{\"anchor\":\"x\",\"domain\":[0.0,1.0],\"title\":{\"text\":\"NaN Count out of (13)\"}},\"legend\":{\"tracegroupgap\":0},\"margin\":{\"t\":60},\"barmode\":\"relative\",\"height\":500,\"width\":600,\"title\":{\"text\":\"NaN Count per Column\"}},                        {\"responsive\": true}                    ).then(function(){\n",
       "                            \n",
       "var gd = document.getElementById('2c68d31d-a587-4dc5-bc2a-db22f257a292');\n",
       "var x = new MutationObserver(function (mutations, observer) {{\n",
       "        var display = window.getComputedStyle(gd).display;\n",
       "        if (!display || display === 'none') {{\n",
       "            console.log([gd, 'removed!']);\n",
       "            Plotly.purge(gd);\n",
       "            observer.disconnect();\n",
       "        }}\n",
       "}});\n",
       "\n",
       "// Listen for the removal of the full notebook cells\n",
       "var notebookContainer = gd.closest('#notebook-container');\n",
       "if (notebookContainer) {{\n",
       "    x.observe(notebookContainer, {childList: true});\n",
       "}}\n",
       "\n",
       "// Listen for the clearing of the current output cell\n",
       "var outputEl = gd.closest('.output');\n",
       "if (outputEl) {{\n",
       "    x.observe(outputEl, {childList: true});\n",
       "}}\n",
       "\n",
       "                        })                };                });            </script>        </div>"
      ]
     },
     "metadata": {},
     "output_type": "display_data"
    }
   ],
   "source": [
    "df_nan_columns=nan_columns(df)\n",
    "nan_columns_bar(df_nan_columns)"
   ]
  },
  {
   "cell_type": "code",
   "execution_count": 77,
   "id": "6ea30892-94f9-4ae1-837f-9e00038de132",
   "metadata": {},
   "outputs": [
    {
     "data": {
      "text/html": [
       "<div>\n",
       "<style scoped>\n",
       "    .dataframe tbody tr th:only-of-type {\n",
       "        vertical-align: middle;\n",
       "    }\n",
       "\n",
       "    .dataframe tbody tr th {\n",
       "        vertical-align: top;\n",
       "    }\n",
       "\n",
       "    .dataframe thead th {\n",
       "        text-align: right;\n",
       "    }\n",
       "</style>\n",
       "<table border=\"1\" class=\"dataframe\">\n",
       "  <thead>\n",
       "    <tr style=\"text-align: right;\">\n",
       "      <th></th>\n",
       "      <th>year</th>\n",
       "      <th>age_group_5_years</th>\n",
       "      <th>race_eth</th>\n",
       "      <th>first_degree_hx</th>\n",
       "      <th>age_menarche</th>\n",
       "      <th>age_first_birth</th>\n",
       "      <th>BIRADS_breast_density</th>\n",
       "      <th>current_hrt</th>\n",
       "      <th>menopaus</th>\n",
       "      <th>bmi_group</th>\n",
       "      <th>biophx</th>\n",
       "      <th>breast_cancer_history</th>\n",
       "      <th>count</th>\n",
       "    </tr>\n",
       "  </thead>\n",
       "  <tbody>\n",
       "    <tr>\n",
       "      <th>0</th>\n",
       "      <td>2013</td>\n",
       "      <td>7</td>\n",
       "      <td>1</td>\n",
       "      <td>0.0</td>\n",
       "      <td>1.0</td>\n",
       "      <td>3.0</td>\n",
       "      <td>1.0</td>\n",
       "      <td>1.0</td>\n",
       "      <td>2.0</td>\n",
       "      <td>3.0</td>\n",
       "      <td>0.0</td>\n",
       "      <td>0.0</td>\n",
       "      <td>7</td>\n",
       "    </tr>\n",
       "    <tr>\n",
       "      <th>1</th>\n",
       "      <td>2013</td>\n",
       "      <td>7</td>\n",
       "      <td>1</td>\n",
       "      <td>0.0</td>\n",
       "      <td>1.0</td>\n",
       "      <td>3.0</td>\n",
       "      <td>1.0</td>\n",
       "      <td>1.0</td>\n",
       "      <td>2.0</td>\n",
       "      <td>3.0</td>\n",
       "      <td>1.0</td>\n",
       "      <td>0.0</td>\n",
       "      <td>3</td>\n",
       "    </tr>\n",
       "    <tr>\n",
       "      <th>2</th>\n",
       "      <td>2013</td>\n",
       "      <td>7</td>\n",
       "      <td>1</td>\n",
       "      <td>0.0</td>\n",
       "      <td>1.0</td>\n",
       "      <td>3.0</td>\n",
       "      <td>1.0</td>\n",
       "      <td>1.0</td>\n",
       "      <td>2.0</td>\n",
       "      <td>4.0</td>\n",
       "      <td>0.0</td>\n",
       "      <td>0.0</td>\n",
       "      <td>6</td>\n",
       "    </tr>\n",
       "    <tr>\n",
       "      <th>3</th>\n",
       "      <td>2013</td>\n",
       "      <td>7</td>\n",
       "      <td>1</td>\n",
       "      <td>0.0</td>\n",
       "      <td>1.0</td>\n",
       "      <td>3.0</td>\n",
       "      <td>1.0</td>\n",
       "      <td>1.0</td>\n",
       "      <td>2.0</td>\n",
       "      <td>4.0</td>\n",
       "      <td>1.0</td>\n",
       "      <td>0.0</td>\n",
       "      <td>1</td>\n",
       "    </tr>\n",
       "    <tr>\n",
       "      <th>4</th>\n",
       "      <td>2013</td>\n",
       "      <td>7</td>\n",
       "      <td>1</td>\n",
       "      <td>0.0</td>\n",
       "      <td>1.0</td>\n",
       "      <td>3.0</td>\n",
       "      <td>1.0</td>\n",
       "      <td>1.0</td>\n",
       "      <td>2.0</td>\n",
       "      <td>4.0</td>\n",
       "      <td>1.0</td>\n",
       "      <td>1.0</td>\n",
       "      <td>1</td>\n",
       "    </tr>\n",
       "    <tr>\n",
       "      <th>...</th>\n",
       "      <td>...</td>\n",
       "      <td>...</td>\n",
       "      <td>...</td>\n",
       "      <td>...</td>\n",
       "      <td>...</td>\n",
       "      <td>...</td>\n",
       "      <td>...</td>\n",
       "      <td>...</td>\n",
       "      <td>...</td>\n",
       "      <td>...</td>\n",
       "      <td>...</td>\n",
       "      <td>...</td>\n",
       "      <td>...</td>\n",
       "    </tr>\n",
       "    <tr>\n",
       "      <th>9898</th>\n",
       "      <td>2013</td>\n",
       "      <td>7</td>\n",
       "      <td>3</td>\n",
       "      <td>0.0</td>\n",
       "      <td>1.0</td>\n",
       "      <td>4.0</td>\n",
       "      <td>3.0</td>\n",
       "      <td>0.0</td>\n",
       "      <td>2.0</td>\n",
       "      <td>2.0</td>\n",
       "      <td>0.0</td>\n",
       "      <td>0.0</td>\n",
       "      <td>5</td>\n",
       "    </tr>\n",
       "    <tr>\n",
       "      <th>9899</th>\n",
       "      <td>2013</td>\n",
       "      <td>7</td>\n",
       "      <td>3</td>\n",
       "      <td>0.0</td>\n",
       "      <td>1.0</td>\n",
       "      <td>4.0</td>\n",
       "      <td>3.0</td>\n",
       "      <td>0.0</td>\n",
       "      <td>2.0</td>\n",
       "      <td>4.0</td>\n",
       "      <td>1.0</td>\n",
       "      <td>1.0</td>\n",
       "      <td>1</td>\n",
       "    </tr>\n",
       "    <tr>\n",
       "      <th>9900</th>\n",
       "      <td>2013</td>\n",
       "      <td>7</td>\n",
       "      <td>3</td>\n",
       "      <td>0.0</td>\n",
       "      <td>1.0</td>\n",
       "      <td>4.0</td>\n",
       "      <td>3.0</td>\n",
       "      <td>0.0</td>\n",
       "      <td>2.0</td>\n",
       "      <td>1.0</td>\n",
       "      <td>0.0</td>\n",
       "      <td>0.0</td>\n",
       "      <td>7</td>\n",
       "    </tr>\n",
       "    <tr>\n",
       "      <th>9901</th>\n",
       "      <td>2013</td>\n",
       "      <td>7</td>\n",
       "      <td>3</td>\n",
       "      <td>0.0</td>\n",
       "      <td>1.0</td>\n",
       "      <td>4.0</td>\n",
       "      <td>3.0</td>\n",
       "      <td>0.0</td>\n",
       "      <td>2.0</td>\n",
       "      <td>1.0</td>\n",
       "      <td>1.0</td>\n",
       "      <td>0.0</td>\n",
       "      <td>2</td>\n",
       "    </tr>\n",
       "    <tr>\n",
       "      <th>9902</th>\n",
       "      <td>2013</td>\n",
       "      <td>7</td>\n",
       "      <td>3</td>\n",
       "      <td>0.0</td>\n",
       "      <td>1.0</td>\n",
       "      <td>4.0</td>\n",
       "      <td>3.0</td>\n",
       "      <td>0.0</td>\n",
       "      <td>2.0</td>\n",
       "      <td>1.0</td>\n",
       "      <td>1.0</td>\n",
       "      <td>1.0</td>\n",
       "      <td>1</td>\n",
       "    </tr>\n",
       "  </tbody>\n",
       "</table>\n",
       "<p>9903 rows × 13 columns</p>\n",
       "</div>"
      ],
      "text/plain": [
       "      year  age_group_5_years  race_eth  first_degree_hx  age_menarche  \\\n",
       "0     2013                  7         1              0.0           1.0   \n",
       "1     2013                  7         1              0.0           1.0   \n",
       "2     2013                  7         1              0.0           1.0   \n",
       "3     2013                  7         1              0.0           1.0   \n",
       "4     2013                  7         1              0.0           1.0   \n",
       "...    ...                ...       ...              ...           ...   \n",
       "9898  2013                  7         3              0.0           1.0   \n",
       "9899  2013                  7         3              0.0           1.0   \n",
       "9900  2013                  7         3              0.0           1.0   \n",
       "9901  2013                  7         3              0.0           1.0   \n",
       "9902  2013                  7         3              0.0           1.0   \n",
       "\n",
       "      age_first_birth  BIRADS_breast_density  current_hrt  menopaus  \\\n",
       "0                 3.0                    1.0          1.0       2.0   \n",
       "1                 3.0                    1.0          1.0       2.0   \n",
       "2                 3.0                    1.0          1.0       2.0   \n",
       "3                 3.0                    1.0          1.0       2.0   \n",
       "4                 3.0                    1.0          1.0       2.0   \n",
       "...               ...                    ...          ...       ...   \n",
       "9898              4.0                    3.0          0.0       2.0   \n",
       "9899              4.0                    3.0          0.0       2.0   \n",
       "9900              4.0                    3.0          0.0       2.0   \n",
       "9901              4.0                    3.0          0.0       2.0   \n",
       "9902              4.0                    3.0          0.0       2.0   \n",
       "\n",
       "      bmi_group  biophx  breast_cancer_history  count  \n",
       "0           3.0     0.0                    0.0      7  \n",
       "1           3.0     1.0                    0.0      3  \n",
       "2           4.0     0.0                    0.0      6  \n",
       "3           4.0     1.0                    0.0      1  \n",
       "4           4.0     1.0                    1.0      1  \n",
       "...         ...     ...                    ...    ...  \n",
       "9898        2.0     0.0                    0.0      5  \n",
       "9899        4.0     1.0                    1.0      1  \n",
       "9900        1.0     0.0                    0.0      7  \n",
       "9901        1.0     1.0                    0.0      2  \n",
       "9902        1.0     1.0                    1.0      1  \n",
       "\n",
       "[9903 rows x 13 columns]"
      ]
     },
     "execution_count": 77,
     "metadata": {},
     "output_type": "execute_result"
    }
   ],
   "source": [
    "df"
   ]
  },
  {
   "cell_type": "code",
   "execution_count": 78,
   "id": "2cf8c802-eac9-46a6-aa64-313dded0b3a7",
   "metadata": {},
   "outputs": [],
   "source": [
    "df=df.drop(columns=['count','year'])"
   ]
  },
  {
   "cell_type": "code",
   "execution_count": 79,
   "id": "40891b19-92e3-42c9-b084-d5959cdb0b86",
   "metadata": {},
   "outputs": [
    {
     "data": {
      "text/html": [
       "<div>\n",
       "<style scoped>\n",
       "    .dataframe tbody tr th:only-of-type {\n",
       "        vertical-align: middle;\n",
       "    }\n",
       "\n",
       "    .dataframe tbody tr th {\n",
       "        vertical-align: top;\n",
       "    }\n",
       "\n",
       "    .dataframe thead th {\n",
       "        text-align: right;\n",
       "    }\n",
       "</style>\n",
       "<table border=\"1\" class=\"dataframe\">\n",
       "  <thead>\n",
       "    <tr style=\"text-align: right;\">\n",
       "      <th></th>\n",
       "      <th>age_group_5_years</th>\n",
       "      <th>race_eth</th>\n",
       "      <th>first_degree_hx</th>\n",
       "      <th>age_menarche</th>\n",
       "      <th>age_first_birth</th>\n",
       "      <th>BIRADS_breast_density</th>\n",
       "      <th>current_hrt</th>\n",
       "      <th>menopaus</th>\n",
       "      <th>bmi_group</th>\n",
       "      <th>biophx</th>\n",
       "      <th>breast_cancer_history</th>\n",
       "    </tr>\n",
       "  </thead>\n",
       "  <tbody>\n",
       "    <tr>\n",
       "      <th>0</th>\n",
       "      <td>7</td>\n",
       "      <td>1</td>\n",
       "      <td>0.0</td>\n",
       "      <td>1.0</td>\n",
       "      <td>3.0</td>\n",
       "      <td>1.0</td>\n",
       "      <td>1.0</td>\n",
       "      <td>2.0</td>\n",
       "      <td>3.0</td>\n",
       "      <td>0.0</td>\n",
       "      <td>0.0</td>\n",
       "    </tr>\n",
       "    <tr>\n",
       "      <th>1</th>\n",
       "      <td>7</td>\n",
       "      <td>1</td>\n",
       "      <td>0.0</td>\n",
       "      <td>1.0</td>\n",
       "      <td>3.0</td>\n",
       "      <td>1.0</td>\n",
       "      <td>1.0</td>\n",
       "      <td>2.0</td>\n",
       "      <td>3.0</td>\n",
       "      <td>1.0</td>\n",
       "      <td>0.0</td>\n",
       "    </tr>\n",
       "    <tr>\n",
       "      <th>2</th>\n",
       "      <td>7</td>\n",
       "      <td>1</td>\n",
       "      <td>0.0</td>\n",
       "      <td>1.0</td>\n",
       "      <td>3.0</td>\n",
       "      <td>1.0</td>\n",
       "      <td>1.0</td>\n",
       "      <td>2.0</td>\n",
       "      <td>4.0</td>\n",
       "      <td>0.0</td>\n",
       "      <td>0.0</td>\n",
       "    </tr>\n",
       "    <tr>\n",
       "      <th>3</th>\n",
       "      <td>7</td>\n",
       "      <td>1</td>\n",
       "      <td>0.0</td>\n",
       "      <td>1.0</td>\n",
       "      <td>3.0</td>\n",
       "      <td>1.0</td>\n",
       "      <td>1.0</td>\n",
       "      <td>2.0</td>\n",
       "      <td>4.0</td>\n",
       "      <td>1.0</td>\n",
       "      <td>0.0</td>\n",
       "    </tr>\n",
       "    <tr>\n",
       "      <th>4</th>\n",
       "      <td>7</td>\n",
       "      <td>1</td>\n",
       "      <td>0.0</td>\n",
       "      <td>1.0</td>\n",
       "      <td>3.0</td>\n",
       "      <td>1.0</td>\n",
       "      <td>1.0</td>\n",
       "      <td>2.0</td>\n",
       "      <td>4.0</td>\n",
       "      <td>1.0</td>\n",
       "      <td>1.0</td>\n",
       "    </tr>\n",
       "    <tr>\n",
       "      <th>...</th>\n",
       "      <td>...</td>\n",
       "      <td>...</td>\n",
       "      <td>...</td>\n",
       "      <td>...</td>\n",
       "      <td>...</td>\n",
       "      <td>...</td>\n",
       "      <td>...</td>\n",
       "      <td>...</td>\n",
       "      <td>...</td>\n",
       "      <td>...</td>\n",
       "      <td>...</td>\n",
       "    </tr>\n",
       "    <tr>\n",
       "      <th>9898</th>\n",
       "      <td>7</td>\n",
       "      <td>3</td>\n",
       "      <td>0.0</td>\n",
       "      <td>1.0</td>\n",
       "      <td>4.0</td>\n",
       "      <td>3.0</td>\n",
       "      <td>0.0</td>\n",
       "      <td>2.0</td>\n",
       "      <td>2.0</td>\n",
       "      <td>0.0</td>\n",
       "      <td>0.0</td>\n",
       "    </tr>\n",
       "    <tr>\n",
       "      <th>9899</th>\n",
       "      <td>7</td>\n",
       "      <td>3</td>\n",
       "      <td>0.0</td>\n",
       "      <td>1.0</td>\n",
       "      <td>4.0</td>\n",
       "      <td>3.0</td>\n",
       "      <td>0.0</td>\n",
       "      <td>2.0</td>\n",
       "      <td>4.0</td>\n",
       "      <td>1.0</td>\n",
       "      <td>1.0</td>\n",
       "    </tr>\n",
       "    <tr>\n",
       "      <th>9900</th>\n",
       "      <td>7</td>\n",
       "      <td>3</td>\n",
       "      <td>0.0</td>\n",
       "      <td>1.0</td>\n",
       "      <td>4.0</td>\n",
       "      <td>3.0</td>\n",
       "      <td>0.0</td>\n",
       "      <td>2.0</td>\n",
       "      <td>1.0</td>\n",
       "      <td>0.0</td>\n",
       "      <td>0.0</td>\n",
       "    </tr>\n",
       "    <tr>\n",
       "      <th>9901</th>\n",
       "      <td>7</td>\n",
       "      <td>3</td>\n",
       "      <td>0.0</td>\n",
       "      <td>1.0</td>\n",
       "      <td>4.0</td>\n",
       "      <td>3.0</td>\n",
       "      <td>0.0</td>\n",
       "      <td>2.0</td>\n",
       "      <td>1.0</td>\n",
       "      <td>1.0</td>\n",
       "      <td>0.0</td>\n",
       "    </tr>\n",
       "    <tr>\n",
       "      <th>9902</th>\n",
       "      <td>7</td>\n",
       "      <td>3</td>\n",
       "      <td>0.0</td>\n",
       "      <td>1.0</td>\n",
       "      <td>4.0</td>\n",
       "      <td>3.0</td>\n",
       "      <td>0.0</td>\n",
       "      <td>2.0</td>\n",
       "      <td>1.0</td>\n",
       "      <td>1.0</td>\n",
       "      <td>1.0</td>\n",
       "    </tr>\n",
       "  </tbody>\n",
       "</table>\n",
       "<p>9903 rows × 11 columns</p>\n",
       "</div>"
      ],
      "text/plain": [
       "      age_group_5_years  race_eth  first_degree_hx  age_menarche  \\\n",
       "0                     7         1              0.0           1.0   \n",
       "1                     7         1              0.0           1.0   \n",
       "2                     7         1              0.0           1.0   \n",
       "3                     7         1              0.0           1.0   \n",
       "4                     7         1              0.0           1.0   \n",
       "...                 ...       ...              ...           ...   \n",
       "9898                  7         3              0.0           1.0   \n",
       "9899                  7         3              0.0           1.0   \n",
       "9900                  7         3              0.0           1.0   \n",
       "9901                  7         3              0.0           1.0   \n",
       "9902                  7         3              0.0           1.0   \n",
       "\n",
       "      age_first_birth  BIRADS_breast_density  current_hrt  menopaus  \\\n",
       "0                 3.0                    1.0          1.0       2.0   \n",
       "1                 3.0                    1.0          1.0       2.0   \n",
       "2                 3.0                    1.0          1.0       2.0   \n",
       "3                 3.0                    1.0          1.0       2.0   \n",
       "4                 3.0                    1.0          1.0       2.0   \n",
       "...               ...                    ...          ...       ...   \n",
       "9898              4.0                    3.0          0.0       2.0   \n",
       "9899              4.0                    3.0          0.0       2.0   \n",
       "9900              4.0                    3.0          0.0       2.0   \n",
       "9901              4.0                    3.0          0.0       2.0   \n",
       "9902              4.0                    3.0          0.0       2.0   \n",
       "\n",
       "      bmi_group  biophx  breast_cancer_history  \n",
       "0           3.0     0.0                    0.0  \n",
       "1           3.0     1.0                    0.0  \n",
       "2           4.0     0.0                    0.0  \n",
       "3           4.0     1.0                    0.0  \n",
       "4           4.0     1.0                    1.0  \n",
       "...         ...     ...                    ...  \n",
       "9898        2.0     0.0                    0.0  \n",
       "9899        4.0     1.0                    1.0  \n",
       "9900        1.0     0.0                    0.0  \n",
       "9901        1.0     1.0                    0.0  \n",
       "9902        1.0     1.0                    1.0  \n",
       "\n",
       "[9903 rows x 11 columns]"
      ]
     },
     "execution_count": 79,
     "metadata": {},
     "output_type": "execute_result"
    }
   ],
   "source": [
    "df"
   ]
  },
  {
   "cell_type": "code",
   "execution_count": 80,
   "id": "d8ab9db9-4593-428a-b94a-43fbe505783e",
   "metadata": {},
   "outputs": [],
   "source": [
    "df['breast_cancer_history']=df['breast_cancer_history'].astype('int')"
   ]
  },
  {
   "cell_type": "code",
   "execution_count": 81,
   "id": "71344a49-4e65-4b74-9644-377b2c2e3d54",
   "metadata": {},
   "outputs": [],
   "source": [
    "X = df[df.columns[:-1]].values\n",
    "y = df[\"breast_cancer_history\"].values\n",
    "\n",
    "X_train, X_test, y_train, y_test = train_test_split(X, y, test_size=0.2, random_state=123)\n",
    "ros = RandomOverSampler()\n",
    "X_train,y_train= ros.fit_resample(X_train, y_train)\n",
    "\n"
   ]
  },
  {
   "cell_type": "code",
   "execution_count": 82,
   "id": "a3dabec1-9c59-42f5-bae8-249a05dd263a",
   "metadata": {},
   "outputs": [],
   "source": [
    "models = {\n",
    "    'k-NN': KNeighborsClassifier(),\n",
    "    'Naive Bayes': GaussianNB(),\n",
    "    'AdaBoost': AdaBoostClassifier(random_state=123),\n",
    "    'Gradient Boosting': GradientBoostingClassifier(random_state=123),\n",
    "    'LDA': LinearDiscriminantAnalysis(),\n",
    "    'Decision Tree': DecisionTreeClassifier(random_state=123),\n",
    "    'Random Forest': RandomForestClassifier(random_state=123),\n",
    "    'XGBoost': XGBClassifier(use_label_encoder=False, eval_metric='logloss'),\n",
    "    'CatBoost':CatBoostClassifier(iterations=100, learning_rate=0.1, depth=6)\n",
    "}"
   ]
  },
  {
   "cell_type": "code",
   "execution_count": 83,
   "id": "4a7bc594-7b0c-432c-8bad-f150de1e2631",
   "metadata": {
    "scrolled": true
   },
   "outputs": [
    {
     "name": "stderr",
     "output_type": "stream",
     "text": [
      "C:\\Users\\user\\AppData\\Local\\Programs\\Python\\Python312\\Lib\\site-packages\\sklearn\\ensemble\\_weight_boosting.py:527: FutureWarning:\n",
      "\n",
      "The SAMME.R algorithm (the default) is deprecated and will be removed in 1.6. Use the SAMME algorithm to circumvent this warning.\n",
      "\n",
      "C:\\Users\\user\\AppData\\Local\\Programs\\Python\\Python312\\Lib\\site-packages\\sklearn\\ensemble\\_weight_boosting.py:527: FutureWarning:\n",
      "\n",
      "The SAMME.R algorithm (the default) is deprecated and will be removed in 1.6. Use the SAMME algorithm to circumvent this warning.\n",
      "\n",
      "C:\\Users\\user\\AppData\\Local\\Programs\\Python\\Python312\\Lib\\site-packages\\sklearn\\ensemble\\_weight_boosting.py:527: FutureWarning:\n",
      "\n",
      "The SAMME.R algorithm (the default) is deprecated and will be removed in 1.6. Use the SAMME algorithm to circumvent this warning.\n",
      "\n",
      "C:\\Users\\user\\AppData\\Local\\Programs\\Python\\Python312\\Lib\\site-packages\\sklearn\\ensemble\\_weight_boosting.py:527: FutureWarning:\n",
      "\n",
      "The SAMME.R algorithm (the default) is deprecated and will be removed in 1.6. Use the SAMME algorithm to circumvent this warning.\n",
      "\n",
      "C:\\Users\\user\\AppData\\Local\\Programs\\Python\\Python312\\Lib\\site-packages\\sklearn\\ensemble\\_weight_boosting.py:527: FutureWarning:\n",
      "\n",
      "The SAMME.R algorithm (the default) is deprecated and will be removed in 1.6. Use the SAMME algorithm to circumvent this warning.\n",
      "\n",
      "C:\\Users\\user\\AppData\\Local\\Programs\\Python\\Python312\\Lib\\site-packages\\sklearn\\ensemble\\_weight_boosting.py:527: FutureWarning:\n",
      "\n",
      "The SAMME.R algorithm (the default) is deprecated and will be removed in 1.6. Use the SAMME algorithm to circumvent this warning.\n",
      "\n",
      "C:\\Users\\user\\AppData\\Local\\Programs\\Python\\Python312\\Lib\\site-packages\\xgboost\\core.py:158: UserWarning:\n",
      "\n",
      "[23:24:15] WARNING: C:\\buildkite-agent\\builds\\buildkite-windows-cpu-autoscaling-group-i-0015a694724fa8361-1\\xgboost\\xgboost-ci-windows\\src\\learner.cc:740: \n",
      "Parameters: { \"use_label_encoder\" } are not used.\n",
      "\n",
      "\n",
      "C:\\Users\\user\\AppData\\Local\\Programs\\Python\\Python312\\Lib\\site-packages\\xgboost\\core.py:158: UserWarning:\n",
      "\n",
      "[23:24:15] WARNING: C:\\buildkite-agent\\builds\\buildkite-windows-cpu-autoscaling-group-i-0015a694724fa8361-1\\xgboost\\xgboost-ci-windows\\src\\learner.cc:740: \n",
      "Parameters: { \"use_label_encoder\" } are not used.\n",
      "\n",
      "\n",
      "C:\\Users\\user\\AppData\\Local\\Programs\\Python\\Python312\\Lib\\site-packages\\xgboost\\core.py:158: UserWarning:\n",
      "\n",
      "[23:24:16] WARNING: C:\\buildkite-agent\\builds\\buildkite-windows-cpu-autoscaling-group-i-0015a694724fa8361-1\\xgboost\\xgboost-ci-windows\\src\\learner.cc:740: \n",
      "Parameters: { \"use_label_encoder\" } are not used.\n",
      "\n",
      "\n",
      "C:\\Users\\user\\AppData\\Local\\Programs\\Python\\Python312\\Lib\\site-packages\\xgboost\\core.py:158: UserWarning:\n",
      "\n",
      "[23:24:16] WARNING: C:\\buildkite-agent\\builds\\buildkite-windows-cpu-autoscaling-group-i-0015a694724fa8361-1\\xgboost\\xgboost-ci-windows\\src\\learner.cc:740: \n",
      "Parameters: { \"use_label_encoder\" } are not used.\n",
      "\n",
      "\n",
      "C:\\Users\\user\\AppData\\Local\\Programs\\Python\\Python312\\Lib\\site-packages\\xgboost\\core.py:158: UserWarning:\n",
      "\n",
      "[23:24:16] WARNING: C:\\buildkite-agent\\builds\\buildkite-windows-cpu-autoscaling-group-i-0015a694724fa8361-1\\xgboost\\xgboost-ci-windows\\src\\learner.cc:740: \n",
      "Parameters: { \"use_label_encoder\" } are not used.\n",
      "\n",
      "\n",
      "C:\\Users\\user\\AppData\\Local\\Programs\\Python\\Python312\\Lib\\site-packages\\xgboost\\core.py:158: UserWarning:\n",
      "\n",
      "[23:24:16] WARNING: C:\\buildkite-agent\\builds\\buildkite-windows-cpu-autoscaling-group-i-0015a694724fa8361-1\\xgboost\\xgboost-ci-windows\\src\\learner.cc:740: \n",
      "Parameters: { \"use_label_encoder\" } are not used.\n",
      "\n",
      "\n"
     ]
    },
    {
     "name": "stdout",
     "output_type": "stream",
     "text": [
      "0:\tlearn: 0.6704624\ttotal: 208ms\tremaining: 20.6s\n",
      "1:\tlearn: 0.6520529\ttotal: 213ms\tremaining: 10.5s\n",
      "2:\tlearn: 0.6360098\ttotal: 218ms\tremaining: 7.06s\n",
      "3:\tlearn: 0.6230970\ttotal: 223ms\tremaining: 5.34s\n",
      "4:\tlearn: 0.6118905\ttotal: 227ms\tremaining: 4.32s\n",
      "5:\tlearn: 0.6023401\ttotal: 233ms\tremaining: 3.64s\n",
      "6:\tlearn: 0.5941659\ttotal: 238ms\tremaining: 3.16s\n",
      "7:\tlearn: 0.5872789\ttotal: 243ms\tremaining: 2.79s\n",
      "8:\tlearn: 0.5814903\ttotal: 247ms\tremaining: 2.5s\n",
      "9:\tlearn: 0.5768862\ttotal: 252ms\tremaining: 2.27s\n",
      "10:\tlearn: 0.5726298\ttotal: 257ms\tremaining: 2.08s\n",
      "11:\tlearn: 0.5686690\ttotal: 262ms\tremaining: 1.92s\n",
      "12:\tlearn: 0.5656944\ttotal: 267ms\tremaining: 1.78s\n",
      "13:\tlearn: 0.5629739\ttotal: 272ms\tremaining: 1.67s\n",
      "14:\tlearn: 0.5605073\ttotal: 276ms\tremaining: 1.57s\n",
      "15:\tlearn: 0.5582530\ttotal: 281ms\tremaining: 1.48s\n",
      "16:\tlearn: 0.5563641\ttotal: 286ms\tremaining: 1.4s\n",
      "17:\tlearn: 0.5546559\ttotal: 291ms\tremaining: 1.32s\n",
      "18:\tlearn: 0.5530025\ttotal: 297ms\tremaining: 1.27s\n",
      "19:\tlearn: 0.5516376\ttotal: 303ms\tremaining: 1.21s\n",
      "20:\tlearn: 0.5500404\ttotal: 309ms\tremaining: 1.16s\n",
      "21:\tlearn: 0.5488005\ttotal: 315ms\tremaining: 1.11s\n",
      "22:\tlearn: 0.5470616\ttotal: 321ms\tremaining: 1.07s\n",
      "23:\tlearn: 0.5455768\ttotal: 327ms\tremaining: 1.03s\n",
      "24:\tlearn: 0.5445560\ttotal: 333ms\tremaining: 998ms\n",
      "25:\tlearn: 0.5437341\ttotal: 338ms\tremaining: 962ms\n",
      "26:\tlearn: 0.5429342\ttotal: 344ms\tremaining: 929ms\n",
      "27:\tlearn: 0.5419985\ttotal: 349ms\tremaining: 898ms\n",
      "28:\tlearn: 0.5412968\ttotal: 356ms\tremaining: 871ms\n",
      "29:\tlearn: 0.5403679\ttotal: 361ms\tremaining: 843ms\n",
      "30:\tlearn: 0.5392285\ttotal: 367ms\tremaining: 817ms\n",
      "31:\tlearn: 0.5382137\ttotal: 372ms\tremaining: 791ms\n",
      "32:\tlearn: 0.5375457\ttotal: 378ms\tremaining: 767ms\n",
      "33:\tlearn: 0.5367906\ttotal: 384ms\tremaining: 746ms\n",
      "34:\tlearn: 0.5356396\ttotal: 390ms\tremaining: 724ms\n",
      "35:\tlearn: 0.5346815\ttotal: 396ms\tremaining: 704ms\n",
      "36:\tlearn: 0.5339652\ttotal: 402ms\tremaining: 684ms\n",
      "37:\tlearn: 0.5330983\ttotal: 408ms\tremaining: 665ms\n",
      "38:\tlearn: 0.5320875\ttotal: 414ms\tremaining: 647ms\n",
      "39:\tlearn: 0.5310118\ttotal: 420ms\tremaining: 630ms\n",
      "40:\tlearn: 0.5307267\ttotal: 425ms\tremaining: 612ms\n",
      "41:\tlearn: 0.5301846\ttotal: 431ms\tremaining: 595ms\n",
      "42:\tlearn: 0.5294165\ttotal: 436ms\tremaining: 579ms\n",
      "43:\tlearn: 0.5289990\ttotal: 442ms\tremaining: 562ms\n",
      "44:\tlearn: 0.5282409\ttotal: 446ms\tremaining: 546ms\n",
      "45:\tlearn: 0.5277713\ttotal: 451ms\tremaining: 530ms\n",
      "46:\tlearn: 0.5271982\ttotal: 456ms\tremaining: 515ms\n",
      "47:\tlearn: 0.5267965\ttotal: 461ms\tremaining: 499ms\n",
      "48:\tlearn: 0.5263703\ttotal: 466ms\tremaining: 485ms\n",
      "49:\tlearn: 0.5258631\ttotal: 471ms\tremaining: 471ms\n",
      "50:\tlearn: 0.5254806\ttotal: 476ms\tremaining: 457ms\n",
      "51:\tlearn: 0.5248436\ttotal: 481ms\tremaining: 444ms\n",
      "52:\tlearn: 0.5241941\ttotal: 487ms\tremaining: 432ms\n",
      "53:\tlearn: 0.5236091\ttotal: 492ms\tremaining: 419ms\n",
      "54:\tlearn: 0.5233116\ttotal: 497ms\tremaining: 407ms\n",
      "55:\tlearn: 0.5227976\ttotal: 502ms\tremaining: 395ms\n",
      "56:\tlearn: 0.5222034\ttotal: 507ms\tremaining: 383ms\n",
      "57:\tlearn: 0.5217474\ttotal: 513ms\tremaining: 371ms\n",
      "58:\tlearn: 0.5212714\ttotal: 518ms\tremaining: 360ms\n",
      "59:\tlearn: 0.5206584\ttotal: 523ms\tremaining: 349ms\n",
      "60:\tlearn: 0.5201104\ttotal: 529ms\tremaining: 338ms\n",
      "61:\tlearn: 0.5195462\ttotal: 533ms\tremaining: 327ms\n",
      "62:\tlearn: 0.5191247\ttotal: 538ms\tremaining: 316ms\n",
      "63:\tlearn: 0.5185937\ttotal: 543ms\tremaining: 306ms\n",
      "64:\tlearn: 0.5183000\ttotal: 548ms\tremaining: 295ms\n",
      "65:\tlearn: 0.5177446\ttotal: 553ms\tremaining: 285ms\n",
      "66:\tlearn: 0.5172942\ttotal: 558ms\tremaining: 275ms\n",
      "67:\tlearn: 0.5169730\ttotal: 562ms\tremaining: 265ms\n",
      "68:\tlearn: 0.5169268\ttotal: 567ms\tremaining: 255ms\n",
      "69:\tlearn: 0.5165564\ttotal: 572ms\tremaining: 245ms\n",
      "70:\tlearn: 0.5160954\ttotal: 578ms\tremaining: 236ms\n",
      "71:\tlearn: 0.5156740\ttotal: 584ms\tremaining: 227ms\n",
      "72:\tlearn: 0.5154272\ttotal: 588ms\tremaining: 218ms\n",
      "73:\tlearn: 0.5149691\ttotal: 593ms\tremaining: 208ms\n",
      "74:\tlearn: 0.5144609\ttotal: 598ms\tremaining: 199ms\n",
      "75:\tlearn: 0.5139935\ttotal: 603ms\tremaining: 190ms\n",
      "76:\tlearn: 0.5134860\ttotal: 607ms\tremaining: 181ms\n",
      "77:\tlearn: 0.5126577\ttotal: 612ms\tremaining: 173ms\n",
      "78:\tlearn: 0.5120696\ttotal: 618ms\tremaining: 164ms\n",
      "79:\tlearn: 0.5115963\ttotal: 623ms\tremaining: 156ms\n",
      "80:\tlearn: 0.5108584\ttotal: 628ms\tremaining: 147ms\n",
      "81:\tlearn: 0.5104314\ttotal: 634ms\tremaining: 139ms\n",
      "82:\tlearn: 0.5101020\ttotal: 638ms\tremaining: 131ms\n",
      "83:\tlearn: 0.5097902\ttotal: 643ms\tremaining: 123ms\n",
      "84:\tlearn: 0.5094219\ttotal: 649ms\tremaining: 115ms\n",
      "85:\tlearn: 0.5090429\ttotal: 654ms\tremaining: 106ms\n",
      "86:\tlearn: 0.5086271\ttotal: 659ms\tremaining: 98.5ms\n",
      "87:\tlearn: 0.5083044\ttotal: 664ms\tremaining: 90.6ms\n",
      "88:\tlearn: 0.5082963\ttotal: 668ms\tremaining: 82.5ms\n",
      "89:\tlearn: 0.5077773\ttotal: 673ms\tremaining: 74.8ms\n",
      "90:\tlearn: 0.5072399\ttotal: 678ms\tremaining: 67.1ms\n",
      "91:\tlearn: 0.5068411\ttotal: 684ms\tremaining: 59.4ms\n",
      "92:\tlearn: 0.5064003\ttotal: 688ms\tremaining: 51.8ms\n",
      "93:\tlearn: 0.5061440\ttotal: 694ms\tremaining: 44.3ms\n",
      "94:\tlearn: 0.5058958\ttotal: 699ms\tremaining: 36.8ms\n",
      "95:\tlearn: 0.5056136\ttotal: 704ms\tremaining: 29.3ms\n",
      "96:\tlearn: 0.5048182\ttotal: 709ms\tremaining: 21.9ms\n",
      "97:\tlearn: 0.5046406\ttotal: 714ms\tremaining: 14.6ms\n",
      "98:\tlearn: 0.5041802\ttotal: 719ms\tremaining: 7.26ms\n",
      "99:\tlearn: 0.5038390\ttotal: 724ms\tremaining: 0us\n",
      "0:\tlearn: 0.6705252\ttotal: 3.87ms\tremaining: 384ms\n",
      "1:\tlearn: 0.6514718\ttotal: 9.07ms\tremaining: 445ms\n",
      "2:\tlearn: 0.6356902\ttotal: 13.3ms\tremaining: 429ms\n",
      "3:\tlearn: 0.6224340\ttotal: 18.5ms\tremaining: 444ms\n",
      "4:\tlearn: 0.6113398\ttotal: 23.4ms\tremaining: 444ms\n",
      "5:\tlearn: 0.6024423\ttotal: 27.8ms\tremaining: 435ms\n",
      "6:\tlearn: 0.5942309\ttotal: 32.8ms\tremaining: 435ms\n",
      "7:\tlearn: 0.5873661\ttotal: 37.4ms\tremaining: 430ms\n",
      "8:\tlearn: 0.5815000\ttotal: 41.5ms\tremaining: 419ms\n",
      "9:\tlearn: 0.5768716\ttotal: 45.6ms\tremaining: 411ms\n",
      "10:\tlearn: 0.5725109\ttotal: 49.8ms\tremaining: 403ms\n",
      "11:\tlearn: 0.5698824\ttotal: 52.7ms\tremaining: 386ms\n",
      "12:\tlearn: 0.5666241\ttotal: 56.8ms\tremaining: 380ms\n",
      "13:\tlearn: 0.5633136\ttotal: 61.2ms\tremaining: 376ms\n",
      "14:\tlearn: 0.5611891\ttotal: 65.3ms\tremaining: 370ms\n",
      "15:\tlearn: 0.5589115\ttotal: 69.7ms\tremaining: 366ms\n",
      "16:\tlearn: 0.5576967\ttotal: 73.1ms\tremaining: 357ms\n",
      "17:\tlearn: 0.5556126\ttotal: 77.7ms\tremaining: 354ms\n",
      "18:\tlearn: 0.5536517\ttotal: 81.9ms\tremaining: 349ms\n",
      "19:\tlearn: 0.5530162\ttotal: 85ms\tremaining: 340ms\n",
      "20:\tlearn: 0.5513004\ttotal: 89.2ms\tremaining: 336ms\n",
      "21:\tlearn: 0.5501975\ttotal: 93.7ms\tremaining: 332ms\n",
      "22:\tlearn: 0.5488154\ttotal: 98ms\tremaining: 328ms\n",
      "23:\tlearn: 0.5476071\ttotal: 102ms\tremaining: 323ms\n",
      "24:\tlearn: 0.5465140\ttotal: 106ms\tremaining: 319ms\n",
      "25:\tlearn: 0.5456084\ttotal: 111ms\tremaining: 315ms\n",
      "26:\tlearn: 0.5447411\ttotal: 115ms\tremaining: 310ms\n",
      "27:\tlearn: 0.5434382\ttotal: 119ms\tremaining: 306ms\n",
      "28:\tlearn: 0.5427284\ttotal: 123ms\tremaining: 301ms\n",
      "29:\tlearn: 0.5418529\ttotal: 128ms\tremaining: 298ms\n",
      "30:\tlearn: 0.5407711\ttotal: 132ms\tremaining: 294ms\n",
      "31:\tlearn: 0.5401169\ttotal: 136ms\tremaining: 289ms\n",
      "32:\tlearn: 0.5394924\ttotal: 140ms\tremaining: 285ms\n",
      "33:\tlearn: 0.5386430\ttotal: 145ms\tremaining: 281ms\n",
      "34:\tlearn: 0.5373114\ttotal: 149ms\tremaining: 276ms\n",
      "35:\tlearn: 0.5365064\ttotal: 153ms\tremaining: 273ms\n",
      "36:\tlearn: 0.5358532\ttotal: 157ms\tremaining: 268ms\n",
      "37:\tlearn: 0.5349582\ttotal: 162ms\tremaining: 264ms\n",
      "38:\tlearn: 0.5339513\ttotal: 167ms\tremaining: 261ms\n",
      "39:\tlearn: 0.5330178\ttotal: 171ms\tremaining: 257ms\n",
      "40:\tlearn: 0.5325508\ttotal: 176ms\tremaining: 253ms\n",
      "41:\tlearn: 0.5320254\ttotal: 180ms\tremaining: 249ms\n",
      "42:\tlearn: 0.5313165\ttotal: 185ms\tremaining: 245ms\n",
      "43:\tlearn: 0.5305035\ttotal: 190ms\tremaining: 241ms\n",
      "44:\tlearn: 0.5299456\ttotal: 195ms\tremaining: 238ms\n",
      "45:\tlearn: 0.5292479\ttotal: 199ms\tremaining: 234ms\n",
      "46:\tlearn: 0.5286001\ttotal: 204ms\tremaining: 230ms\n",
      "47:\tlearn: 0.5278542\ttotal: 209ms\tremaining: 226ms\n",
      "48:\tlearn: 0.5270728\ttotal: 213ms\tremaining: 222ms\n",
      "49:\tlearn: 0.5266406\ttotal: 218ms\tremaining: 218ms\n",
      "50:\tlearn: 0.5262306\ttotal: 223ms\tremaining: 214ms\n",
      "51:\tlearn: 0.5256596\ttotal: 227ms\tremaining: 210ms\n",
      "52:\tlearn: 0.5252075\ttotal: 232ms\tremaining: 206ms\n",
      "53:\tlearn: 0.5246935\ttotal: 237ms\tremaining: 202ms\n",
      "54:\tlearn: 0.5241019\ttotal: 242ms\tremaining: 198ms\n",
      "55:\tlearn: 0.5235003\ttotal: 246ms\tremaining: 193ms\n",
      "56:\tlearn: 0.5227573\ttotal: 251ms\tremaining: 189ms\n",
      "57:\tlearn: 0.5222008\ttotal: 256ms\tremaining: 185ms\n",
      "58:\tlearn: 0.5216265\ttotal: 260ms\tremaining: 181ms\n",
      "59:\tlearn: 0.5212278\ttotal: 265ms\tremaining: 176ms\n",
      "60:\tlearn: 0.5208857\ttotal: 269ms\tremaining: 172ms\n",
      "61:\tlearn: 0.5205575\ttotal: 274ms\tremaining: 168ms\n",
      "62:\tlearn: 0.5200108\ttotal: 278ms\tremaining: 164ms\n",
      "63:\tlearn: 0.5193206\ttotal: 283ms\tremaining: 159ms\n",
      "64:\tlearn: 0.5185169\ttotal: 288ms\tremaining: 155ms\n",
      "65:\tlearn: 0.5174847\ttotal: 293ms\tremaining: 151ms\n",
      "66:\tlearn: 0.5169474\ttotal: 298ms\tremaining: 147ms\n",
      "67:\tlearn: 0.5167268\ttotal: 303ms\tremaining: 143ms\n",
      "68:\tlearn: 0.5163684\ttotal: 308ms\tremaining: 138ms\n",
      "69:\tlearn: 0.5158755\ttotal: 313ms\tremaining: 134ms\n",
      "70:\tlearn: 0.5151765\ttotal: 318ms\tremaining: 130ms\n",
      "71:\tlearn: 0.5145452\ttotal: 323ms\tremaining: 125ms\n",
      "72:\tlearn: 0.5142219\ttotal: 328ms\tremaining: 121ms\n",
      "73:\tlearn: 0.5134710\ttotal: 333ms\tremaining: 117ms\n",
      "74:\tlearn: 0.5130578\ttotal: 338ms\tremaining: 113ms\n",
      "75:\tlearn: 0.5123368\ttotal: 342ms\tremaining: 108ms\n",
      "76:\tlearn: 0.5116000\ttotal: 347ms\tremaining: 104ms\n",
      "77:\tlearn: 0.5111383\ttotal: 352ms\tremaining: 99.2ms\n",
      "78:\tlearn: 0.5106965\ttotal: 356ms\tremaining: 94.7ms\n",
      "79:\tlearn: 0.5099043\ttotal: 361ms\tremaining: 90.2ms\n",
      "80:\tlearn: 0.5096242\ttotal: 366ms\tremaining: 85.8ms\n",
      "81:\tlearn: 0.5091472\ttotal: 370ms\tremaining: 81.3ms\n",
      "82:\tlearn: 0.5087347\ttotal: 375ms\tremaining: 76.8ms\n",
      "83:\tlearn: 0.5084748\ttotal: 380ms\tremaining: 72.3ms\n",
      "84:\tlearn: 0.5079096\ttotal: 386ms\tremaining: 68.1ms\n",
      "85:\tlearn: 0.5074280\ttotal: 392ms\tremaining: 63.8ms\n",
      "86:\tlearn: 0.5070142\ttotal: 397ms\tremaining: 59.3ms\n",
      "87:\tlearn: 0.5062472\ttotal: 402ms\tremaining: 54.8ms\n",
      "88:\tlearn: 0.5058296\ttotal: 407ms\tremaining: 50.3ms\n",
      "89:\tlearn: 0.5053801\ttotal: 412ms\tremaining: 45.8ms\n",
      "90:\tlearn: 0.5051794\ttotal: 416ms\tremaining: 41.2ms\n",
      "91:\tlearn: 0.5049025\ttotal: 421ms\tremaining: 36.6ms\n",
      "92:\tlearn: 0.5045248\ttotal: 425ms\tremaining: 32ms\n",
      "93:\tlearn: 0.5042755\ttotal: 430ms\tremaining: 27.5ms\n",
      "94:\tlearn: 0.5039945\ttotal: 435ms\tremaining: 22.9ms\n",
      "95:\tlearn: 0.5030554\ttotal: 440ms\tremaining: 18.3ms\n",
      "96:\tlearn: 0.5026710\ttotal: 445ms\tremaining: 13.8ms\n",
      "97:\tlearn: 0.5023186\ttotal: 449ms\tremaining: 9.17ms\n",
      "98:\tlearn: 0.5020624\ttotal: 454ms\tremaining: 4.58ms\n",
      "99:\tlearn: 0.5017684\ttotal: 459ms\tremaining: 0us\n",
      "0:\tlearn: 0.6708444\ttotal: 5.16ms\tremaining: 511ms\n",
      "1:\tlearn: 0.6534174\ttotal: 8.87ms\tremaining: 435ms\n",
      "2:\tlearn: 0.6378030\ttotal: 13.9ms\tremaining: 449ms\n",
      "3:\tlearn: 0.6254383\ttotal: 19.1ms\tremaining: 458ms\n",
      "4:\tlearn: 0.6144865\ttotal: 23.7ms\tremaining: 451ms\n",
      "5:\tlearn: 0.6059063\ttotal: 27.9ms\tremaining: 438ms\n",
      "6:\tlearn: 0.5981506\ttotal: 33ms\tremaining: 438ms\n",
      "7:\tlearn: 0.5913514\ttotal: 37.9ms\tremaining: 436ms\n",
      "8:\tlearn: 0.5860479\ttotal: 42.8ms\tremaining: 433ms\n",
      "9:\tlearn: 0.5803927\ttotal: 47.6ms\tremaining: 428ms\n",
      "10:\tlearn: 0.5762118\ttotal: 52.4ms\tremaining: 424ms\n",
      "11:\tlearn: 0.5724593\ttotal: 57.3ms\tremaining: 420ms\n",
      "12:\tlearn: 0.5693268\ttotal: 62.2ms\tremaining: 416ms\n",
      "13:\tlearn: 0.5672306\ttotal: 65.9ms\tremaining: 405ms\n",
      "14:\tlearn: 0.5645061\ttotal: 70.4ms\tremaining: 399ms\n",
      "15:\tlearn: 0.5620476\ttotal: 75ms\tremaining: 394ms\n",
      "16:\tlearn: 0.5599978\ttotal: 79.7ms\tremaining: 389ms\n",
      "17:\tlearn: 0.5581667\ttotal: 84.2ms\tremaining: 384ms\n",
      "18:\tlearn: 0.5561057\ttotal: 88.7ms\tremaining: 378ms\n",
      "19:\tlearn: 0.5546445\ttotal: 93.7ms\tremaining: 375ms\n",
      "20:\tlearn: 0.5528144\ttotal: 98.1ms\tremaining: 369ms\n",
      "21:\tlearn: 0.5515015\ttotal: 102ms\tremaining: 363ms\n",
      "22:\tlearn: 0.5502830\ttotal: 107ms\tremaining: 358ms\n",
      "23:\tlearn: 0.5490983\ttotal: 111ms\tremaining: 353ms\n",
      "24:\tlearn: 0.5475635\ttotal: 116ms\tremaining: 348ms\n",
      "25:\tlearn: 0.5465011\ttotal: 121ms\tremaining: 343ms\n",
      "26:\tlearn: 0.5456534\ttotal: 125ms\tremaining: 338ms\n",
      "27:\tlearn: 0.5447898\ttotal: 129ms\tremaining: 332ms\n",
      "28:\tlearn: 0.5437677\ttotal: 134ms\tremaining: 327ms\n",
      "29:\tlearn: 0.5430556\ttotal: 139ms\tremaining: 324ms\n",
      "30:\tlearn: 0.5423278\ttotal: 144ms\tremaining: 320ms\n",
      "31:\tlearn: 0.5414105\ttotal: 149ms\tremaining: 316ms\n",
      "32:\tlearn: 0.5402953\ttotal: 153ms\tremaining: 311ms\n",
      "33:\tlearn: 0.5401453\ttotal: 157ms\tremaining: 304ms\n",
      "34:\tlearn: 0.5400770\ttotal: 159ms\tremaining: 296ms\n",
      "35:\tlearn: 0.5392443\ttotal: 164ms\tremaining: 292ms\n",
      "36:\tlearn: 0.5386291\ttotal: 169ms\tremaining: 287ms\n",
      "37:\tlearn: 0.5376256\ttotal: 173ms\tremaining: 283ms\n",
      "38:\tlearn: 0.5368463\ttotal: 178ms\tremaining: 279ms\n",
      "39:\tlearn: 0.5360622\ttotal: 183ms\tremaining: 275ms\n",
      "40:\tlearn: 0.5352090\ttotal: 188ms\tremaining: 270ms\n",
      "41:\tlearn: 0.5346065\ttotal: 193ms\tremaining: 266ms\n",
      "42:\tlearn: 0.5340618\ttotal: 197ms\tremaining: 262ms\n",
      "43:\tlearn: 0.5334959\ttotal: 202ms\tremaining: 257ms\n",
      "44:\tlearn: 0.5330804\ttotal: 206ms\tremaining: 252ms\n",
      "45:\tlearn: 0.5325625\ttotal: 212ms\tremaining: 248ms\n",
      "46:\tlearn: 0.5316224\ttotal: 217ms\tremaining: 244ms\n",
      "47:\tlearn: 0.5309225\ttotal: 221ms\tremaining: 240ms\n",
      "48:\tlearn: 0.5302197\ttotal: 226ms\tremaining: 235ms\n",
      "49:\tlearn: 0.5297856\ttotal: 231ms\tremaining: 231ms\n",
      "50:\tlearn: 0.5293916\ttotal: 235ms\tremaining: 226ms\n",
      "51:\tlearn: 0.5288680\ttotal: 240ms\tremaining: 222ms\n",
      "52:\tlearn: 0.5285096\ttotal: 245ms\tremaining: 217ms\n",
      "53:\tlearn: 0.5281590\ttotal: 249ms\tremaining: 212ms\n",
      "54:\tlearn: 0.5275991\ttotal: 255ms\tremaining: 208ms\n",
      "55:\tlearn: 0.5268468\ttotal: 259ms\tremaining: 204ms\n",
      "56:\tlearn: 0.5260747\ttotal: 264ms\tremaining: 199ms\n",
      "57:\tlearn: 0.5252282\ttotal: 269ms\tremaining: 195ms\n",
      "58:\tlearn: 0.5248046\ttotal: 274ms\tremaining: 190ms\n",
      "59:\tlearn: 0.5245720\ttotal: 279ms\tremaining: 186ms\n",
      "60:\tlearn: 0.5239522\ttotal: 284ms\tremaining: 181ms\n",
      "61:\tlearn: 0.5232371\ttotal: 289ms\tremaining: 177ms\n",
      "62:\tlearn: 0.5227387\ttotal: 294ms\tremaining: 172ms\n",
      "63:\tlearn: 0.5223894\ttotal: 298ms\tremaining: 168ms\n",
      "64:\tlearn: 0.5217827\ttotal: 304ms\tremaining: 164ms\n",
      "65:\tlearn: 0.5213676\ttotal: 308ms\tremaining: 159ms\n",
      "66:\tlearn: 0.5211108\ttotal: 313ms\tremaining: 154ms\n",
      "67:\tlearn: 0.5205052\ttotal: 318ms\tremaining: 150ms\n",
      "68:\tlearn: 0.5199875\ttotal: 323ms\tremaining: 145ms\n",
      "69:\tlearn: 0.5196357\ttotal: 328ms\tremaining: 141ms\n",
      "70:\tlearn: 0.5189031\ttotal: 333ms\tremaining: 136ms\n",
      "71:\tlearn: 0.5181468\ttotal: 338ms\tremaining: 131ms\n",
      "72:\tlearn: 0.5177468\ttotal: 343ms\tremaining: 127ms\n",
      "73:\tlearn: 0.5173632\ttotal: 348ms\tremaining: 122ms\n",
      "74:\tlearn: 0.5168829\ttotal: 352ms\tremaining: 117ms\n",
      "75:\tlearn: 0.5164686\ttotal: 357ms\tremaining: 113ms\n",
      "76:\tlearn: 0.5159715\ttotal: 362ms\tremaining: 108ms\n",
      "77:\tlearn: 0.5155992\ttotal: 367ms\tremaining: 103ms\n",
      "78:\tlearn: 0.5153723\ttotal: 372ms\tremaining: 98.8ms\n",
      "79:\tlearn: 0.5149096\ttotal: 377ms\tremaining: 94.1ms\n",
      "80:\tlearn: 0.5144363\ttotal: 381ms\tremaining: 89.4ms\n",
      "81:\tlearn: 0.5142047\ttotal: 386ms\tremaining: 84.8ms\n",
      "82:\tlearn: 0.5139492\ttotal: 390ms\tremaining: 80ms\n",
      "83:\tlearn: 0.5136905\ttotal: 395ms\tremaining: 75.2ms\n",
      "84:\tlearn: 0.5133327\ttotal: 399ms\tremaining: 70.5ms\n",
      "85:\tlearn: 0.5127451\ttotal: 405ms\tremaining: 65.9ms\n",
      "86:\tlearn: 0.5122298\ttotal: 410ms\tremaining: 61.2ms\n",
      "87:\tlearn: 0.5115473\ttotal: 415ms\tremaining: 56.5ms\n",
      "88:\tlearn: 0.5109698\ttotal: 419ms\tremaining: 51.8ms\n",
      "89:\tlearn: 0.5106998\ttotal: 424ms\tremaining: 47.1ms\n",
      "90:\tlearn: 0.5104804\ttotal: 429ms\tremaining: 42.4ms\n",
      "91:\tlearn: 0.5101597\ttotal: 434ms\tremaining: 37.7ms\n",
      "92:\tlearn: 0.5097888\ttotal: 438ms\tremaining: 33ms\n",
      "93:\tlearn: 0.5091056\ttotal: 443ms\tremaining: 28.3ms\n",
      "94:\tlearn: 0.5086031\ttotal: 448ms\tremaining: 23.6ms\n",
      "95:\tlearn: 0.5083104\ttotal: 452ms\tremaining: 18.9ms\n",
      "96:\tlearn: 0.5078374\ttotal: 457ms\tremaining: 14.1ms\n",
      "97:\tlearn: 0.5075623\ttotal: 462ms\tremaining: 9.43ms\n",
      "98:\tlearn: 0.5072058\ttotal: 467ms\tremaining: 4.71ms\n",
      "99:\tlearn: 0.5065914\ttotal: 471ms\tremaining: 0us\n",
      "0:\tlearn: 0.6702160\ttotal: 3.27ms\tremaining: 323ms\n",
      "1:\tlearn: 0.6516808\ttotal: 7.64ms\tremaining: 374ms\n",
      "2:\tlearn: 0.6355326\ttotal: 13.8ms\tremaining: 447ms\n",
      "3:\tlearn: 0.6223948\ttotal: 18.3ms\tremaining: 439ms\n",
      "4:\tlearn: 0.6111555\ttotal: 22.4ms\tremaining: 425ms\n",
      "5:\tlearn: 0.6014300\ttotal: 27.5ms\tremaining: 431ms\n",
      "6:\tlearn: 0.5931748\ttotal: 31.5ms\tremaining: 419ms\n",
      "7:\tlearn: 0.5862548\ttotal: 35.7ms\tremaining: 410ms\n",
      "8:\tlearn: 0.5806306\ttotal: 40.5ms\tremaining: 410ms\n",
      "9:\tlearn: 0.5759456\ttotal: 44.2ms\tremaining: 398ms\n",
      "10:\tlearn: 0.5716704\ttotal: 48.3ms\tremaining: 391ms\n",
      "11:\tlearn: 0.5676946\ttotal: 52.9ms\tremaining: 388ms\n",
      "12:\tlearn: 0.5650667\ttotal: 57.2ms\tremaining: 383ms\n",
      "13:\tlearn: 0.5623384\ttotal: 61.2ms\tremaining: 376ms\n",
      "14:\tlearn: 0.5598110\ttotal: 65.3ms\tremaining: 370ms\n",
      "15:\tlearn: 0.5575603\ttotal: 69.9ms\tremaining: 367ms\n",
      "16:\tlearn: 0.5554616\ttotal: 74.4ms\tremaining: 363ms\n",
      "17:\tlearn: 0.5537801\ttotal: 78.6ms\tremaining: 358ms\n",
      "18:\tlearn: 0.5520046\ttotal: 82.9ms\tremaining: 354ms\n",
      "19:\tlearn: 0.5506824\ttotal: 87.2ms\tremaining: 349ms\n",
      "20:\tlearn: 0.5491443\ttotal: 91.6ms\tremaining: 345ms\n",
      "21:\tlearn: 0.5477031\ttotal: 95.5ms\tremaining: 338ms\n",
      "22:\tlearn: 0.5460252\ttotal: 99.7ms\tremaining: 334ms\n",
      "23:\tlearn: 0.5445962\ttotal: 104ms\tremaining: 329ms\n",
      "24:\tlearn: 0.5430996\ttotal: 108ms\tremaining: 323ms\n",
      "25:\tlearn: 0.5422764\ttotal: 112ms\tremaining: 319ms\n",
      "26:\tlearn: 0.5419680\ttotal: 116ms\tremaining: 313ms\n",
      "27:\tlearn: 0.5409830\ttotal: 120ms\tremaining: 309ms\n",
      "28:\tlearn: 0.5401065\ttotal: 125ms\tremaining: 305ms\n",
      "29:\tlearn: 0.5391871\ttotal: 130ms\tremaining: 304ms\n",
      "30:\tlearn: 0.5385197\ttotal: 135ms\tremaining: 301ms\n",
      "31:\tlearn: 0.5378658\ttotal: 140ms\tremaining: 297ms\n",
      "32:\tlearn: 0.5371717\ttotal: 144ms\tremaining: 293ms\n",
      "33:\tlearn: 0.5366131\ttotal: 149ms\tremaining: 288ms\n",
      "34:\tlearn: 0.5355147\ttotal: 153ms\tremaining: 284ms\n",
      "35:\tlearn: 0.5349637\ttotal: 159ms\tremaining: 282ms\n",
      "36:\tlearn: 0.5337998\ttotal: 164ms\tremaining: 279ms\n",
      "37:\tlearn: 0.5330350\ttotal: 170ms\tremaining: 277ms\n",
      "38:\tlearn: 0.5321124\ttotal: 175ms\tremaining: 274ms\n",
      "39:\tlearn: 0.5310854\ttotal: 181ms\tremaining: 271ms\n",
      "40:\tlearn: 0.5304995\ttotal: 186ms\tremaining: 267ms\n",
      "41:\tlearn: 0.5299946\ttotal: 191ms\tremaining: 263ms\n",
      "42:\tlearn: 0.5292426\ttotal: 195ms\tremaining: 258ms\n",
      "43:\tlearn: 0.5287073\ttotal: 200ms\tremaining: 255ms\n",
      "44:\tlearn: 0.5277024\ttotal: 205ms\tremaining: 250ms\n",
      "45:\tlearn: 0.5272601\ttotal: 209ms\tremaining: 246ms\n",
      "46:\tlearn: 0.5267263\ttotal: 214ms\tremaining: 241ms\n",
      "47:\tlearn: 0.5261836\ttotal: 218ms\tremaining: 236ms\n",
      "48:\tlearn: 0.5253401\ttotal: 223ms\tremaining: 232ms\n",
      "49:\tlearn: 0.5246899\ttotal: 227ms\tremaining: 227ms\n",
      "50:\tlearn: 0.5243288\ttotal: 232ms\tremaining: 223ms\n",
      "51:\tlearn: 0.5236509\ttotal: 236ms\tremaining: 218ms\n",
      "52:\tlearn: 0.5233722\ttotal: 241ms\tremaining: 214ms\n",
      "53:\tlearn: 0.5229875\ttotal: 246ms\tremaining: 209ms\n",
      "54:\tlearn: 0.5229454\ttotal: 249ms\tremaining: 204ms\n",
      "55:\tlearn: 0.5223205\ttotal: 253ms\tremaining: 199ms\n",
      "56:\tlearn: 0.5218432\ttotal: 258ms\tremaining: 195ms\n",
      "57:\tlearn: 0.5215292\ttotal: 263ms\tremaining: 190ms\n",
      "58:\tlearn: 0.5210259\ttotal: 267ms\tremaining: 186ms\n",
      "59:\tlearn: 0.5206716\ttotal: 272ms\tremaining: 181ms\n",
      "60:\tlearn: 0.5199920\ttotal: 276ms\tremaining: 177ms\n",
      "61:\tlearn: 0.5193189\ttotal: 281ms\tremaining: 172ms\n",
      "62:\tlearn: 0.5188456\ttotal: 286ms\tremaining: 168ms\n",
      "63:\tlearn: 0.5180451\ttotal: 290ms\tremaining: 163ms\n",
      "64:\tlearn: 0.5176055\ttotal: 295ms\tremaining: 159ms\n",
      "65:\tlearn: 0.5170346\ttotal: 300ms\tremaining: 154ms\n",
      "66:\tlearn: 0.5165545\ttotal: 304ms\tremaining: 150ms\n",
      "67:\tlearn: 0.5160091\ttotal: 309ms\tremaining: 145ms\n",
      "68:\tlearn: 0.5153132\ttotal: 313ms\tremaining: 141ms\n",
      "69:\tlearn: 0.5149421\ttotal: 318ms\tremaining: 136ms\n",
      "70:\tlearn: 0.5147000\ttotal: 322ms\tremaining: 131ms\n",
      "71:\tlearn: 0.5144442\ttotal: 326ms\tremaining: 127ms\n",
      "72:\tlearn: 0.5138504\ttotal: 330ms\tremaining: 122ms\n",
      "73:\tlearn: 0.5135606\ttotal: 335ms\tremaining: 118ms\n",
      "74:\tlearn: 0.5133382\ttotal: 340ms\tremaining: 113ms\n",
      "75:\tlearn: 0.5129602\ttotal: 344ms\tremaining: 109ms\n",
      "76:\tlearn: 0.5125098\ttotal: 349ms\tremaining: 104ms\n",
      "77:\tlearn: 0.5118178\ttotal: 354ms\tremaining: 99.8ms\n",
      "78:\tlearn: 0.5117986\ttotal: 357ms\tremaining: 94.9ms\n",
      "79:\tlearn: 0.5111864\ttotal: 362ms\tremaining: 90.4ms\n",
      "80:\tlearn: 0.5105921\ttotal: 367ms\tremaining: 86ms\n",
      "81:\tlearn: 0.5102240\ttotal: 371ms\tremaining: 81.4ms\n",
      "82:\tlearn: 0.5097593\ttotal: 375ms\tremaining: 76.9ms\n",
      "83:\tlearn: 0.5092976\ttotal: 380ms\tremaining: 72.4ms\n",
      "84:\tlearn: 0.5089081\ttotal: 385ms\tremaining: 67.9ms\n",
      "85:\tlearn: 0.5085522\ttotal: 389ms\tremaining: 63.3ms\n",
      "86:\tlearn: 0.5083353\ttotal: 394ms\tremaining: 58.9ms\n",
      "87:\tlearn: 0.5079022\ttotal: 399ms\tremaining: 54.4ms\n",
      "88:\tlearn: 0.5074317\ttotal: 404ms\tremaining: 49.9ms\n",
      "89:\tlearn: 0.5070806\ttotal: 409ms\tremaining: 45.4ms\n",
      "90:\tlearn: 0.5067740\ttotal: 414ms\tremaining: 40.9ms\n",
      "91:\tlearn: 0.5062695\ttotal: 418ms\tremaining: 36.4ms\n",
      "92:\tlearn: 0.5057577\ttotal: 423ms\tremaining: 31.8ms\n",
      "93:\tlearn: 0.5052507\ttotal: 427ms\tremaining: 27.3ms\n",
      "94:\tlearn: 0.5049099\ttotal: 432ms\tremaining: 22.7ms\n",
      "95:\tlearn: 0.5044041\ttotal: 437ms\tremaining: 18.2ms\n",
      "96:\tlearn: 0.5037413\ttotal: 442ms\tremaining: 13.7ms\n",
      "97:\tlearn: 0.5034605\ttotal: 446ms\tremaining: 9.11ms\n",
      "98:\tlearn: 0.5032664\ttotal: 451ms\tremaining: 4.55ms\n",
      "99:\tlearn: 0.5028550\ttotal: 455ms\tremaining: 0us\n",
      "0:\tlearn: 0.6708435\ttotal: 3.96ms\tremaining: 392ms\n",
      "1:\tlearn: 0.6528397\ttotal: 9.05ms\tremaining: 443ms\n",
      "2:\tlearn: 0.6372155\ttotal: 13.6ms\tremaining: 438ms\n",
      "3:\tlearn: 0.6245233\ttotal: 18.2ms\tremaining: 437ms\n",
      "4:\tlearn: 0.6135492\ttotal: 22.8ms\tremaining: 432ms\n",
      "5:\tlearn: 0.6042714\ttotal: 27.2ms\tremaining: 427ms\n",
      "6:\tlearn: 0.5965205\ttotal: 31.9ms\tremaining: 423ms\n",
      "7:\tlearn: 0.5897780\ttotal: 36.3ms\tremaining: 418ms\n",
      "8:\tlearn: 0.5839339\ttotal: 41.2ms\tremaining: 417ms\n",
      "9:\tlearn: 0.5793152\ttotal: 45.3ms\tremaining: 407ms\n",
      "10:\tlearn: 0.5750527\ttotal: 50.2ms\tremaining: 406ms\n",
      "11:\tlearn: 0.5724250\ttotal: 53.1ms\tremaining: 389ms\n",
      "12:\tlearn: 0.5691034\ttotal: 57.5ms\tremaining: 385ms\n",
      "13:\tlearn: 0.5659338\ttotal: 62ms\tremaining: 381ms\n",
      "14:\tlearn: 0.5634913\ttotal: 66.6ms\tremaining: 377ms\n",
      "15:\tlearn: 0.5611644\ttotal: 71.1ms\tremaining: 373ms\n",
      "16:\tlearn: 0.5591650\ttotal: 75.6ms\tremaining: 369ms\n",
      "17:\tlearn: 0.5573393\ttotal: 80.3ms\tremaining: 366ms\n",
      "18:\tlearn: 0.5558368\ttotal: 85.2ms\tremaining: 363ms\n",
      "19:\tlearn: 0.5542838\ttotal: 89.7ms\tremaining: 359ms\n",
      "20:\tlearn: 0.5525307\ttotal: 94.3ms\tremaining: 355ms\n",
      "21:\tlearn: 0.5518151\ttotal: 97.9ms\tremaining: 347ms\n",
      "22:\tlearn: 0.5505347\ttotal: 102ms\tremaining: 343ms\n",
      "23:\tlearn: 0.5490178\ttotal: 107ms\tremaining: 338ms\n",
      "24:\tlearn: 0.5480434\ttotal: 112ms\tremaining: 336ms\n",
      "25:\tlearn: 0.5471982\ttotal: 117ms\tremaining: 332ms\n",
      "26:\tlearn: 0.5462217\ttotal: 121ms\tremaining: 328ms\n",
      "27:\tlearn: 0.5451183\ttotal: 126ms\tremaining: 324ms\n",
      "28:\tlearn: 0.5444076\ttotal: 131ms\tremaining: 320ms\n",
      "29:\tlearn: 0.5430800\ttotal: 135ms\tremaining: 316ms\n",
      "30:\tlearn: 0.5422833\ttotal: 140ms\tremaining: 311ms\n",
      "31:\tlearn: 0.5410764\ttotal: 144ms\tremaining: 307ms\n",
      "32:\tlearn: 0.5407249\ttotal: 148ms\tremaining: 301ms\n",
      "33:\tlearn: 0.5398590\ttotal: 153ms\tremaining: 297ms\n",
      "34:\tlearn: 0.5390573\ttotal: 157ms\tremaining: 292ms\n",
      "35:\tlearn: 0.5384070\ttotal: 162ms\tremaining: 288ms\n",
      "36:\tlearn: 0.5377580\ttotal: 167ms\tremaining: 284ms\n",
      "37:\tlearn: 0.5372196\ttotal: 172ms\tremaining: 280ms\n",
      "38:\tlearn: 0.5366377\ttotal: 176ms\tremaining: 275ms\n",
      "39:\tlearn: 0.5362321\ttotal: 181ms\tremaining: 271ms\n",
      "40:\tlearn: 0.5351939\ttotal: 186ms\tremaining: 267ms\n",
      "41:\tlearn: 0.5344083\ttotal: 191ms\tremaining: 263ms\n",
      "42:\tlearn: 0.5339880\ttotal: 195ms\tremaining: 259ms\n",
      "43:\tlearn: 0.5329404\ttotal: 201ms\tremaining: 255ms\n",
      "44:\tlearn: 0.5322944\ttotal: 206ms\tremaining: 252ms\n",
      "45:\tlearn: 0.5318535\ttotal: 211ms\tremaining: 247ms\n",
      "46:\tlearn: 0.5312645\ttotal: 215ms\tremaining: 243ms\n",
      "47:\tlearn: 0.5305988\ttotal: 220ms\tremaining: 239ms\n",
      "48:\tlearn: 0.5295471\ttotal: 225ms\tremaining: 234ms\n",
      "49:\tlearn: 0.5290637\ttotal: 230ms\tremaining: 230ms\n",
      "50:\tlearn: 0.5285605\ttotal: 235ms\tremaining: 226ms\n",
      "51:\tlearn: 0.5285430\ttotal: 238ms\tremaining: 220ms\n",
      "52:\tlearn: 0.5274070\ttotal: 243ms\tremaining: 216ms\n",
      "53:\tlearn: 0.5269446\ttotal: 247ms\tremaining: 211ms\n",
      "54:\tlearn: 0.5260481\ttotal: 252ms\tremaining: 206ms\n",
      "55:\tlearn: 0.5252018\ttotal: 258ms\tremaining: 202ms\n",
      "56:\tlearn: 0.5247111\ttotal: 262ms\tremaining: 198ms\n",
      "57:\tlearn: 0.5242384\ttotal: 267ms\tremaining: 193ms\n",
      "58:\tlearn: 0.5237510\ttotal: 272ms\tremaining: 189ms\n",
      "59:\tlearn: 0.5231657\ttotal: 277ms\tremaining: 184ms\n",
      "60:\tlearn: 0.5226068\ttotal: 281ms\tremaining: 180ms\n",
      "61:\tlearn: 0.5220144\ttotal: 286ms\tremaining: 175ms\n",
      "62:\tlearn: 0.5216353\ttotal: 291ms\tremaining: 171ms\n",
      "63:\tlearn: 0.5212505\ttotal: 295ms\tremaining: 166ms\n",
      "64:\tlearn: 0.5206082\ttotal: 300ms\tremaining: 162ms\n",
      "65:\tlearn: 0.5200240\ttotal: 305ms\tremaining: 157ms\n",
      "66:\tlearn: 0.5195678\ttotal: 310ms\tremaining: 152ms\n",
      "67:\tlearn: 0.5190155\ttotal: 314ms\tremaining: 148ms\n",
      "68:\tlearn: 0.5184326\ttotal: 319ms\tremaining: 143ms\n",
      "69:\tlearn: 0.5180603\ttotal: 324ms\tremaining: 139ms\n",
      "70:\tlearn: 0.5179622\ttotal: 327ms\tremaining: 134ms\n",
      "71:\tlearn: 0.5174041\ttotal: 332ms\tremaining: 129ms\n",
      "72:\tlearn: 0.5169552\ttotal: 336ms\tremaining: 124ms\n",
      "73:\tlearn: 0.5161907\ttotal: 341ms\tremaining: 120ms\n",
      "74:\tlearn: 0.5158311\ttotal: 345ms\tremaining: 115ms\n",
      "75:\tlearn: 0.5154726\ttotal: 350ms\tremaining: 110ms\n",
      "76:\tlearn: 0.5151253\ttotal: 354ms\tremaining: 106ms\n",
      "77:\tlearn: 0.5146849\ttotal: 358ms\tremaining: 101ms\n",
      "78:\tlearn: 0.5139925\ttotal: 363ms\tremaining: 96.5ms\n",
      "79:\tlearn: 0.5132231\ttotal: 367ms\tremaining: 91.8ms\n",
      "80:\tlearn: 0.5126843\ttotal: 372ms\tremaining: 87.3ms\n",
      "81:\tlearn: 0.5119282\ttotal: 377ms\tremaining: 82.7ms\n",
      "82:\tlearn: 0.5112854\ttotal: 381ms\tremaining: 78.1ms\n",
      "83:\tlearn: 0.5109714\ttotal: 385ms\tremaining: 73.4ms\n",
      "84:\tlearn: 0.5106462\ttotal: 390ms\tremaining: 68.8ms\n",
      "85:\tlearn: 0.5104063\ttotal: 395ms\tremaining: 64.3ms\n",
      "86:\tlearn: 0.5099989\ttotal: 399ms\tremaining: 59.6ms\n",
      "87:\tlearn: 0.5094606\ttotal: 404ms\tremaining: 55.1ms\n",
      "88:\tlearn: 0.5089458\ttotal: 409ms\tremaining: 50.6ms\n",
      "89:\tlearn: 0.5084514\ttotal: 414ms\tremaining: 46ms\n",
      "90:\tlearn: 0.5084427\ttotal: 417ms\tremaining: 41.2ms\n",
      "91:\tlearn: 0.5079687\ttotal: 422ms\tremaining: 36.7ms\n",
      "92:\tlearn: 0.5076855\ttotal: 426ms\tremaining: 32.1ms\n",
      "93:\tlearn: 0.5072823\ttotal: 431ms\tremaining: 27.5ms\n",
      "94:\tlearn: 0.5070009\ttotal: 435ms\tremaining: 22.9ms\n",
      "95:\tlearn: 0.5067006\ttotal: 440ms\tremaining: 18.3ms\n",
      "96:\tlearn: 0.5064443\ttotal: 444ms\tremaining: 13.7ms\n",
      "97:\tlearn: 0.5060983\ttotal: 449ms\tremaining: 9.16ms\n",
      "98:\tlearn: 0.5056743\ttotal: 454ms\tremaining: 4.58ms\n",
      "99:\tlearn: 0.5053506\ttotal: 458ms\tremaining: 0us\n",
      "0:\tlearn: 0.6698418\ttotal: 6.84ms\tremaining: 677ms\n",
      "1:\tlearn: 0.6509838\ttotal: 11.5ms\tremaining: 565ms\n",
      "2:\tlearn: 0.6350606\ttotal: 15.9ms\tremaining: 516ms\n",
      "3:\tlearn: 0.6220250\ttotal: 20.6ms\tremaining: 494ms\n",
      "4:\tlearn: 0.6103550\ttotal: 25.4ms\tremaining: 483ms\n",
      "5:\tlearn: 0.6004119\ttotal: 30.5ms\tremaining: 477ms\n",
      "6:\tlearn: 0.5920137\ttotal: 35.3ms\tremaining: 469ms\n",
      "7:\tlearn: 0.5849072\ttotal: 40ms\tremaining: 460ms\n",
      "8:\tlearn: 0.5789898\ttotal: 44.7ms\tremaining: 452ms\n",
      "9:\tlearn: 0.5742555\ttotal: 49ms\tremaining: 441ms\n",
      "10:\tlearn: 0.5698501\ttotal: 53.8ms\tremaining: 435ms\n",
      "11:\tlearn: 0.5658334\ttotal: 58.6ms\tremaining: 430ms\n",
      "12:\tlearn: 0.5627842\ttotal: 63.7ms\tremaining: 426ms\n",
      "13:\tlearn: 0.5600233\ttotal: 68.4ms\tremaining: 420ms\n",
      "14:\tlearn: 0.5575044\ttotal: 73.3ms\tremaining: 415ms\n",
      "15:\tlearn: 0.5553394\ttotal: 78.2ms\tremaining: 410ms\n",
      "16:\tlearn: 0.5533338\ttotal: 83ms\tremaining: 405ms\n",
      "17:\tlearn: 0.5516619\ttotal: 87.6ms\tremaining: 399ms\n",
      "18:\tlearn: 0.5499739\ttotal: 92.5ms\tremaining: 394ms\n",
      "19:\tlearn: 0.5484709\ttotal: 97.2ms\tremaining: 389ms\n",
      "20:\tlearn: 0.5471086\ttotal: 102ms\tremaining: 383ms\n",
      "21:\tlearn: 0.5457771\ttotal: 107ms\tremaining: 379ms\n",
      "22:\tlearn: 0.5438480\ttotal: 112ms\tremaining: 374ms\n",
      "23:\tlearn: 0.5422179\ttotal: 116ms\tremaining: 368ms\n",
      "24:\tlearn: 0.5408120\ttotal: 121ms\tremaining: 363ms\n",
      "25:\tlearn: 0.5399380\ttotal: 126ms\tremaining: 358ms\n",
      "26:\tlearn: 0.5389960\ttotal: 131ms\tremaining: 354ms\n",
      "27:\tlearn: 0.5379747\ttotal: 136ms\tremaining: 349ms\n",
      "28:\tlearn: 0.5371619\ttotal: 140ms\tremaining: 343ms\n",
      "29:\tlearn: 0.5362990\ttotal: 144ms\tremaining: 337ms\n",
      "30:\tlearn: 0.5354055\ttotal: 149ms\tremaining: 332ms\n",
      "31:\tlearn: 0.5343202\ttotal: 154ms\tremaining: 328ms\n",
      "32:\tlearn: 0.5335594\ttotal: 159ms\tremaining: 322ms\n",
      "33:\tlearn: 0.5327944\ttotal: 163ms\tremaining: 317ms\n",
      "34:\tlearn: 0.5319805\ttotal: 168ms\tremaining: 312ms\n",
      "35:\tlearn: 0.5310048\ttotal: 172ms\tremaining: 306ms\n",
      "36:\tlearn: 0.5300753\ttotal: 177ms\tremaining: 301ms\n",
      "37:\tlearn: 0.5293548\ttotal: 182ms\tremaining: 296ms\n",
      "38:\tlearn: 0.5291383\ttotal: 185ms\tremaining: 290ms\n",
      "39:\tlearn: 0.5283987\ttotal: 190ms\tremaining: 285ms\n",
      "40:\tlearn: 0.5275199\ttotal: 195ms\tremaining: 280ms\n",
      "41:\tlearn: 0.5267766\ttotal: 200ms\tremaining: 276ms\n",
      "42:\tlearn: 0.5259242\ttotal: 204ms\tremaining: 270ms\n",
      "43:\tlearn: 0.5251968\ttotal: 209ms\tremaining: 266ms\n",
      "44:\tlearn: 0.5245860\ttotal: 214ms\tremaining: 261ms\n",
      "45:\tlearn: 0.5240308\ttotal: 218ms\tremaining: 256ms\n",
      "46:\tlearn: 0.5233625\ttotal: 223ms\tremaining: 252ms\n",
      "47:\tlearn: 0.5229858\ttotal: 228ms\tremaining: 247ms\n",
      "48:\tlearn: 0.5226518\ttotal: 232ms\tremaining: 242ms\n",
      "49:\tlearn: 0.5221406\ttotal: 237ms\tremaining: 237ms\n",
      "50:\tlearn: 0.5216324\ttotal: 242ms\tremaining: 232ms\n",
      "51:\tlearn: 0.5210555\ttotal: 247ms\tremaining: 228ms\n",
      "52:\tlearn: 0.5207339\ttotal: 251ms\tremaining: 223ms\n",
      "53:\tlearn: 0.5201895\ttotal: 256ms\tremaining: 218ms\n",
      "54:\tlearn: 0.5201492\ttotal: 259ms\tremaining: 212ms\n",
      "55:\tlearn: 0.5195761\ttotal: 263ms\tremaining: 207ms\n",
      "56:\tlearn: 0.5190453\ttotal: 268ms\tremaining: 202ms\n",
      "57:\tlearn: 0.5186678\ttotal: 272ms\tremaining: 197ms\n",
      "58:\tlearn: 0.5181301\ttotal: 277ms\tremaining: 192ms\n",
      "59:\tlearn: 0.5178196\ttotal: 281ms\tremaining: 188ms\n",
      "60:\tlearn: 0.5171584\ttotal: 286ms\tremaining: 183ms\n",
      "61:\tlearn: 0.5166892\ttotal: 291ms\tremaining: 178ms\n",
      "62:\tlearn: 0.5161984\ttotal: 296ms\tremaining: 174ms\n",
      "63:\tlearn: 0.5157584\ttotal: 302ms\tremaining: 170ms\n",
      "64:\tlearn: 0.5150870\ttotal: 307ms\tremaining: 165ms\n",
      "65:\tlearn: 0.5144614\ttotal: 313ms\tremaining: 161ms\n",
      "66:\tlearn: 0.5140297\ttotal: 319ms\tremaining: 157ms\n",
      "67:\tlearn: 0.5133694\ttotal: 324ms\tremaining: 152ms\n",
      "68:\tlearn: 0.5129241\ttotal: 329ms\tremaining: 148ms\n",
      "69:\tlearn: 0.5125308\ttotal: 334ms\tremaining: 143ms\n",
      "70:\tlearn: 0.5120116\ttotal: 338ms\tremaining: 138ms\n",
      "71:\tlearn: 0.5115437\ttotal: 343ms\tremaining: 133ms\n",
      "72:\tlearn: 0.5110987\ttotal: 348ms\tremaining: 129ms\n",
      "73:\tlearn: 0.5107977\ttotal: 353ms\tremaining: 124ms\n",
      "74:\tlearn: 0.5100821\ttotal: 358ms\tremaining: 119ms\n",
      "75:\tlearn: 0.5099684\ttotal: 362ms\tremaining: 114ms\n",
      "76:\tlearn: 0.5094385\ttotal: 367ms\tremaining: 110ms\n",
      "77:\tlearn: 0.5087729\ttotal: 372ms\tremaining: 105ms\n",
      "78:\tlearn: 0.5080838\ttotal: 377ms\tremaining: 100ms\n",
      "79:\tlearn: 0.5075621\ttotal: 382ms\tremaining: 95.5ms\n",
      "80:\tlearn: 0.5071164\ttotal: 387ms\tremaining: 90.7ms\n",
      "81:\tlearn: 0.5069055\ttotal: 391ms\tremaining: 85.9ms\n",
      "82:\tlearn: 0.5064278\ttotal: 396ms\tremaining: 81.1ms\n",
      "83:\tlearn: 0.5058804\ttotal: 401ms\tremaining: 76.4ms\n",
      "84:\tlearn: 0.5054379\ttotal: 407ms\tremaining: 71.8ms\n",
      "85:\tlearn: 0.5051782\ttotal: 412ms\tremaining: 67ms\n",
      "86:\tlearn: 0.5048733\ttotal: 417ms\tremaining: 62.3ms\n",
      "87:\tlearn: 0.5044598\ttotal: 421ms\tremaining: 57.5ms\n",
      "88:\tlearn: 0.5038967\ttotal: 426ms\tremaining: 52.7ms\n",
      "89:\tlearn: 0.5036818\ttotal: 431ms\tremaining: 47.9ms\n",
      "90:\tlearn: 0.5030231\ttotal: 436ms\tremaining: 43.1ms\n",
      "91:\tlearn: 0.5026888\ttotal: 441ms\tremaining: 38.3ms\n",
      "92:\tlearn: 0.5023220\ttotal: 445ms\tremaining: 33.5ms\n",
      "93:\tlearn: 0.5020045\ttotal: 450ms\tremaining: 28.7ms\n",
      "94:\tlearn: 0.5016504\ttotal: 455ms\tremaining: 24ms\n",
      "95:\tlearn: 0.5013614\ttotal: 460ms\tremaining: 19.2ms\n",
      "96:\tlearn: 0.5012640\ttotal: 465ms\tremaining: 14.4ms\n",
      "97:\tlearn: 0.5008992\ttotal: 470ms\tremaining: 9.6ms\n",
      "98:\tlearn: 0.5004548\ttotal: 475ms\tremaining: 4.79ms\n",
      "99:\tlearn: 0.5001563\ttotal: 480ms\tremaining: 0us\n"
     ]
    }
   ],
   "source": [
    "\n",
    "\n",
    "# Initialize the results dictionary\n",
    "model_results = {}\n",
    "\n",
    "# Dictionary to store the results\n",
    "results = {\n",
    "    'Model': [],\n",
    "    'CV_Score (Recall)': [],\n",
    "    'Accuracy': [],\n",
    "    'Precision': [],\n",
    "    'F1 Score': []\n",
    "}\n",
    "\n",
    "# Define the recall scorer for cross-validation\n",
    "recall_scorer = make_scorer(recall_score)\n",
    "\n",
    "# Assuming you have defined your models (e.g., models = {'Model1': model1, 'Model2': model2, ...})\n",
    "for name, model in models.items():\n",
    "    # Train the model\n",
    "    model.fit(X_train, y_train)\n",
    "    \n",
    "    # Predict on the train set\n",
    "    y_pred = model.predict(X_train)\n",
    "    \n",
    "    # Perform cross-validation using recall as the scoring metric\n",
    "    cv_score = np.mean(cross_val_score(model, X_train, y_train, cv=5, scoring=recall_scorer))\n",
    "    \n",
    "    # Append results to the dictionary\n",
    "    results['Model'].append(name)\n",
    "    results['CV_Score (Recall)'].append(cv_score)\n",
    "    results['Accuracy'].append(accuracy_score(y_train, y_pred))\n",
    "    results['Precision'].append(precision_score(y_train, y_pred))\n",
    "    results['F1 Score'].append(f1_score(y_train, y_pred))\n",
    "    \n",
    "    # Store the classification report for each model\n",
    "    model_results[name] = classification_report(y_train, y_pred)\n",
    "\n",
    "results_df = pd.DataFrame(results)\n"
   ]
  },
  {
   "cell_type": "code",
   "execution_count": 84,
   "id": "cf5846a3-63b0-4dc1-9eb9-05af6b745d67",
   "metadata": {},
   "outputs": [
    {
     "data": {
      "text/html": [
       "<style type=\"text/css\">\n",
       "#T_16e49_row0_col1, #T_16e49_row0_col2, #T_16e49_row0_col4, #T_16e49_row4_col3 {\n",
       "  background-color: #0000ff;\n",
       "  color: #f1f1f1;\n",
       "}\n",
       "#T_16e49_row0_col3, #T_16e49_row5_col2, #T_16e49_row6_col1, #T_16e49_row6_col2, #T_16e49_row6_col4 {\n",
       "  background-color: #ff0000;\n",
       "  color: #f1f1f1;\n",
       "}\n",
       "#T_16e49_row1_col1 {\n",
       "  background-color: #ffb8b8;\n",
       "  color: #000000;\n",
       "}\n",
       "#T_16e49_row1_col2 {\n",
       "  background-color: #8888ff;\n",
       "  color: #f1f1f1;\n",
       "}\n",
       "#T_16e49_row1_col3 {\n",
       "  background-color: #2424ff;\n",
       "  color: #f1f1f1;\n",
       "}\n",
       "#T_16e49_row1_col4 {\n",
       "  background-color: #ffecec;\n",
       "  color: #000000;\n",
       "}\n",
       "#T_16e49_row2_col1 {\n",
       "  background-color: #ffa6a6;\n",
       "  color: #000000;\n",
       "}\n",
       "#T_16e49_row2_col2 {\n",
       "  background-color: #9292ff;\n",
       "  color: #f1f1f1;\n",
       "}\n",
       "#T_16e49_row2_col3 {\n",
       "  background-color: #1e1eff;\n",
       "  color: #f1f1f1;\n",
       "}\n",
       "#T_16e49_row2_col4 {\n",
       "  background-color: #ffe0e0;\n",
       "  color: #000000;\n",
       "}\n",
       "#T_16e49_row3_col1 {\n",
       "  background-color: #ffa4a4;\n",
       "  color: #000000;\n",
       "}\n",
       "#T_16e49_row3_col2 {\n",
       "  background-color: #aeaeff;\n",
       "  color: #000000;\n",
       "}\n",
       "#T_16e49_row3_col3 {\n",
       "  background-color: #4444ff;\n",
       "  color: #f1f1f1;\n",
       "}\n",
       "#T_16e49_row3_col4 {\n",
       "  background-color: #ffd2d2;\n",
       "  color: #000000;\n",
       "}\n",
       "#T_16e49_row4_col1 {\n",
       "  background-color: #ff9494;\n",
       "  color: #000000;\n",
       "}\n",
       "#T_16e49_row4_col2 {\n",
       "  background-color: #8e8eff;\n",
       "  color: #f1f1f1;\n",
       "}\n",
       "#T_16e49_row4_col4 {\n",
       "  background-color: #ffdada;\n",
       "  color: #000000;\n",
       "}\n",
       "#T_16e49_row5_col1 {\n",
       "  background-color: #ff1212;\n",
       "  color: #f1f1f1;\n",
       "}\n",
       "#T_16e49_row5_col3 {\n",
       "  background-color: #ffb6b6;\n",
       "  color: #000000;\n",
       "}\n",
       "#T_16e49_row5_col4 {\n",
       "  background-color: #ff0202;\n",
       "  color: #f1f1f1;\n",
       "}\n",
       "#T_16e49_row6_col3 {\n",
       "  background-color: #ffd0d0;\n",
       "  color: #000000;\n",
       "}\n",
       "#T_16e49_row7_col1 {\n",
       "  background-color: #ff4646;\n",
       "  color: #f1f1f1;\n",
       "}\n",
       "#T_16e49_row7_col2 {\n",
       "  background-color: #ff5e5e;\n",
       "  color: #f1f1f1;\n",
       "}\n",
       "#T_16e49_row7_col3 {\n",
       "  background-color: #fff0f0;\n",
       "  color: #000000;\n",
       "}\n",
       "#T_16e49_row7_col4 {\n",
       "  background-color: #ff3e3e;\n",
       "  color: #f1f1f1;\n",
       "}\n",
       "#T_16e49_row8_col1 {\n",
       "  background-color: #ff8e8e;\n",
       "  color: #000000;\n",
       "}\n",
       "#T_16e49_row8_col2 {\n",
       "  background-color: #e6e6ff;\n",
       "  color: #000000;\n",
       "}\n",
       "#T_16e49_row8_col3 {\n",
       "  background-color: #7a7aff;\n",
       "  color: #f1f1f1;\n",
       "}\n",
       "#T_16e49_row8_col4 {\n",
       "  background-color: #ffb2b2;\n",
       "  color: #000000;\n",
       "}\n",
       "</style>\n",
       "<table id=\"T_16e49\">\n",
       "  <thead>\n",
       "    <tr>\n",
       "      <th class=\"blank level0\" >&nbsp;</th>\n",
       "      <th id=\"T_16e49_level0_col0\" class=\"col_heading level0 col0\" >Model</th>\n",
       "      <th id=\"T_16e49_level0_col1\" class=\"col_heading level0 col1\" >CV_Score (Recall)</th>\n",
       "      <th id=\"T_16e49_level0_col2\" class=\"col_heading level0 col2\" >Accuracy</th>\n",
       "      <th id=\"T_16e49_level0_col3\" class=\"col_heading level0 col3\" >Precision</th>\n",
       "      <th id=\"T_16e49_level0_col4\" class=\"col_heading level0 col4\" >F1 Score</th>\n",
       "    </tr>\n",
       "  </thead>\n",
       "  <tbody>\n",
       "    <tr>\n",
       "      <th id=\"T_16e49_level0_row0\" class=\"row_heading level0 row0\" >0</th>\n",
       "      <td id=\"T_16e49_row0_col0\" class=\"data row0 col0\" >k-NN</td>\n",
       "      <td id=\"T_16e49_row0_col1\" class=\"data row0 col1\" >0.514273</td>\n",
       "      <td id=\"T_16e49_row0_col2\" class=\"data row0 col2\" >0.696426</td>\n",
       "      <td id=\"T_16e49_row0_col3\" class=\"data row0 col3\" >0.845619</td>\n",
       "      <td id=\"T_16e49_row0_col4\" class=\"data row0 col4\" >0.612870</td>\n",
       "    </tr>\n",
       "    <tr>\n",
       "      <th id=\"T_16e49_level0_row1\" class=\"row_heading level0 row1\" >1</th>\n",
       "      <td id=\"T_16e49_row1_col0\" class=\"data row1 col0\" >Naive Bayes</td>\n",
       "      <td id=\"T_16e49_row1_col1\" class=\"data row1 col1\" >0.769150</td>\n",
       "      <td id=\"T_16e49_row1_col2\" class=\"data row1 col2\" >0.736195</td>\n",
       "      <td id=\"T_16e49_row1_col3\" class=\"data row1 col3\" >0.721589</td>\n",
       "      <td id=\"T_16e49_row1_col4\" class=\"data row1 col4\" >0.744611</td>\n",
       "    </tr>\n",
       "    <tr>\n",
       "      <th id=\"T_16e49_level0_row2\" class=\"row_heading level0 row2\" >2</th>\n",
       "      <td id=\"T_16e49_row2_col0\" class=\"data row2 col0\" >AdaBoost</td>\n",
       "      <td id=\"T_16e49_row2_col1\" class=\"data row2 col1\" >0.783066</td>\n",
       "      <td id=\"T_16e49_row2_col2\" class=\"data row2 col2\" >0.739124</td>\n",
       "      <td id=\"T_16e49_row2_col3\" class=\"data row2 col3\" >0.719688</td>\n",
       "      <td id=\"T_16e49_row2_col4\" class=\"data row2 col4\" >0.750175</td>\n",
       "    </tr>\n",
       "    <tr>\n",
       "      <th id=\"T_16e49_level0_row3\" class=\"row_heading level0 row3\" >3</th>\n",
       "      <td id=\"T_16e49_row3_col0\" class=\"data row3 col0\" >Gradient Boosting</td>\n",
       "      <td id=\"T_16e49_row3_col1\" class=\"data row3 col1\" >0.785117</td>\n",
       "      <td id=\"T_16e49_row3_col2\" class=\"data row3 col2\" >0.747107</td>\n",
       "      <td id=\"T_16e49_row3_col3\" class=\"data row3 col3\" >0.729524</td>\n",
       "      <td id=\"T_16e49_row3_col4\" class=\"data row3 col4\" >0.756436</td>\n",
       "    </tr>\n",
       "    <tr>\n",
       "      <th id=\"T_16e49_level0_row4\" class=\"row_heading level0 row4\" >4</th>\n",
       "      <td id=\"T_16e49_row4_col0\" class=\"data row4 col0\" >LDA</td>\n",
       "      <td id=\"T_16e49_row4_col1\" class=\"data row4 col1\" >0.797567</td>\n",
       "      <td id=\"T_16e49_row4_col2\" class=\"data row4 col2\" >0.737659</td>\n",
       "      <td id=\"T_16e49_row4_col3\" class=\"data row4 col3\" >0.711732</td>\n",
       "      <td id=\"T_16e49_row4_col4\" class=\"data row4 col4\" >0.752795</td>\n",
       "    </tr>\n",
       "    <tr>\n",
       "      <th id=\"T_16e49_level0_row5\" class=\"row_heading level0 row5\" >5</th>\n",
       "      <td id=\"T_16e49_row5_col0\" class=\"data row5 col0\" >Decision Tree</td>\n",
       "      <td id=\"T_16e49_row5_col1\" class=\"data row5 col1\" >0.897902</td>\n",
       "      <td id=\"T_16e49_row5_col2\" class=\"data row5 col2\" >0.844368</td>\n",
       "      <td id=\"T_16e49_row5_col3\" class=\"data row5 col3\" >0.797670</td>\n",
       "      <td id=\"T_16e49_row5_col4\" class=\"data row5 col4\" >0.855688</td>\n",
       "    </tr>\n",
       "    <tr>\n",
       "      <th id=\"T_16e49_level0_row6\" class=\"row_heading level0 row6\" >6</th>\n",
       "      <td id=\"T_16e49_row6_col0\" class=\"data row6 col0\" >Random Forest</td>\n",
       "      <td id=\"T_16e49_row6_col1\" class=\"data row6 col1\" >0.913282</td>\n",
       "      <td id=\"T_16e49_row6_col2\" class=\"data row6 col2\" >0.844368</td>\n",
       "      <td id=\"T_16e49_row6_col3\" class=\"data row6 col3\" >0.790821</td>\n",
       "      <td id=\"T_16e49_row6_col4\" class=\"data row6 col4\" >0.857488</td>\n",
       "    </tr>\n",
       "    <tr>\n",
       "      <th id=\"T_16e49_level0_row7\" class=\"row_heading level0 row7\" >7</th>\n",
       "      <td id=\"T_16e49_row7_col0\" class=\"data row7 col0\" >XGBoost</td>\n",
       "      <td id=\"T_16e49_row7_col1\" class=\"data row7 col1\" >0.857184</td>\n",
       "      <td id=\"T_16e49_row7_col2\" class=\"data row7 col2\" >0.817050</td>\n",
       "      <td id=\"T_16e49_row7_col3\" class=\"data row7 col3\" >0.782609</td>\n",
       "      <td id=\"T_16e49_row7_col4\" class=\"data row7 col4\" >0.827558</td>\n",
       "    </tr>\n",
       "    <tr>\n",
       "      <th id=\"T_16e49_level0_row8\" class=\"row_heading level0 row8\" >8</th>\n",
       "      <td id=\"T_16e49_row8_col0\" class=\"data row8 col0\" >CatBoost</td>\n",
       "      <td id=\"T_16e49_row8_col1\" class=\"data row8 col1\" >0.801083</td>\n",
       "      <td id=\"T_16e49_row8_col2\" class=\"data row8 col2\" >0.763073</td>\n",
       "      <td id=\"T_16e49_row8_col3\" class=\"data row8 col3\" >0.743955</td>\n",
       "      <td id=\"T_16e49_row8_col4\" class=\"data row8 col4\" >0.772006</td>\n",
       "    </tr>\n",
       "  </tbody>\n",
       "</table>\n"
      ],
      "text/plain": [
       "<pandas.io.formats.style.Styler at 0x1bb8c6d3230>"
      ]
     },
     "execution_count": 84,
     "metadata": {},
     "output_type": "execute_result"
    }
   ],
   "source": [
    "results_df = pd.DataFrame(results)\n",
    "\n",
    "results_df.style.background_gradient(cmap='bwr', axis=0)"
   ]
  }
 ],
 "metadata": {
  "kernelspec": {
   "display_name": "Python 3 (ipykernel)",
   "language": "python",
   "name": "python3"
  },
  "language_info": {
   "codemirror_mode": {
    "name": "ipython",
    "version": 3
   },
   "file_extension": ".py",
   "mimetype": "text/x-python",
   "name": "python",
   "nbconvert_exporter": "python",
   "pygments_lexer": "ipython3",
   "version": "3.12.0"
  }
 },
 "nbformat": 4,
 "nbformat_minor": 5
}
